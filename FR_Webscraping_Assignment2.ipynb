{
 "cells": [
  {
   "cell_type": "markdown",
   "metadata": {},
   "source": [
    "# Question 1"
   ]
  },
  {
   "cell_type": "code",
   "execution_count": 1,
   "metadata": {},
   "outputs": [
    {
     "name": "stdout",
     "output_type": "stream",
     "text": [
      "Requirement already satisfied: selenium in c:\\users\\abhilash\\anaconda3\\lib\\site-packages (3.141.0)\n",
      "Requirement already satisfied: urllib3 in c:\\users\\abhilash\\anaconda3\\lib\\site-packages (from selenium) (1.25.11)\n"
     ]
    }
   ],
   "source": [
    "!pip install selenium"
   ]
  },
  {
   "cell_type": "code",
   "execution_count": 2,
   "metadata": {},
   "outputs": [],
   "source": [
    "import selenium\n",
    "import pandas as pd\n",
    "from selenium import webdriver"
   ]
  },
  {
   "cell_type": "code",
   "execution_count": 4,
   "metadata": {},
   "outputs": [],
   "source": [
    "driver = webdriver.Edge(r\"C:\\Users\\Abhilash\\Desktop\\msedgedriver.exe\")"
   ]
  },
  {
   "cell_type": "code",
   "execution_count": 5,
   "metadata": {},
   "outputs": [],
   "source": [
    "url = 'https://www.naukri.com/'\n",
    "driver.get(url)"
   ]
  },
  {
   "cell_type": "code",
   "execution_count": 6,
   "metadata": {},
   "outputs": [
    {
     "data": {
      "text/plain": [
       "<selenium.webdriver.remote.webelement.WebElement (session=\"0259e7284c6db8bd5c67d118a884ddb4\", element=\"686754ef-430b-4ada-b49c-ba6066880134\")>"
      ]
     },
     "execution_count": 6,
     "metadata": {},
     "output_type": "execute_result"
    }
   ],
   "source": [
    "#finding element by id\n",
    "search_job = driver.find_element_by_id('qsb-keyword-sugg')\n",
    "search_job"
   ]
  },
  {
   "cell_type": "code",
   "execution_count": 7,
   "metadata": {},
   "outputs": [],
   "source": [
    "search_job.send_keys(\"Data Analyst\")"
   ]
  },
  {
   "cell_type": "code",
   "execution_count": 8,
   "metadata": {},
   "outputs": [],
   "source": [
    "search_loc = driver.find_element_by_id(\"qsb-location-sugg\")\n",
    "search_loc.send_keys(\"Bangalore\")"
   ]
  },
  {
   "cell_type": "code",
   "execution_count": 9,
   "metadata": {},
   "outputs": [],
   "source": [
    "search_btn = driver.find_element_by_class_name('btn')\n",
    "search_btn.click()"
   ]
  },
  {
   "cell_type": "code",
   "execution_count": 10,
   "metadata": {},
   "outputs": [
    {
     "data": {
      "text/plain": [
       "[<selenium.webdriver.remote.webelement.WebElement (session=\"0259e7284c6db8bd5c67d118a884ddb4\", element=\"775b739c-8354-4182-80c4-5775b430894e\")>,\n",
       " <selenium.webdriver.remote.webelement.WebElement (session=\"0259e7284c6db8bd5c67d118a884ddb4\", element=\"12996d05-29bb-4bbe-af1c-2768beaef6ce\")>,\n",
       " <selenium.webdriver.remote.webelement.WebElement (session=\"0259e7284c6db8bd5c67d118a884ddb4\", element=\"5b7ea200-e499-4962-ae27-938022fe14dd\")>,\n",
       " <selenium.webdriver.remote.webelement.WebElement (session=\"0259e7284c6db8bd5c67d118a884ddb4\", element=\"2bf53cd7-453f-4734-92f0-511866294c45\")>,\n",
       " <selenium.webdriver.remote.webelement.WebElement (session=\"0259e7284c6db8bd5c67d118a884ddb4\", element=\"a0b58d22-5ed2-41bb-8ae9-49c10bb63542\")>,\n",
       " <selenium.webdriver.remote.webelement.WebElement (session=\"0259e7284c6db8bd5c67d118a884ddb4\", element=\"9c9d92fe-032e-4ca5-88a4-f9a026673279\")>,\n",
       " <selenium.webdriver.remote.webelement.WebElement (session=\"0259e7284c6db8bd5c67d118a884ddb4\", element=\"b232d3c3-b40f-4884-94f3-549fb9c61799\")>,\n",
       " <selenium.webdriver.remote.webelement.WebElement (session=\"0259e7284c6db8bd5c67d118a884ddb4\", element=\"a3151609-f5bd-4c7d-b985-77e3fa453416\")>,\n",
       " <selenium.webdriver.remote.webelement.WebElement (session=\"0259e7284c6db8bd5c67d118a884ddb4\", element=\"0cae2bf1-e89f-49e4-8616-6483d54bea8b\")>,\n",
       " <selenium.webdriver.remote.webelement.WebElement (session=\"0259e7284c6db8bd5c67d118a884ddb4\", element=\"f83bffb9-d14c-4790-af5d-f20b17472696\")>,\n",
       " <selenium.webdriver.remote.webelement.WebElement (session=\"0259e7284c6db8bd5c67d118a884ddb4\", element=\"61ecd373-7b11-4851-87f0-dde0954edf7b\")>,\n",
       " <selenium.webdriver.remote.webelement.WebElement (session=\"0259e7284c6db8bd5c67d118a884ddb4\", element=\"19ec6dda-f267-4835-8066-dd9a00a2cc5c\")>,\n",
       " <selenium.webdriver.remote.webelement.WebElement (session=\"0259e7284c6db8bd5c67d118a884ddb4\", element=\"59333203-546f-41d6-8290-763f800284d8\")>,\n",
       " <selenium.webdriver.remote.webelement.WebElement (session=\"0259e7284c6db8bd5c67d118a884ddb4\", element=\"00e090e3-af4f-4995-8fc0-1505a10d51f9\")>,\n",
       " <selenium.webdriver.remote.webelement.WebElement (session=\"0259e7284c6db8bd5c67d118a884ddb4\", element=\"30662b32-01da-4fbb-8253-d9f585d6fa12\")>,\n",
       " <selenium.webdriver.remote.webelement.WebElement (session=\"0259e7284c6db8bd5c67d118a884ddb4\", element=\"a166e13d-890e-40ae-a275-cfa09d58d367\")>,\n",
       " <selenium.webdriver.remote.webelement.WebElement (session=\"0259e7284c6db8bd5c67d118a884ddb4\", element=\"73519aac-d6b9-46e1-9c05-6438fec86a7e\")>,\n",
       " <selenium.webdriver.remote.webelement.WebElement (session=\"0259e7284c6db8bd5c67d118a884ddb4\", element=\"a8b484a2-dcc8-4f88-86c2-1230bc56d8b6\")>,\n",
       " <selenium.webdriver.remote.webelement.WebElement (session=\"0259e7284c6db8bd5c67d118a884ddb4\", element=\"a69cb0e3-7c28-4ae0-b715-64627ab2b51d\")>,\n",
       " <selenium.webdriver.remote.webelement.WebElement (session=\"0259e7284c6db8bd5c67d118a884ddb4\", element=\"ffae4374-8d99-48f6-96b0-ead0394f5f7f\")>]"
      ]
     },
     "execution_count": 10,
     "metadata": {},
     "output_type": "execute_result"
    }
   ],
   "source": [
    "#extracting all the tags having job titles\n",
    "titles_tags=driver.find_elements_by_xpath(\"//a[@class='title fw500 ellipsis']\") #element's' gives us all the elements\n",
    "titles_tags"
   ]
  },
  {
   "cell_type": "code",
   "execution_count": 11,
   "metadata": {},
   "outputs": [
    {
     "data": {
      "text/plain": [
       "['Business Data Analyst',\n",
       " 'Business Data Analyst',\n",
       " 'Data Analyst/Business Analyst-Gurgaon/Bangalore/Mumbai (only Females)',\n",
       " 'Senior Specialist - Data Analyst',\n",
       " 'Business/Data Analyst - SSE/LA',\n",
       " 'Business Data Analyst II',\n",
       " 'Data Analyst',\n",
       " 'Data Analyst',\n",
       " 'Senior Data Analyst',\n",
       " 'Data Analyst',\n",
       " 'Data Analyst',\n",
       " 'Data Analyst',\n",
       " 'Data/Business Analyst',\n",
       " 'Senior Data Analyst',\n",
       " 'Senior Data Analyst - SQL/Tableau/Redshift',\n",
       " 'Marketing Data Analyst',\n",
       " 'Data Analyst',\n",
       " 'Data Analyst',\n",
       " 'Data Analyst',\n",
       " 'Data Analyst']"
      ]
     },
     "execution_count": 11,
     "metadata": {},
     "output_type": "execute_result"
    }
   ],
   "source": [
    "job_titles=[]\n",
    "for i in titles_tags:\n",
    "    job_titles.append(i.text.replace('\\n',''))\n",
    "job_titles"
   ]
  },
  {
   "cell_type": "code",
   "execution_count": 12,
   "metadata": {},
   "outputs": [
    {
     "data": {
      "text/plain": [
       "[<selenium.webdriver.remote.webelement.WebElement (session=\"0259e7284c6db8bd5c67d118a884ddb4\", element=\"3b2ab1da-1b02-4b3c-a97e-bada5f6069c5\")>,\n",
       " <selenium.webdriver.remote.webelement.WebElement (session=\"0259e7284c6db8bd5c67d118a884ddb4\", element=\"4c292221-514f-4bec-ae59-4fb875da0a26\")>,\n",
       " <selenium.webdriver.remote.webelement.WebElement (session=\"0259e7284c6db8bd5c67d118a884ddb4\", element=\"8b66fa42-0175-4aee-b9af-71c1db23fcea\")>,\n",
       " <selenium.webdriver.remote.webelement.WebElement (session=\"0259e7284c6db8bd5c67d118a884ddb4\", element=\"1ecbe28e-4a38-4908-acce-34d7a41ed773\")>,\n",
       " <selenium.webdriver.remote.webelement.WebElement (session=\"0259e7284c6db8bd5c67d118a884ddb4\", element=\"af0147f8-a458-4ca9-a235-afca31679564\")>,\n",
       " <selenium.webdriver.remote.webelement.WebElement (session=\"0259e7284c6db8bd5c67d118a884ddb4\", element=\"bfea9d08-a824-4cb5-b508-42cd7a086841\")>,\n",
       " <selenium.webdriver.remote.webelement.WebElement (session=\"0259e7284c6db8bd5c67d118a884ddb4\", element=\"d05de7e4-8403-4f51-9cae-b8f98813b08a\")>,\n",
       " <selenium.webdriver.remote.webelement.WebElement (session=\"0259e7284c6db8bd5c67d118a884ddb4\", element=\"09783524-3d69-4edc-89c6-67220ad7e7a1\")>,\n",
       " <selenium.webdriver.remote.webelement.WebElement (session=\"0259e7284c6db8bd5c67d118a884ddb4\", element=\"0c9bc838-fab4-42cc-8aa8-fb17370bde39\")>,\n",
       " <selenium.webdriver.remote.webelement.WebElement (session=\"0259e7284c6db8bd5c67d118a884ddb4\", element=\"ed3f10b9-2523-44f0-b79b-c4fc22656778\")>,\n",
       " <selenium.webdriver.remote.webelement.WebElement (session=\"0259e7284c6db8bd5c67d118a884ddb4\", element=\"1afa682e-3214-475c-b2f5-a6dd2aa17f20\")>,\n",
       " <selenium.webdriver.remote.webelement.WebElement (session=\"0259e7284c6db8bd5c67d118a884ddb4\", element=\"19b479c4-a9c2-4480-bfe5-93c3c6dbab01\")>,\n",
       " <selenium.webdriver.remote.webelement.WebElement (session=\"0259e7284c6db8bd5c67d118a884ddb4\", element=\"1050bf01-d711-4b00-975d-e9913e728951\")>,\n",
       " <selenium.webdriver.remote.webelement.WebElement (session=\"0259e7284c6db8bd5c67d118a884ddb4\", element=\"2d33f35c-ea48-42dd-a340-43794963fa65\")>,\n",
       " <selenium.webdriver.remote.webelement.WebElement (session=\"0259e7284c6db8bd5c67d118a884ddb4\", element=\"1011f217-6a83-47a2-b1dc-eccd54b1f0d6\")>,\n",
       " <selenium.webdriver.remote.webelement.WebElement (session=\"0259e7284c6db8bd5c67d118a884ddb4\", element=\"172c3f09-6f70-4347-a339-0539270b0462\")>,\n",
       " <selenium.webdriver.remote.webelement.WebElement (session=\"0259e7284c6db8bd5c67d118a884ddb4\", element=\"ea37c723-9609-47cc-8088-f90f24451751\")>,\n",
       " <selenium.webdriver.remote.webelement.WebElement (session=\"0259e7284c6db8bd5c67d118a884ddb4\", element=\"7651cf44-371c-47c6-876d-b8a8e63a91df\")>,\n",
       " <selenium.webdriver.remote.webelement.WebElement (session=\"0259e7284c6db8bd5c67d118a884ddb4\", element=\"d98c2af1-d6f4-4763-ad3d-04db9c44f541\")>,\n",
       " <selenium.webdriver.remote.webelement.WebElement (session=\"0259e7284c6db8bd5c67d118a884ddb4\", element=\"3daa37f3-08b6-426c-b17e-56d76177eaf7\")>]"
      ]
     },
     "execution_count": 12,
     "metadata": {},
     "output_type": "execute_result"
    }
   ],
   "source": [
    "#extracting all the company names\n",
    "companies_tags=driver.find_elements_by_xpath(\"//a[@class='subTitle ellipsis fleft']\")\n",
    "companies_tags"
   ]
  },
  {
   "cell_type": "code",
   "execution_count": 13,
   "metadata": {},
   "outputs": [
    {
     "data": {
      "text/plain": [
       "['Trigent Software',\n",
       " 'Trigent Software',\n",
       " 'India Medtronic Pvt. Ltd,.',\n",
       " 'Philips India Limited',\n",
       " 'CGI Information Systems and Management Consultants',\n",
       " 'Infobahn Softworld Inc.',\n",
       " 'WEIWO Communication Pvt. Ltd.',\n",
       " 'GCC SERVICES INDIA PRIVATE LIMITED',\n",
       " 'SMEDC SERVICES PRIVATE LIMITED',\n",
       " 'Allegis Services India Pvt. Ltd.',\n",
       " 'Allegis Services India Pvt. Ltd.',\n",
       " 'Enzen Global Solutions Pvt. Ltd',\n",
       " 'CGI Information Systems and Management Consultants',\n",
       " 'Liventus, Inc.',\n",
       " 'Pronto Consulting Services',\n",
       " 'Qlik',\n",
       " 'Gojek Tech',\n",
       " 'GO-JEK India',\n",
       " 'Eli Lilly Services India Private Limited',\n",
       " 'Infobahn Softworld Inc.']"
      ]
     },
     "execution_count": 13,
     "metadata": {},
     "output_type": "execute_result"
    }
   ],
   "source": [
    "company_names=[]\n",
    "for i in companies_tags:\n",
    "    company_names.append(i.text)\n",
    "company_names"
   ]
  },
  {
   "cell_type": "code",
   "execution_count": 14,
   "metadata": {},
   "outputs": [
    {
     "data": {
      "text/plain": [
       "[<selenium.webdriver.remote.webelement.WebElement (session=\"0259e7284c6db8bd5c67d118a884ddb4\", element=\"8fd5fc3e-2444-4eb8-84ec-9e8290fe8aa2\")>,\n",
       " <selenium.webdriver.remote.webelement.WebElement (session=\"0259e7284c6db8bd5c67d118a884ddb4\", element=\"33505b1e-beb3-44d3-9ea5-61b5a23ad789\")>,\n",
       " <selenium.webdriver.remote.webelement.WebElement (session=\"0259e7284c6db8bd5c67d118a884ddb4\", element=\"02ffccdd-9332-4617-b884-599ebb90b547\")>,\n",
       " <selenium.webdriver.remote.webelement.WebElement (session=\"0259e7284c6db8bd5c67d118a884ddb4\", element=\"9c8d9de5-2f8b-40a6-ac2c-b30977508007\")>,\n",
       " <selenium.webdriver.remote.webelement.WebElement (session=\"0259e7284c6db8bd5c67d118a884ddb4\", element=\"1f975d3f-3a8b-4435-872a-1fd29208a34e\")>,\n",
       " <selenium.webdriver.remote.webelement.WebElement (session=\"0259e7284c6db8bd5c67d118a884ddb4\", element=\"b12a3150-4d43-4673-bc4d-ab42ce59658f\")>,\n",
       " <selenium.webdriver.remote.webelement.WebElement (session=\"0259e7284c6db8bd5c67d118a884ddb4\", element=\"420224e7-52c8-4d3e-86f6-dfcd4cfbe423\")>,\n",
       " <selenium.webdriver.remote.webelement.WebElement (session=\"0259e7284c6db8bd5c67d118a884ddb4\", element=\"89385897-ce51-497a-add3-601759164c44\")>,\n",
       " <selenium.webdriver.remote.webelement.WebElement (session=\"0259e7284c6db8bd5c67d118a884ddb4\", element=\"f182bb89-7bcc-41e9-ab54-f36f03f88a49\")>,\n",
       " <selenium.webdriver.remote.webelement.WebElement (session=\"0259e7284c6db8bd5c67d118a884ddb4\", element=\"f5c09a54-8ef5-4911-819b-93e2c8b59368\")>,\n",
       " <selenium.webdriver.remote.webelement.WebElement (session=\"0259e7284c6db8bd5c67d118a884ddb4\", element=\"d532c2e2-954d-4643-b0e4-7da695b3f862\")>,\n",
       " <selenium.webdriver.remote.webelement.WebElement (session=\"0259e7284c6db8bd5c67d118a884ddb4\", element=\"5cab2b86-2568-42d6-a60d-845017113930\")>,\n",
       " <selenium.webdriver.remote.webelement.WebElement (session=\"0259e7284c6db8bd5c67d118a884ddb4\", element=\"c2144f2a-f0b2-485b-aa2a-52537cd49455\")>,\n",
       " <selenium.webdriver.remote.webelement.WebElement (session=\"0259e7284c6db8bd5c67d118a884ddb4\", element=\"786d6f4e-6c46-4aa4-bbe6-acd4d6d7312a\")>,\n",
       " <selenium.webdriver.remote.webelement.WebElement (session=\"0259e7284c6db8bd5c67d118a884ddb4\", element=\"f4a9339a-8b42-4015-ace3-24841fa8c367\")>,\n",
       " <selenium.webdriver.remote.webelement.WebElement (session=\"0259e7284c6db8bd5c67d118a884ddb4\", element=\"cd2cd0ec-77fd-4ef6-b952-04b88be87731\")>,\n",
       " <selenium.webdriver.remote.webelement.WebElement (session=\"0259e7284c6db8bd5c67d118a884ddb4\", element=\"8afc097f-0285-42a5-be85-0552ce989847\")>,\n",
       " <selenium.webdriver.remote.webelement.WebElement (session=\"0259e7284c6db8bd5c67d118a884ddb4\", element=\"66eecdea-1648-4fba-bd78-afa2cc208668\")>,\n",
       " <selenium.webdriver.remote.webelement.WebElement (session=\"0259e7284c6db8bd5c67d118a884ddb4\", element=\"2526df42-18bc-410d-802b-e76a0986d913\")>,\n",
       " <selenium.webdriver.remote.webelement.WebElement (session=\"0259e7284c6db8bd5c67d118a884ddb4\", element=\"cf528715-7856-4dd2-87cd-654d2ee4ec56\")>]"
      ]
     },
     "execution_count": 14,
     "metadata": {},
     "output_type": "execute_result"
    }
   ],
   "source": [
    "#extracting years of experience\n",
    "experience_tags=driver.find_elements_by_xpath(\"//li[@class='fleft grey-text br2 placeHolderLi experience']//span\") #span is used at the end to extract only the years\n",
    "experience_tags"
   ]
  },
  {
   "cell_type": "code",
   "execution_count": 15,
   "metadata": {},
   "outputs": [
    {
     "data": {
      "text/plain": [
       "['3-5 Yrs',\n",
       " '3-5 Yrs',\n",
       " '1-4 Yrs',\n",
       " '4-8 Yrs',\n",
       " '2-5 Yrs',\n",
       " '5-8 Yrs',\n",
       " '4-8 Yrs',\n",
       " '5-9 Yrs',\n",
       " '5-8 Yrs',\n",
       " '2-5 Yrs',\n",
       " '3-5 Yrs',\n",
       " '6-8 Yrs',\n",
       " '6-10 Yrs',\n",
       " '5-8 Yrs',\n",
       " '6-10 Yrs',\n",
       " '2-7 Yrs',\n",
       " '1-4 Yrs',\n",
       " '3-7 Yrs',\n",
       " '5-10 Yrs',\n",
       " '3-9 Yrs']"
      ]
     },
     "execution_count": 15,
     "metadata": {},
     "output_type": "execute_result"
    }
   ],
   "source": [
    "experience_list=[]\n",
    "for i in experience_tags:\n",
    "    experience_list.append(i.text)\n",
    "experience_list"
   ]
  },
  {
   "cell_type": "code",
   "execution_count": 16,
   "metadata": {},
   "outputs": [
    {
     "data": {
      "text/plain": [
       "[<selenium.webdriver.remote.webelement.WebElement (session=\"0259e7284c6db8bd5c67d118a884ddb4\", element=\"8665cd6c-2373-4940-8dd1-c5f9315b6f25\")>,\n",
       " <selenium.webdriver.remote.webelement.WebElement (session=\"0259e7284c6db8bd5c67d118a884ddb4\", element=\"c81b5526-471b-498b-8a07-8bf651bb3649\")>,\n",
       " <selenium.webdriver.remote.webelement.WebElement (session=\"0259e7284c6db8bd5c67d118a884ddb4\", element=\"3444cb3c-4ea4-4f50-b1a0-b0657d55be04\")>,\n",
       " <selenium.webdriver.remote.webelement.WebElement (session=\"0259e7284c6db8bd5c67d118a884ddb4\", element=\"6ac256c6-4d24-4d1a-90ea-807b106a6b59\")>,\n",
       " <selenium.webdriver.remote.webelement.WebElement (session=\"0259e7284c6db8bd5c67d118a884ddb4\", element=\"92b31305-647e-4da2-a6aa-e0652b4f67c6\")>,\n",
       " <selenium.webdriver.remote.webelement.WebElement (session=\"0259e7284c6db8bd5c67d118a884ddb4\", element=\"d2d20cbd-83ed-4dc8-a4d0-58077351468c\")>,\n",
       " <selenium.webdriver.remote.webelement.WebElement (session=\"0259e7284c6db8bd5c67d118a884ddb4\", element=\"e7695191-c1fe-4ea8-8061-ce29d17e5221\")>,\n",
       " <selenium.webdriver.remote.webelement.WebElement (session=\"0259e7284c6db8bd5c67d118a884ddb4\", element=\"7e17def7-3a96-40be-be1a-a8c5cc1c10ea\")>,\n",
       " <selenium.webdriver.remote.webelement.WebElement (session=\"0259e7284c6db8bd5c67d118a884ddb4\", element=\"e3adb7ec-826e-4974-a30d-1e7b0ed8ac5f\")>,\n",
       " <selenium.webdriver.remote.webelement.WebElement (session=\"0259e7284c6db8bd5c67d118a884ddb4\", element=\"805541d2-5c7a-47f6-bf99-965c56a24dcd\")>,\n",
       " <selenium.webdriver.remote.webelement.WebElement (session=\"0259e7284c6db8bd5c67d118a884ddb4\", element=\"7611fefa-d8fa-47a4-935a-e176325c4698\")>,\n",
       " <selenium.webdriver.remote.webelement.WebElement (session=\"0259e7284c6db8bd5c67d118a884ddb4\", element=\"c7de4caf-41ea-4ca3-9b29-fba3e3bfd882\")>,\n",
       " <selenium.webdriver.remote.webelement.WebElement (session=\"0259e7284c6db8bd5c67d118a884ddb4\", element=\"11912ab0-1aa8-4e2e-b9c6-0a43bf34071b\")>,\n",
       " <selenium.webdriver.remote.webelement.WebElement (session=\"0259e7284c6db8bd5c67d118a884ddb4\", element=\"f77e7830-a8c0-4439-b728-879356ffc5ec\")>,\n",
       " <selenium.webdriver.remote.webelement.WebElement (session=\"0259e7284c6db8bd5c67d118a884ddb4\", element=\"22ab6f64-aa6f-4ad0-86cf-1d12fa7500fe\")>,\n",
       " <selenium.webdriver.remote.webelement.WebElement (session=\"0259e7284c6db8bd5c67d118a884ddb4\", element=\"b4925b27-836a-47cd-ac0c-adb253a3978d\")>,\n",
       " <selenium.webdriver.remote.webelement.WebElement (session=\"0259e7284c6db8bd5c67d118a884ddb4\", element=\"c9db426d-748b-4dfd-baef-24858fd488fa\")>,\n",
       " <selenium.webdriver.remote.webelement.WebElement (session=\"0259e7284c6db8bd5c67d118a884ddb4\", element=\"85d9f8fc-5236-4065-9988-836cc01a90d5\")>,\n",
       " <selenium.webdriver.remote.webelement.WebElement (session=\"0259e7284c6db8bd5c67d118a884ddb4\", element=\"63d19c7a-c156-4f2c-9648-d81b6f58ffad\")>,\n",
       " <selenium.webdriver.remote.webelement.WebElement (session=\"0259e7284c6db8bd5c67d118a884ddb4\", element=\"228bab5c-d533-489f-9c3e-41ecb2aa6e8a\")>]"
      ]
     },
     "execution_count": 16,
     "metadata": {},
     "output_type": "execute_result"
    }
   ],
   "source": [
    "#extracting locations\n",
    "location_tags=driver.find_elements_by_xpath(\"//li[@class='fleft grey-text br2 placeHolderLi location']//span[1]\") #span is used at the end to extract only the 1st index which is location\n",
    "location_tags"
   ]
  },
  {
   "cell_type": "code",
   "execution_count": 18,
   "metadata": {},
   "outputs": [
    {
     "data": {
      "text/plain": [
       "['Bangalore/Bengaluru',\n",
       " 'Bangalore/Bengaluru',\n",
       " 'Gurgaon/Gurugram, Bangalore/Bengaluru, Mumbai (All Areas)',\n",
       " 'Bangalore/Bengaluru',\n",
       " 'Bangalore/Bengaluru',\n",
       " 'Bangalore/Bengaluru',\n",
       " 'Bangalore/Bengaluru(Ulsoor)',\n",
       " 'Bangalore/Bengaluru',\n",
       " 'Bangalore/Bengaluru',\n",
       " 'Bangalore/Bengaluru',\n",
       " 'Bangalore/Bengaluru',\n",
       " 'Bangalore/Bengaluru',\n",
       " 'Bangalore/Bengaluru',\n",
       " 'Bangalore/Bengaluru(2nd Phase JP Nagar)',\n",
       " 'Noida, Mumbai, Indore, Hyderabad/Secunderabad, Pune, Chennai, Bangalore/Bengaluru',\n",
       " 'Bangalore/Bengaluru',\n",
       " 'Bangalore/Bengaluru',\n",
       " 'Bangalore/Bengaluru',\n",
       " 'Bangalore/Bengaluru',\n",
       " 'Bangalore/Bengaluru']"
      ]
     },
     "execution_count": 18,
     "metadata": {},
     "output_type": "execute_result"
    }
   ],
   "source": [
    "locations_names=[]\n",
    "for i in location_tags:\n",
    "    locations_names.append(i.text)\n",
    "locations_names"
   ]
  },
  {
   "cell_type": "code",
   "execution_count": 19,
   "metadata": {},
   "outputs": [
    {
     "data": {
      "text/plain": [
       "['Bangalore/Bengaluru',\n",
       " 'Bangalore/Bengaluru',\n",
       " 'Gurgaon/Gurugram, Bangalore/Bengaluru, Mumbai (All Areas)',\n",
       " 'Bangalore/Bengaluru',\n",
       " 'Bangalore/Bengaluru',\n",
       " 'Bangalore/Bengaluru',\n",
       " 'Bangalore/Bengaluru(Ulsoor)',\n",
       " 'Bangalore/Bengaluru',\n",
       " 'Bangalore/Bengaluru',\n",
       " 'Bangalore/Bengaluru',\n",
       " 'Bangalore/Bengaluru',\n",
       " 'Bangalore/Bengaluru',\n",
       " 'Bangalore/Bengaluru',\n",
       " 'Bangalore/Bengaluru(2nd Phase JP Nagar)',\n",
       " 'Noida, Mumbai, Indore, Hyderabad/Secunderabad, Pune, Chennai, Bangalore/Bengaluru',\n",
       " 'Bangalore/Bengaluru',\n",
       " 'Bangalore/Bengaluru',\n",
       " 'Bangalore/Bengaluru',\n",
       " 'Bangalore/Bengaluru',\n",
       " 'Bangalore/Bengaluru']"
      ]
     },
     "execution_count": 19,
     "metadata": {},
     "output_type": "execute_result"
    }
   ],
   "source": [
    "locations_names=[]\n",
    "for i in location_tags:\n",
    "    locations_names.append(i.text)\n",
    "locations_names"
   ]
  },
  {
   "cell_type": "code",
   "execution_count": 20,
   "metadata": {},
   "outputs": [
    {
     "name": "stdout",
     "output_type": "stream",
     "text": [
      "20 20 20 20\n"
     ]
    }
   ],
   "source": [
    "print(len(job_titles),len(company_names),len(experience_list),len(locations_names))"
   ]
  },
  {
   "cell_type": "code",
   "execution_count": 21,
   "metadata": {},
   "outputs": [],
   "source": [
    "import pandas as pd\n",
    "jobs=pd.DataFrame({})\n",
    "jobs['title']=job_titles\n",
    "jobs['company']=company_names\n",
    "jobs['experience']=experience_list\n",
    "jobs['location']=locations_names"
   ]
  },
  {
   "cell_type": "code",
   "execution_count": 22,
   "metadata": {},
   "outputs": [
    {
     "data": {
      "text/html": [
       "<div>\n",
       "<style scoped>\n",
       "    .dataframe tbody tr th:only-of-type {\n",
       "        vertical-align: middle;\n",
       "    }\n",
       "\n",
       "    .dataframe tbody tr th {\n",
       "        vertical-align: top;\n",
       "    }\n",
       "\n",
       "    .dataframe thead th {\n",
       "        text-align: right;\n",
       "    }\n",
       "</style>\n",
       "<table border=\"1\" class=\"dataframe\">\n",
       "  <thead>\n",
       "    <tr style=\"text-align: right;\">\n",
       "      <th></th>\n",
       "      <th>title</th>\n",
       "      <th>company</th>\n",
       "      <th>experience</th>\n",
       "      <th>location</th>\n",
       "    </tr>\n",
       "  </thead>\n",
       "  <tbody>\n",
       "    <tr>\n",
       "      <th>0</th>\n",
       "      <td>Business Data Analyst</td>\n",
       "      <td>Trigent Software</td>\n",
       "      <td>3-5 Yrs</td>\n",
       "      <td>Bangalore/Bengaluru</td>\n",
       "    </tr>\n",
       "    <tr>\n",
       "      <th>1</th>\n",
       "      <td>Business Data Analyst</td>\n",
       "      <td>Trigent Software</td>\n",
       "      <td>3-5 Yrs</td>\n",
       "      <td>Bangalore/Bengaluru</td>\n",
       "    </tr>\n",
       "    <tr>\n",
       "      <th>2</th>\n",
       "      <td>Data Analyst/Business Analyst-Gurgaon/Bangalor...</td>\n",
       "      <td>India Medtronic Pvt. Ltd,.</td>\n",
       "      <td>1-4 Yrs</td>\n",
       "      <td>Gurgaon/Gurugram, Bangalore/Bengaluru, Mumbai ...</td>\n",
       "    </tr>\n",
       "    <tr>\n",
       "      <th>3</th>\n",
       "      <td>Senior Specialist - Data Analyst</td>\n",
       "      <td>Philips India Limited</td>\n",
       "      <td>4-8 Yrs</td>\n",
       "      <td>Bangalore/Bengaluru</td>\n",
       "    </tr>\n",
       "    <tr>\n",
       "      <th>4</th>\n",
       "      <td>Business/Data Analyst - SSE/LA</td>\n",
       "      <td>CGI Information Systems and Management Consult...</td>\n",
       "      <td>2-5 Yrs</td>\n",
       "      <td>Bangalore/Bengaluru</td>\n",
       "    </tr>\n",
       "    <tr>\n",
       "      <th>5</th>\n",
       "      <td>Business Data Analyst II</td>\n",
       "      <td>Infobahn Softworld Inc.</td>\n",
       "      <td>5-8 Yrs</td>\n",
       "      <td>Bangalore/Bengaluru</td>\n",
       "    </tr>\n",
       "    <tr>\n",
       "      <th>6</th>\n",
       "      <td>Data Analyst</td>\n",
       "      <td>WEIWO Communication Pvt. Ltd.</td>\n",
       "      <td>4-8 Yrs</td>\n",
       "      <td>Bangalore/Bengaluru(Ulsoor)</td>\n",
       "    </tr>\n",
       "    <tr>\n",
       "      <th>7</th>\n",
       "      <td>Data Analyst</td>\n",
       "      <td>GCC SERVICES INDIA PRIVATE LIMITED</td>\n",
       "      <td>5-9 Yrs</td>\n",
       "      <td>Bangalore/Bengaluru</td>\n",
       "    </tr>\n",
       "    <tr>\n",
       "      <th>8</th>\n",
       "      <td>Senior Data Analyst</td>\n",
       "      <td>SMEDC SERVICES PRIVATE LIMITED</td>\n",
       "      <td>5-8 Yrs</td>\n",
       "      <td>Bangalore/Bengaluru</td>\n",
       "    </tr>\n",
       "    <tr>\n",
       "      <th>9</th>\n",
       "      <td>Data Analyst</td>\n",
       "      <td>Allegis Services India Pvt. Ltd.</td>\n",
       "      <td>2-5 Yrs</td>\n",
       "      <td>Bangalore/Bengaluru</td>\n",
       "    </tr>\n",
       "    <tr>\n",
       "      <th>10</th>\n",
       "      <td>Data Analyst</td>\n",
       "      <td>Allegis Services India Pvt. Ltd.</td>\n",
       "      <td>3-5 Yrs</td>\n",
       "      <td>Bangalore/Bengaluru</td>\n",
       "    </tr>\n",
       "    <tr>\n",
       "      <th>11</th>\n",
       "      <td>Data Analyst</td>\n",
       "      <td>Enzen Global Solutions Pvt. Ltd</td>\n",
       "      <td>6-8 Yrs</td>\n",
       "      <td>Bangalore/Bengaluru</td>\n",
       "    </tr>\n",
       "    <tr>\n",
       "      <th>12</th>\n",
       "      <td>Data/Business Analyst</td>\n",
       "      <td>CGI Information Systems and Management Consult...</td>\n",
       "      <td>6-10 Yrs</td>\n",
       "      <td>Bangalore/Bengaluru</td>\n",
       "    </tr>\n",
       "    <tr>\n",
       "      <th>13</th>\n",
       "      <td>Senior Data Analyst</td>\n",
       "      <td>Liventus, Inc.</td>\n",
       "      <td>5-8 Yrs</td>\n",
       "      <td>Bangalore/Bengaluru(2nd Phase JP Nagar)</td>\n",
       "    </tr>\n",
       "    <tr>\n",
       "      <th>14</th>\n",
       "      <td>Senior Data Analyst - SQL/Tableau/Redshift</td>\n",
       "      <td>Pronto Consulting Services</td>\n",
       "      <td>6-10 Yrs</td>\n",
       "      <td>Noida, Mumbai, Indore, Hyderabad/Secunderabad,...</td>\n",
       "    </tr>\n",
       "    <tr>\n",
       "      <th>15</th>\n",
       "      <td>Marketing Data Analyst</td>\n",
       "      <td>Qlik</td>\n",
       "      <td>2-7 Yrs</td>\n",
       "      <td>Bangalore/Bengaluru</td>\n",
       "    </tr>\n",
       "    <tr>\n",
       "      <th>16</th>\n",
       "      <td>Data Analyst</td>\n",
       "      <td>Gojek Tech</td>\n",
       "      <td>1-4 Yrs</td>\n",
       "      <td>Bangalore/Bengaluru</td>\n",
       "    </tr>\n",
       "    <tr>\n",
       "      <th>17</th>\n",
       "      <td>Data Analyst</td>\n",
       "      <td>GO-JEK India</td>\n",
       "      <td>3-7 Yrs</td>\n",
       "      <td>Bangalore/Bengaluru</td>\n",
       "    </tr>\n",
       "    <tr>\n",
       "      <th>18</th>\n",
       "      <td>Data Analyst</td>\n",
       "      <td>Eli Lilly Services India Private Limited</td>\n",
       "      <td>5-10 Yrs</td>\n",
       "      <td>Bangalore/Bengaluru</td>\n",
       "    </tr>\n",
       "    <tr>\n",
       "      <th>19</th>\n",
       "      <td>Data Analyst</td>\n",
       "      <td>Infobahn Softworld Inc.</td>\n",
       "      <td>3-9 Yrs</td>\n",
       "      <td>Bangalore/Bengaluru</td>\n",
       "    </tr>\n",
       "  </tbody>\n",
       "</table>\n",
       "</div>"
      ],
      "text/plain": [
       "                                                title  \\\n",
       "0                               Business Data Analyst   \n",
       "1                               Business Data Analyst   \n",
       "2   Data Analyst/Business Analyst-Gurgaon/Bangalor...   \n",
       "3                    Senior Specialist - Data Analyst   \n",
       "4                      Business/Data Analyst - SSE/LA   \n",
       "5                            Business Data Analyst II   \n",
       "6                                        Data Analyst   \n",
       "7                                        Data Analyst   \n",
       "8                                 Senior Data Analyst   \n",
       "9                                        Data Analyst   \n",
       "10                                       Data Analyst   \n",
       "11                                       Data Analyst   \n",
       "12                              Data/Business Analyst   \n",
       "13                                Senior Data Analyst   \n",
       "14         Senior Data Analyst - SQL/Tableau/Redshift   \n",
       "15                             Marketing Data Analyst   \n",
       "16                                       Data Analyst   \n",
       "17                                       Data Analyst   \n",
       "18                                       Data Analyst   \n",
       "19                                       Data Analyst   \n",
       "\n",
       "                                              company experience  \\\n",
       "0                                    Trigent Software    3-5 Yrs   \n",
       "1                                    Trigent Software    3-5 Yrs   \n",
       "2                          India Medtronic Pvt. Ltd,.    1-4 Yrs   \n",
       "3                               Philips India Limited    4-8 Yrs   \n",
       "4   CGI Information Systems and Management Consult...    2-5 Yrs   \n",
       "5                             Infobahn Softworld Inc.    5-8 Yrs   \n",
       "6                       WEIWO Communication Pvt. Ltd.    4-8 Yrs   \n",
       "7                  GCC SERVICES INDIA PRIVATE LIMITED    5-9 Yrs   \n",
       "8                      SMEDC SERVICES PRIVATE LIMITED    5-8 Yrs   \n",
       "9                    Allegis Services India Pvt. Ltd.    2-5 Yrs   \n",
       "10                   Allegis Services India Pvt. Ltd.    3-5 Yrs   \n",
       "11                    Enzen Global Solutions Pvt. Ltd    6-8 Yrs   \n",
       "12  CGI Information Systems and Management Consult...   6-10 Yrs   \n",
       "13                                     Liventus, Inc.    5-8 Yrs   \n",
       "14                         Pronto Consulting Services   6-10 Yrs   \n",
       "15                                               Qlik    2-7 Yrs   \n",
       "16                                         Gojek Tech    1-4 Yrs   \n",
       "17                                       GO-JEK India    3-7 Yrs   \n",
       "18           Eli Lilly Services India Private Limited   5-10 Yrs   \n",
       "19                            Infobahn Softworld Inc.    3-9 Yrs   \n",
       "\n",
       "                                             location  \n",
       "0                                 Bangalore/Bengaluru  \n",
       "1                                 Bangalore/Bengaluru  \n",
       "2   Gurgaon/Gurugram, Bangalore/Bengaluru, Mumbai ...  \n",
       "3                                 Bangalore/Bengaluru  \n",
       "4                                 Bangalore/Bengaluru  \n",
       "5                                 Bangalore/Bengaluru  \n",
       "6                         Bangalore/Bengaluru(Ulsoor)  \n",
       "7                                 Bangalore/Bengaluru  \n",
       "8                                 Bangalore/Bengaluru  \n",
       "9                                 Bangalore/Bengaluru  \n",
       "10                                Bangalore/Bengaluru  \n",
       "11                                Bangalore/Bengaluru  \n",
       "12                                Bangalore/Bengaluru  \n",
       "13            Bangalore/Bengaluru(2nd Phase JP Nagar)  \n",
       "14  Noida, Mumbai, Indore, Hyderabad/Secunderabad,...  \n",
       "15                                Bangalore/Bengaluru  \n",
       "16                                Bangalore/Bengaluru  \n",
       "17                                Bangalore/Bengaluru  \n",
       "18                                Bangalore/Bengaluru  \n",
       "19                                Bangalore/Bengaluru  "
      ]
     },
     "execution_count": 22,
     "metadata": {},
     "output_type": "execute_result"
    }
   ],
   "source": [
    "jobs"
   ]
  },
  {
   "cell_type": "code",
   "execution_count": 23,
   "metadata": {},
   "outputs": [
    {
     "data": {
      "text/html": [
       "<div>\n",
       "<style scoped>\n",
       "    .dataframe tbody tr th:only-of-type {\n",
       "        vertical-align: middle;\n",
       "    }\n",
       "\n",
       "    .dataframe tbody tr th {\n",
       "        vertical-align: top;\n",
       "    }\n",
       "\n",
       "    .dataframe thead th {\n",
       "        text-align: right;\n",
       "    }\n",
       "</style>\n",
       "<table border=\"1\" class=\"dataframe\">\n",
       "  <thead>\n",
       "    <tr style=\"text-align: right;\">\n",
       "      <th></th>\n",
       "      <th>title</th>\n",
       "      <th>company</th>\n",
       "      <th>experience</th>\n",
       "      <th>location</th>\n",
       "    </tr>\n",
       "  </thead>\n",
       "  <tbody>\n",
       "    <tr>\n",
       "      <th>0</th>\n",
       "      <td>Business Data Analyst</td>\n",
       "      <td>Trigent Software</td>\n",
       "      <td>3-5 Yrs</td>\n",
       "      <td>Bangalore/Bengaluru</td>\n",
       "    </tr>\n",
       "    <tr>\n",
       "      <th>1</th>\n",
       "      <td>Business Data Analyst</td>\n",
       "      <td>Trigent Software</td>\n",
       "      <td>3-5 Yrs</td>\n",
       "      <td>Bangalore/Bengaluru</td>\n",
       "    </tr>\n",
       "    <tr>\n",
       "      <th>2</th>\n",
       "      <td>Data Analyst/Business Analyst-Gurgaon/Bangalor...</td>\n",
       "      <td>India Medtronic Pvt. Ltd,.</td>\n",
       "      <td>1-4 Yrs</td>\n",
       "      <td>Gurgaon/Gurugram, Bangalore/Bengaluru, Mumbai ...</td>\n",
       "    </tr>\n",
       "    <tr>\n",
       "      <th>3</th>\n",
       "      <td>Senior Specialist - Data Analyst</td>\n",
       "      <td>Philips India Limited</td>\n",
       "      <td>4-8 Yrs</td>\n",
       "      <td>Bangalore/Bengaluru</td>\n",
       "    </tr>\n",
       "    <tr>\n",
       "      <th>4</th>\n",
       "      <td>Business/Data Analyst - SSE/LA</td>\n",
       "      <td>CGI Information Systems and Management Consult...</td>\n",
       "      <td>2-5 Yrs</td>\n",
       "      <td>Bangalore/Bengaluru</td>\n",
       "    </tr>\n",
       "    <tr>\n",
       "      <th>5</th>\n",
       "      <td>Business Data Analyst II</td>\n",
       "      <td>Infobahn Softworld Inc.</td>\n",
       "      <td>5-8 Yrs</td>\n",
       "      <td>Bangalore/Bengaluru</td>\n",
       "    </tr>\n",
       "    <tr>\n",
       "      <th>6</th>\n",
       "      <td>Data Analyst</td>\n",
       "      <td>WEIWO Communication Pvt. Ltd.</td>\n",
       "      <td>4-8 Yrs</td>\n",
       "      <td>Bangalore/Bengaluru(Ulsoor)</td>\n",
       "    </tr>\n",
       "    <tr>\n",
       "      <th>7</th>\n",
       "      <td>Data Analyst</td>\n",
       "      <td>GCC SERVICES INDIA PRIVATE LIMITED</td>\n",
       "      <td>5-9 Yrs</td>\n",
       "      <td>Bangalore/Bengaluru</td>\n",
       "    </tr>\n",
       "    <tr>\n",
       "      <th>8</th>\n",
       "      <td>Senior Data Analyst</td>\n",
       "      <td>SMEDC SERVICES PRIVATE LIMITED</td>\n",
       "      <td>5-8 Yrs</td>\n",
       "      <td>Bangalore/Bengaluru</td>\n",
       "    </tr>\n",
       "    <tr>\n",
       "      <th>9</th>\n",
       "      <td>Data Analyst</td>\n",
       "      <td>Allegis Services India Pvt. Ltd.</td>\n",
       "      <td>2-5 Yrs</td>\n",
       "      <td>Bangalore/Bengaluru</td>\n",
       "    </tr>\n",
       "  </tbody>\n",
       "</table>\n",
       "</div>"
      ],
      "text/plain": [
       "                                               title  \\\n",
       "0                              Business Data Analyst   \n",
       "1                              Business Data Analyst   \n",
       "2  Data Analyst/Business Analyst-Gurgaon/Bangalor...   \n",
       "3                   Senior Specialist - Data Analyst   \n",
       "4                     Business/Data Analyst - SSE/LA   \n",
       "5                           Business Data Analyst II   \n",
       "6                                       Data Analyst   \n",
       "7                                       Data Analyst   \n",
       "8                                Senior Data Analyst   \n",
       "9                                       Data Analyst   \n",
       "\n",
       "                                             company experience  \\\n",
       "0                                   Trigent Software    3-5 Yrs   \n",
       "1                                   Trigent Software    3-5 Yrs   \n",
       "2                         India Medtronic Pvt. Ltd,.    1-4 Yrs   \n",
       "3                              Philips India Limited    4-8 Yrs   \n",
       "4  CGI Information Systems and Management Consult...    2-5 Yrs   \n",
       "5                            Infobahn Softworld Inc.    5-8 Yrs   \n",
       "6                      WEIWO Communication Pvt. Ltd.    4-8 Yrs   \n",
       "7                 GCC SERVICES INDIA PRIVATE LIMITED    5-9 Yrs   \n",
       "8                     SMEDC SERVICES PRIVATE LIMITED    5-8 Yrs   \n",
       "9                   Allegis Services India Pvt. Ltd.    2-5 Yrs   \n",
       "\n",
       "                                            location  \n",
       "0                                Bangalore/Bengaluru  \n",
       "1                                Bangalore/Bengaluru  \n",
       "2  Gurgaon/Gurugram, Bangalore/Bengaluru, Mumbai ...  \n",
       "3                                Bangalore/Bengaluru  \n",
       "4                                Bangalore/Bengaluru  \n",
       "5                                Bangalore/Bengaluru  \n",
       "6                        Bangalore/Bengaluru(Ulsoor)  \n",
       "7                                Bangalore/Bengaluru  \n",
       "8                                Bangalore/Bengaluru  \n",
       "9                                Bangalore/Bengaluru  "
      ]
     },
     "execution_count": 23,
     "metadata": {},
     "output_type": "execute_result"
    }
   ],
   "source": [
    "#Since we need only top 10\n",
    "c=jobs\n",
    "d=c[:10]\n",
    "d"
   ]
  },
  {
   "cell_type": "markdown",
   "metadata": {},
   "source": [
    "# Answer for Question 2"
   ]
  },
  {
   "cell_type": "code",
   "execution_count": 24,
   "metadata": {},
   "outputs": [],
   "source": [
    "url = 'https://www.naukri.com/'\n",
    "driver.get(url)"
   ]
  },
  {
   "cell_type": "code",
   "execution_count": 25,
   "metadata": {},
   "outputs": [
    {
     "data": {
      "text/plain": [
       "<selenium.webdriver.remote.webelement.WebElement (session=\"0259e7284c6db8bd5c67d118a884ddb4\", element=\"aeadd47e-7f71-414e-a6e1-5523b205addf\")>"
      ]
     },
     "execution_count": 25,
     "metadata": {},
     "output_type": "execute_result"
    }
   ],
   "source": [
    "search_job = driver.find_element_by_id('qsb-keyword-sugg')\n",
    "search_job"
   ]
  },
  {
   "cell_type": "code",
   "execution_count": 26,
   "metadata": {},
   "outputs": [],
   "source": [
    "search_job.send_keys(\"Data scientist\")"
   ]
  },
  {
   "cell_type": "code",
   "execution_count": 27,
   "metadata": {},
   "outputs": [],
   "source": [
    "search_loc = driver.find_element_by_id(\"qsb-location-sugg\")\n",
    "search_loc.send_keys(\"Bangalore\")"
   ]
  },
  {
   "cell_type": "code",
   "execution_count": 28,
   "metadata": {},
   "outputs": [],
   "source": [
    "search_btn = driver.find_element_by_class_name('btn')\n",
    "search_btn.click()"
   ]
  },
  {
   "cell_type": "code",
   "execution_count": 29,
   "metadata": {},
   "outputs": [
    {
     "data": {
      "text/plain": [
       "[<selenium.webdriver.remote.webelement.WebElement (session=\"0259e7284c6db8bd5c67d118a884ddb4\", element=\"05dab9ad-e78c-43c2-a312-013249bd9cb2\")>,\n",
       " <selenium.webdriver.remote.webelement.WebElement (session=\"0259e7284c6db8bd5c67d118a884ddb4\", element=\"bbbc2b58-8499-4592-9b60-82581eb98a61\")>,\n",
       " <selenium.webdriver.remote.webelement.WebElement (session=\"0259e7284c6db8bd5c67d118a884ddb4\", element=\"62996ccf-2461-400a-bece-8107ce6086ef\")>,\n",
       " <selenium.webdriver.remote.webelement.WebElement (session=\"0259e7284c6db8bd5c67d118a884ddb4\", element=\"cb046a17-7f37-4b91-be47-05f8a4b9bbb1\")>,\n",
       " <selenium.webdriver.remote.webelement.WebElement (session=\"0259e7284c6db8bd5c67d118a884ddb4\", element=\"8e5821c4-2337-425d-b2c5-df618c42b28d\")>,\n",
       " <selenium.webdriver.remote.webelement.WebElement (session=\"0259e7284c6db8bd5c67d118a884ddb4\", element=\"58f15776-0cd9-4ffc-b00b-18be9bf3528b\")>,\n",
       " <selenium.webdriver.remote.webelement.WebElement (session=\"0259e7284c6db8bd5c67d118a884ddb4\", element=\"0ec4636f-01f6-4f40-9b57-90b6797df738\")>,\n",
       " <selenium.webdriver.remote.webelement.WebElement (session=\"0259e7284c6db8bd5c67d118a884ddb4\", element=\"4f804474-001d-4607-9047-7b31049b88c1\")>,\n",
       " <selenium.webdriver.remote.webelement.WebElement (session=\"0259e7284c6db8bd5c67d118a884ddb4\", element=\"dade4139-0aa0-4495-9a94-9c3015331347\")>,\n",
       " <selenium.webdriver.remote.webelement.WebElement (session=\"0259e7284c6db8bd5c67d118a884ddb4\", element=\"909603c7-2e76-4b4c-8c3e-61585a34e284\")>,\n",
       " <selenium.webdriver.remote.webelement.WebElement (session=\"0259e7284c6db8bd5c67d118a884ddb4\", element=\"63137ccf-98b5-4b00-bfab-5d3c4c53b306\")>,\n",
       " <selenium.webdriver.remote.webelement.WebElement (session=\"0259e7284c6db8bd5c67d118a884ddb4\", element=\"b97613f5-0cb1-4b20-9ecc-8d97fc674f53\")>,\n",
       " <selenium.webdriver.remote.webelement.WebElement (session=\"0259e7284c6db8bd5c67d118a884ddb4\", element=\"0b9eb5c1-2d5b-4679-b042-43913cb3c090\")>,\n",
       " <selenium.webdriver.remote.webelement.WebElement (session=\"0259e7284c6db8bd5c67d118a884ddb4\", element=\"4013ef1f-7f66-4afe-8bdb-dbb19809f245\")>,\n",
       " <selenium.webdriver.remote.webelement.WebElement (session=\"0259e7284c6db8bd5c67d118a884ddb4\", element=\"eda587aa-e1d9-4284-b0c4-da6ecfeff4df\")>,\n",
       " <selenium.webdriver.remote.webelement.WebElement (session=\"0259e7284c6db8bd5c67d118a884ddb4\", element=\"20e55a57-ea9b-4d5c-b208-bfb3d512cc39\")>,\n",
       " <selenium.webdriver.remote.webelement.WebElement (session=\"0259e7284c6db8bd5c67d118a884ddb4\", element=\"40c34d90-5852-4dac-8a2c-2b9f2e591fbd\")>,\n",
       " <selenium.webdriver.remote.webelement.WebElement (session=\"0259e7284c6db8bd5c67d118a884ddb4\", element=\"c379ed4b-4fec-4f3f-bca6-23d3d418362b\")>,\n",
       " <selenium.webdriver.remote.webelement.WebElement (session=\"0259e7284c6db8bd5c67d118a884ddb4\", element=\"ee1016b1-b348-4e88-b45c-fe9adb5e7f86\")>,\n",
       " <selenium.webdriver.remote.webelement.WebElement (session=\"0259e7284c6db8bd5c67d118a884ddb4\", element=\"71e9fa32-3ec8-44ce-96f6-641be6e9e3f8\")>]"
      ]
     },
     "execution_count": 29,
     "metadata": {},
     "output_type": "execute_result"
    }
   ],
   "source": [
    "#extracting all the tags having job titles\n",
    "titles_tags=driver.find_elements_by_xpath(\"//a[@class='title fw500 ellipsis']\") #element's' gives us all the elements\n",
    "titles_tags"
   ]
  },
  {
   "cell_type": "code",
   "execution_count": 30,
   "metadata": {},
   "outputs": [
    {
     "data": {
      "text/plain": [
       "['Senior Data Scientist',\n",
       " 'Lead Data Scientist',\n",
       " 'Data Scientist: Advanced Analytics',\n",
       " 'Senior Data Scientist',\n",
       " 'Senior Data Scientist',\n",
       " 'DATA SCIENTIST',\n",
       " 'Data Engineers , Data Scientist and SAP',\n",
       " 'Python - Data Scientist',\n",
       " 'Software Developer - Data Scientist / NLP / Machine Learning & Dot Net',\n",
       " 'Data scientist',\n",
       " 'Senior Associate - Data Scientist',\n",
       " 'Senior Data Scientist',\n",
       " 'Sr Data Scientist',\n",
       " 'Senior Data Scientist',\n",
       " 'Senior Data Scientist',\n",
       " 'Senior Data Scientist',\n",
       " 'Data Scientist - Permanent Role',\n",
       " 'Senior Data Scientist',\n",
       " 'Senior Data Scientist',\n",
       " 'Sr. Data Scientist / Tech Lead - Data Science']"
      ]
     },
     "execution_count": 30,
     "metadata": {},
     "output_type": "execute_result"
    }
   ],
   "source": [
    "job_titles=[]\n",
    "for i in titles_tags:\n",
    "    job_titles.append(i.text.replace('\\n',''))\n",
    "job_titles"
   ]
  },
  {
   "cell_type": "code",
   "execution_count": 31,
   "metadata": {},
   "outputs": [
    {
     "data": {
      "text/plain": [
       "[<selenium.webdriver.remote.webelement.WebElement (session=\"0259e7284c6db8bd5c67d118a884ddb4\", element=\"c82f6e7b-a855-4083-a260-fec15a8f878e\")>,\n",
       " <selenium.webdriver.remote.webelement.WebElement (session=\"0259e7284c6db8bd5c67d118a884ddb4\", element=\"79eca8f3-2d5a-45ce-b6f0-74c19eef3286\")>,\n",
       " <selenium.webdriver.remote.webelement.WebElement (session=\"0259e7284c6db8bd5c67d118a884ddb4\", element=\"c2d7db99-2f56-49a2-9724-a34c9324c356\")>,\n",
       " <selenium.webdriver.remote.webelement.WebElement (session=\"0259e7284c6db8bd5c67d118a884ddb4\", element=\"55b849fa-8c3c-470d-8c3e-908857932cd8\")>,\n",
       " <selenium.webdriver.remote.webelement.WebElement (session=\"0259e7284c6db8bd5c67d118a884ddb4\", element=\"75ffd8e0-704e-4d3b-a623-85003a0b2162\")>,\n",
       " <selenium.webdriver.remote.webelement.WebElement (session=\"0259e7284c6db8bd5c67d118a884ddb4\", element=\"96b4e8d9-5ada-4afc-a2c0-8ecf83d1c264\")>,\n",
       " <selenium.webdriver.remote.webelement.WebElement (session=\"0259e7284c6db8bd5c67d118a884ddb4\", element=\"f1008f21-d125-495f-a449-bb89e1a77c75\")>,\n",
       " <selenium.webdriver.remote.webelement.WebElement (session=\"0259e7284c6db8bd5c67d118a884ddb4\", element=\"5237257d-7c63-42da-8097-e06b1d467051\")>,\n",
       " <selenium.webdriver.remote.webelement.WebElement (session=\"0259e7284c6db8bd5c67d118a884ddb4\", element=\"cc760437-9fd9-465c-90e2-933530a7b3fc\")>,\n",
       " <selenium.webdriver.remote.webelement.WebElement (session=\"0259e7284c6db8bd5c67d118a884ddb4\", element=\"92d76669-015f-448d-a9bd-a85380bedafa\")>,\n",
       " <selenium.webdriver.remote.webelement.WebElement (session=\"0259e7284c6db8bd5c67d118a884ddb4\", element=\"18d746d7-03c4-4a10-af26-31f76943d74b\")>,\n",
       " <selenium.webdriver.remote.webelement.WebElement (session=\"0259e7284c6db8bd5c67d118a884ddb4\", element=\"50511132-246a-4eed-abab-b869c12056c4\")>,\n",
       " <selenium.webdriver.remote.webelement.WebElement (session=\"0259e7284c6db8bd5c67d118a884ddb4\", element=\"053af3cc-8ef7-4e2b-b0a4-4d9f082ad106\")>,\n",
       " <selenium.webdriver.remote.webelement.WebElement (session=\"0259e7284c6db8bd5c67d118a884ddb4\", element=\"fc4ceac2-c2a4-49a9-9b1c-d8e112f7aca6\")>,\n",
       " <selenium.webdriver.remote.webelement.WebElement (session=\"0259e7284c6db8bd5c67d118a884ddb4\", element=\"50ce785a-ace1-4f3a-be91-23fddc76a394\")>,\n",
       " <selenium.webdriver.remote.webelement.WebElement (session=\"0259e7284c6db8bd5c67d118a884ddb4\", element=\"d434d55b-8526-4a45-8ea8-8814b624dd2f\")>,\n",
       " <selenium.webdriver.remote.webelement.WebElement (session=\"0259e7284c6db8bd5c67d118a884ddb4\", element=\"18fe6b0f-29e3-401d-818a-423f14253cb6\")>,\n",
       " <selenium.webdriver.remote.webelement.WebElement (session=\"0259e7284c6db8bd5c67d118a884ddb4\", element=\"1307cd5e-3728-461a-8bc4-ad4e3660d380\")>,\n",
       " <selenium.webdriver.remote.webelement.WebElement (session=\"0259e7284c6db8bd5c67d118a884ddb4\", element=\"6cdd260f-2810-420e-899c-a9db735ec585\")>,\n",
       " <selenium.webdriver.remote.webelement.WebElement (session=\"0259e7284c6db8bd5c67d118a884ddb4\", element=\"39844fc9-57e7-4717-8315-e69ae0e00df6\")>]"
      ]
     },
     "execution_count": 31,
     "metadata": {},
     "output_type": "execute_result"
    }
   ],
   "source": [
    "#extracting all the company names\n",
    "companies_tags=driver.find_elements_by_xpath(\"//a[@class='subTitle ellipsis fleft']\")\n",
    "companies_tags"
   ]
  },
  {
   "cell_type": "code",
   "execution_count": 32,
   "metadata": {},
   "outputs": [
    {
     "data": {
      "text/plain": [
       "['Philips India Limited',\n",
       " 'ALTEN CALSOFT LABS (INDIA) PRIVATE LIMITED',\n",
       " 'IBM India Pvt. Limited',\n",
       " 'SYMBIOSIS International W.L.L',\n",
       " 'Datamatics Global Services Ltd',\n",
       " 'McAfee Software (India) Pvt. Ltd',\n",
       " 'Teamware Solutions',\n",
       " 'Mindtree Limited',\n",
       " 'Cunesoft India Private Limited',\n",
       " 'Uber',\n",
       " 'Novotree Minds Consulting Pvt Limited',\n",
       " 'IBM India Pvt. Limited',\n",
       " 'IBM India Pvt. Limited',\n",
       " 'Publicis Groupe',\n",
       " 'Bidgely Technologies Private Limited',\n",
       " 'Goals 101 Data Solutions Pvt. Ltd.',\n",
       " 'Onward Technologies Limited',\n",
       " 'RANDSTAD INDIA PVT LTD',\n",
       " 'Red Hat India Pvt Ltd',\n",
       " 'Confidential']"
      ]
     },
     "execution_count": 32,
     "metadata": {},
     "output_type": "execute_result"
    }
   ],
   "source": [
    "company_names=[]\n",
    "for i in companies_tags:\n",
    "    company_names.append(i.text)\n",
    "company_names"
   ]
  },
  {
   "cell_type": "code",
   "execution_count": 33,
   "metadata": {},
   "outputs": [
    {
     "data": {
      "text/plain": [
       "[<selenium.webdriver.remote.webelement.WebElement (session=\"0259e7284c6db8bd5c67d118a884ddb4\", element=\"61ab378e-df4f-4256-a94b-f96a54defd60\")>,\n",
       " <selenium.webdriver.remote.webelement.WebElement (session=\"0259e7284c6db8bd5c67d118a884ddb4\", element=\"af705b34-cf50-422d-998b-f9f0c53cd8b9\")>,\n",
       " <selenium.webdriver.remote.webelement.WebElement (session=\"0259e7284c6db8bd5c67d118a884ddb4\", element=\"dd6629d9-3cb9-473f-86c6-8b8776262819\")>,\n",
       " <selenium.webdriver.remote.webelement.WebElement (session=\"0259e7284c6db8bd5c67d118a884ddb4\", element=\"ac19b26a-8999-4ed0-9a0e-34bc9483f927\")>,\n",
       " <selenium.webdriver.remote.webelement.WebElement (session=\"0259e7284c6db8bd5c67d118a884ddb4\", element=\"c629314e-0c91-4315-b6ce-62aaf7aa5d98\")>,\n",
       " <selenium.webdriver.remote.webelement.WebElement (session=\"0259e7284c6db8bd5c67d118a884ddb4\", element=\"050fd3f2-f139-4787-89e6-0ed66a99ffda\")>,\n",
       " <selenium.webdriver.remote.webelement.WebElement (session=\"0259e7284c6db8bd5c67d118a884ddb4\", element=\"0968aee8-1cc0-40fa-9945-604d387cb047\")>,\n",
       " <selenium.webdriver.remote.webelement.WebElement (session=\"0259e7284c6db8bd5c67d118a884ddb4\", element=\"77e14b67-1ded-4942-a3df-c6dec1241b1d\")>,\n",
       " <selenium.webdriver.remote.webelement.WebElement (session=\"0259e7284c6db8bd5c67d118a884ddb4\", element=\"0b0e15fe-bd36-48bd-905e-8d8ecb8cd63a\")>,\n",
       " <selenium.webdriver.remote.webelement.WebElement (session=\"0259e7284c6db8bd5c67d118a884ddb4\", element=\"d5574d60-63b9-4358-923a-93aa580e9a19\")>,\n",
       " <selenium.webdriver.remote.webelement.WebElement (session=\"0259e7284c6db8bd5c67d118a884ddb4\", element=\"2a3e5344-171e-4328-9d75-976745aa703b\")>,\n",
       " <selenium.webdriver.remote.webelement.WebElement (session=\"0259e7284c6db8bd5c67d118a884ddb4\", element=\"32ba0ead-027b-4afb-bfab-21a4567d8c99\")>,\n",
       " <selenium.webdriver.remote.webelement.WebElement (session=\"0259e7284c6db8bd5c67d118a884ddb4\", element=\"e98cfb47-3902-4c3d-acd9-1dffa501d22c\")>,\n",
       " <selenium.webdriver.remote.webelement.WebElement (session=\"0259e7284c6db8bd5c67d118a884ddb4\", element=\"8cdf0695-9bbd-4643-a75e-518f1e3063cd\")>,\n",
       " <selenium.webdriver.remote.webelement.WebElement (session=\"0259e7284c6db8bd5c67d118a884ddb4\", element=\"7b0219f8-484b-43c6-aa6b-484619d8d1ad\")>,\n",
       " <selenium.webdriver.remote.webelement.WebElement (session=\"0259e7284c6db8bd5c67d118a884ddb4\", element=\"4033c189-b89b-451c-9cab-661a6f537c24\")>,\n",
       " <selenium.webdriver.remote.webelement.WebElement (session=\"0259e7284c6db8bd5c67d118a884ddb4\", element=\"1713f554-001a-41d1-a052-75c835b3813f\")>,\n",
       " <selenium.webdriver.remote.webelement.WebElement (session=\"0259e7284c6db8bd5c67d118a884ddb4\", element=\"0872e036-fe1e-4470-9b6d-fb06e28dffa2\")>,\n",
       " <selenium.webdriver.remote.webelement.WebElement (session=\"0259e7284c6db8bd5c67d118a884ddb4\", element=\"f9e96aec-102a-4ecc-b41d-9e9175a9aea5\")>,\n",
       " <selenium.webdriver.remote.webelement.WebElement (session=\"0259e7284c6db8bd5c67d118a884ddb4\", element=\"c03ff4a6-1de9-48ae-abb6-493d4f2f13cc\")>]"
      ]
     },
     "execution_count": 33,
     "metadata": {},
     "output_type": "execute_result"
    }
   ],
   "source": [
    "#extracting locations\n",
    "location_tags=driver.find_elements_by_xpath(\"//li[@class='fleft grey-text br2 placeHolderLi location']//span[1]\") #span is used at the end to extract only the 1st index which is location\n",
    "location_tags"
   ]
  },
  {
   "cell_type": "code",
   "execution_count": 34,
   "metadata": {},
   "outputs": [
    {
     "data": {
      "text/plain": [
       "['Bangalore/Bengaluru',\n",
       " 'Bangalore/Bengaluru(Dairy Circle)',\n",
       " 'Bangalore/Bengaluru',\n",
       " 'Bangalore/Bengaluru',\n",
       " 'Bangalore/Bengaluru',\n",
       " 'Bangalore/Bengaluru',\n",
       " 'Bangalore/Bengaluru',\n",
       " 'Bangalore/Bengaluru',\n",
       " 'Bangalore/Bengaluru',\n",
       " 'Bangalore/Bengaluru',\n",
       " 'Bangalore/Bengaluru',\n",
       " 'Bangalore/Bengaluru',\n",
       " 'Bangalore/Bengaluru',\n",
       " 'Bangalore/Bengaluru',\n",
       " 'Bangalore/Bengaluru',\n",
       " 'New Delhi, Bangalore/Bengaluru, Delhi / NCR',\n",
       " 'Hyderabad/Secunderabad, Chennai, Bangalore/Bengaluru',\n",
       " 'Bangalore/Bengaluru',\n",
       " 'Bangalore/Bengaluru',\n",
       " 'Bangalore/Bengaluru']"
      ]
     },
     "execution_count": 34,
     "metadata": {},
     "output_type": "execute_result"
    }
   ],
   "source": [
    "locations_names=[]\n",
    "for i in location_tags:\n",
    "    locations_names.append(i.text)\n",
    "locations_names"
   ]
  },
  {
   "cell_type": "code",
   "execution_count": 35,
   "metadata": {},
   "outputs": [
    {
     "data": {
      "text/plain": [
       "[<selenium.webdriver.remote.webelement.WebElement (session=\"0259e7284c6db8bd5c67d118a884ddb4\", element=\"05dab9ad-e78c-43c2-a312-013249bd9cb2\")>,\n",
       " <selenium.webdriver.remote.webelement.WebElement (session=\"0259e7284c6db8bd5c67d118a884ddb4\", element=\"bbbc2b58-8499-4592-9b60-82581eb98a61\")>,\n",
       " <selenium.webdriver.remote.webelement.WebElement (session=\"0259e7284c6db8bd5c67d118a884ddb4\", element=\"62996ccf-2461-400a-bece-8107ce6086ef\")>,\n",
       " <selenium.webdriver.remote.webelement.WebElement (session=\"0259e7284c6db8bd5c67d118a884ddb4\", element=\"cb046a17-7f37-4b91-be47-05f8a4b9bbb1\")>,\n",
       " <selenium.webdriver.remote.webelement.WebElement (session=\"0259e7284c6db8bd5c67d118a884ddb4\", element=\"8e5821c4-2337-425d-b2c5-df618c42b28d\")>,\n",
       " <selenium.webdriver.remote.webelement.WebElement (session=\"0259e7284c6db8bd5c67d118a884ddb4\", element=\"58f15776-0cd9-4ffc-b00b-18be9bf3528b\")>,\n",
       " <selenium.webdriver.remote.webelement.WebElement (session=\"0259e7284c6db8bd5c67d118a884ddb4\", element=\"0ec4636f-01f6-4f40-9b57-90b6797df738\")>,\n",
       " <selenium.webdriver.remote.webelement.WebElement (session=\"0259e7284c6db8bd5c67d118a884ddb4\", element=\"4f804474-001d-4607-9047-7b31049b88c1\")>,\n",
       " <selenium.webdriver.remote.webelement.WebElement (session=\"0259e7284c6db8bd5c67d118a884ddb4\", element=\"dade4139-0aa0-4495-9a94-9c3015331347\")>,\n",
       " <selenium.webdriver.remote.webelement.WebElement (session=\"0259e7284c6db8bd5c67d118a884ddb4\", element=\"909603c7-2e76-4b4c-8c3e-61585a34e284\")>,\n",
       " <selenium.webdriver.remote.webelement.WebElement (session=\"0259e7284c6db8bd5c67d118a884ddb4\", element=\"63137ccf-98b5-4b00-bfab-5d3c4c53b306\")>,\n",
       " <selenium.webdriver.remote.webelement.WebElement (session=\"0259e7284c6db8bd5c67d118a884ddb4\", element=\"b97613f5-0cb1-4b20-9ecc-8d97fc674f53\")>,\n",
       " <selenium.webdriver.remote.webelement.WebElement (session=\"0259e7284c6db8bd5c67d118a884ddb4\", element=\"0b9eb5c1-2d5b-4679-b042-43913cb3c090\")>,\n",
       " <selenium.webdriver.remote.webelement.WebElement (session=\"0259e7284c6db8bd5c67d118a884ddb4\", element=\"4013ef1f-7f66-4afe-8bdb-dbb19809f245\")>,\n",
       " <selenium.webdriver.remote.webelement.WebElement (session=\"0259e7284c6db8bd5c67d118a884ddb4\", element=\"eda587aa-e1d9-4284-b0c4-da6ecfeff4df\")>,\n",
       " <selenium.webdriver.remote.webelement.WebElement (session=\"0259e7284c6db8bd5c67d118a884ddb4\", element=\"20e55a57-ea9b-4d5c-b208-bfb3d512cc39\")>,\n",
       " <selenium.webdriver.remote.webelement.WebElement (session=\"0259e7284c6db8bd5c67d118a884ddb4\", element=\"40c34d90-5852-4dac-8a2c-2b9f2e591fbd\")>,\n",
       " <selenium.webdriver.remote.webelement.WebElement (session=\"0259e7284c6db8bd5c67d118a884ddb4\", element=\"c379ed4b-4fec-4f3f-bca6-23d3d418362b\")>,\n",
       " <selenium.webdriver.remote.webelement.WebElement (session=\"0259e7284c6db8bd5c67d118a884ddb4\", element=\"ee1016b1-b348-4e88-b45c-fe9adb5e7f86\")>,\n",
       " <selenium.webdriver.remote.webelement.WebElement (session=\"0259e7284c6db8bd5c67d118a884ddb4\", element=\"71e9fa32-3ec8-44ce-96f6-641be6e9e3f8\")>]"
      ]
     },
     "execution_count": 35,
     "metadata": {},
     "output_type": "execute_result"
    }
   ],
   "source": [
    "url = driver.find_elements_by_xpath('//a[@class=\"title fw500 ellipsis\"]')\n",
    "url"
   ]
  },
  {
   "cell_type": "code",
   "execution_count": 36,
   "metadata": {},
   "outputs": [
    {
     "data": {
      "text/plain": [
       "['https://www.naukri.com/job-listings-senior-data-scientist-philips-india-limited-bangalore-bengaluru-8-to-10-years-060821501599?src=jobsearchDesk&sid=16282711353878931&xp=1&px=1',\n",
       " 'https://www.naukri.com/job-listings-lead-data-scientist-alten-calsoft-labs-india-private-limited-bangalore-bengaluru-10-to-13-years-040621007518?src=jobsearchDesk&sid=16282711353878931&xp=2&px=1',\n",
       " 'https://www.naukri.com/job-listings-data-scientist-advanced-analytics-ibm-india-pvt-limited-bangalore-bengaluru-5-to-10-years-060821907733?src=jobsearchDesk&sid=16282711353878931&xp=3&px=1',\n",
       " 'https://www.naukri.com/job-listings-senior-data-scientist-symbiosis-international-w-l-l-bangalore-bengaluru-10-to-15-years-050821004331?src=jobsearchDesk&sid=16282711353878931&xp=4&px=1',\n",
       " 'https://www.naukri.com/job-listings-senior-data-scientist-datamatics-global-services-ltd-bangalore-bengaluru-8-to-13-years-040821003517?src=jobsearchDesk&sid=16282711353878931&xp=5&px=1',\n",
       " 'https://www.naukri.com/job-listings-data-scientist-mcafee-software-india-pvt-ltd-bangalore-bengaluru-4-to-8-years-050821501145?src=jobsearchDesk&sid=16282711353878931&xp=6&px=1',\n",
       " 'https://www.naukri.com/job-listings-data-engineers-data-scientist-and-sap-teamware-solutions-bangalore-bengaluru-7-to-10-years-300721500677?src=jobsearchDesk&sid=16282711353878931&xp=7&px=1',\n",
       " 'https://www.naukri.com/job-listings-python-data-scientist-mindtree-limited-bangalore-bengaluru-3-to-5-years-040821500207?src=jobsearchDesk&sid=16282711353878931&xp=8&px=1',\n",
       " 'https://www.naukri.com/job-listings-software-developer-data-scientist-nlp-machine-learning-dot-net-cunesoft-india-private-limited-bangalore-bengaluru-3-to-8-years-190121001281?src=jobsearchDesk&sid=16282711353878931&xp=9&px=1',\n",
       " 'https://www.naukri.com/job-listings-data-scientist-uber-bangalore-bengaluru-6-to-8-years-050821500683?src=jobsearchDesk&sid=16282711353878931&xp=10&px=1',\n",
       " 'https://www.naukri.com/job-listings-senior-associate-data-scientist-novotree-minds-consulting-pvt-limited-bangalore-bengaluru-4-to-7-years-300721001832?src=jobsearchDesk&sid=16282711353878931&xp=11&px=1',\n",
       " 'https://www.naukri.com/job-listings-senior-data-scientist-ibm-india-pvt-limited-bangalore-bengaluru-5-to-10-years-260721907182?src=jobsearchDesk&sid=16282711353878931&xp=12&px=1',\n",
       " 'https://www.naukri.com/job-listings-sr-data-scientist-ibm-india-pvt-limited-bangalore-bengaluru-8-to-12-years-230721906918?src=jobsearchDesk&sid=16282711353878931&xp=13&px=1',\n",
       " 'https://www.naukri.com/job-listings-senior-data-scientist-publicis-groupe-bangalore-bengaluru-2-to-5-years-030821501259?src=jobsearchDesk&sid=16282711353878931&xp=14&px=1',\n",
       " 'https://www.naukri.com/job-listings-senior-data-scientist-bidgely-technologies-private-limited-bangalore-bengaluru-4-to-6-years-030821500043?src=jobsearchDesk&sid=16282711353878931&xp=15&px=1',\n",
       " 'https://www.naukri.com/job-listings-senior-data-scientist-goals-101-data-solutions-pvt-ltd-new-delhi-bangalore-bengaluru-delhi-ncr-4-to-8-years-030821000870?src=jobsearchDesk&sid=16282711353878931&xp=16&px=1',\n",
       " 'https://www.naukri.com/job-listings-data-scientist-permanent-role-onward-technologies-limited-hyderabad-secunderabad-chennai-bangalore-bengaluru-6-to-11-years-030821002780?src=jobsearchDesk&sid=16282711353878931&xp=17&px=1',\n",
       " 'https://www.naukri.com/job-listings-senior-data-scientist-randstad-india-pvt-ltd-bangalore-bengaluru-4-to-9-years-280721000424?src=jobsearchDesk&sid=16282711353878931&xp=18&px=1',\n",
       " 'https://www.naukri.com/job-listings-senior-data-scientist-red-hat-india-pvt-ltd-bangalore-bengaluru-8-to-13-years-220721008125?src=jobsearchDesk&sid=16282711353878931&xp=19&px=1',\n",
       " 'https://www.naukri.com/job-listings-sr-data-scientist-tech-lead-data-science-confidential-bangalore-bengaluru-6-to-9-years-020821903704?src=jobsearchDesk&sid=16282711353878931&xp=20&px=1']"
      ]
     },
     "execution_count": 36,
     "metadata": {},
     "output_type": "execute_result"
    }
   ],
   "source": [
    "job_openings_urls = []\n",
    "for i in url:\n",
    "    job_openings_urls.append(i.get_attribute('href'))\n",
    "job_openings_urls"
   ]
  },
  {
   "cell_type": "code",
   "execution_count": 37,
   "metadata": {},
   "outputs": [
    {
     "data": {
      "text/plain": [
       "['Ensure strategic direction for data science capabilities for Philips is created and kept up to date on a regular basis',\n",
       " 'Participate in customer workshops to understand customer problems and design solutions with Advanced Analytics',\n",
       " '--',\n",
       " 'Should be having thorough knowledge in R, Python, Scala on demand and Jupyter Notebooks.',\n",
       " 'The hiring is for a single Data Scientist (7-8+yrs) as he/she shall be an individual contributor.',\n",
       " '--',\n",
       " 'Dynamic recruiting professional with 7 - 10 years of high-performance tech recruiting experience with search firms and /or mid-large-sized technology companies.',\n",
       " '3-5 years of hands-on experience in in data science, applied statistics, machine learning, data mining, statistical modeling tools and underlying algorithms 3-5 years of hands-on experience building production grade machine learning enabled solutions end to end.',\n",
       " 'Develop and improve the existing data mining and NLP related processes within our Regulatory Data Management platform',\n",
       " '--',\n",
       " '--',\n",
       " '--',\n",
       " '--',\n",
       " 'Work with stakeholders throughout the organization to identify opportunities for leveraging company data to drive business solutions.',\n",
       " 'Research and develop advanced statistical and machine learning models for analysis of large-scale, high-dimensional data.',\n",
       " 'Work as part of a product team in defining, prototyping and implementing data science models/algorithms as part of the product.',\n",
       " '--',\n",
       " 'Our Analytics Services group has an open, full-time position in the Bangalore region for a Senior data scientist.  The senior data scientist will be working with our clients on new product development/ new solution development as well as improve on current solutions.\\nFunctional Responsibilities',\n",
       " 'Data mining, and statistical techniques and algorithms to create new scalable solutions for business problems by analysis of large amounts of data',\n",
       " '--']"
      ]
     },
     "execution_count": 37,
     "metadata": {},
     "output_type": "execute_result"
    }
   ],
   "source": [
    "job_descriptions = []\n",
    "for i in job_openings_urls:\n",
    "    driver.get(i)\n",
    "#Extracting job title\n",
    "    try:\n",
    "        job_description = driver.find_element_by_xpath(\"//div[@class='dang-inner-html']//li[1]\")\n",
    "        job_descriptions.append(job_description.text)\n",
    "    except:\n",
    "        job_descriptions.append(\"--\")\n",
    "\n",
    "job_descriptions"
   ]
  },
  {
   "cell_type": "code",
   "execution_count": 38,
   "metadata": {},
   "outputs": [
    {
     "name": "stdout",
     "output_type": "stream",
     "text": [
      "20 20 20 20\n"
     ]
    }
   ],
   "source": [
    "print(len(job_titles),len(company_names),len(job_descriptions),len(locations_names))"
   ]
  },
  {
   "cell_type": "code",
   "execution_count": 39,
   "metadata": {},
   "outputs": [],
   "source": [
    "import pandas as pd\n",
    "jobs=pd.DataFrame({})\n",
    "jobs['title']=job_titles\n",
    "jobs['company']=company_names\n",
    "jobs['location']=locations_names\n",
    "jobs['description']=job_descriptions"
   ]
  },
  {
   "cell_type": "code",
   "execution_count": 40,
   "metadata": {},
   "outputs": [
    {
     "data": {
      "text/html": [
       "<div>\n",
       "<style scoped>\n",
       "    .dataframe tbody tr th:only-of-type {\n",
       "        vertical-align: middle;\n",
       "    }\n",
       "\n",
       "    .dataframe tbody tr th {\n",
       "        vertical-align: top;\n",
       "    }\n",
       "\n",
       "    .dataframe thead th {\n",
       "        text-align: right;\n",
       "    }\n",
       "</style>\n",
       "<table border=\"1\" class=\"dataframe\">\n",
       "  <thead>\n",
       "    <tr style=\"text-align: right;\">\n",
       "      <th></th>\n",
       "      <th>title</th>\n",
       "      <th>company</th>\n",
       "      <th>location</th>\n",
       "      <th>description</th>\n",
       "    </tr>\n",
       "  </thead>\n",
       "  <tbody>\n",
       "    <tr>\n",
       "      <th>0</th>\n",
       "      <td>Senior Data Scientist</td>\n",
       "      <td>Philips India Limited</td>\n",
       "      <td>Bangalore/Bengaluru</td>\n",
       "      <td>Ensure strategic direction for data science ca...</td>\n",
       "    </tr>\n",
       "    <tr>\n",
       "      <th>1</th>\n",
       "      <td>Lead Data Scientist</td>\n",
       "      <td>ALTEN CALSOFT LABS (INDIA) PRIVATE LIMITED</td>\n",
       "      <td>Bangalore/Bengaluru(Dairy Circle)</td>\n",
       "      <td>Participate in customer workshops to understan...</td>\n",
       "    </tr>\n",
       "    <tr>\n",
       "      <th>2</th>\n",
       "      <td>Data Scientist: Advanced Analytics</td>\n",
       "      <td>IBM India Pvt. Limited</td>\n",
       "      <td>Bangalore/Bengaluru</td>\n",
       "      <td>--</td>\n",
       "    </tr>\n",
       "    <tr>\n",
       "      <th>3</th>\n",
       "      <td>Senior Data Scientist</td>\n",
       "      <td>SYMBIOSIS International W.L.L</td>\n",
       "      <td>Bangalore/Bengaluru</td>\n",
       "      <td>Should be having thorough knowledge in R, Pyth...</td>\n",
       "    </tr>\n",
       "    <tr>\n",
       "      <th>4</th>\n",
       "      <td>Senior Data Scientist</td>\n",
       "      <td>Datamatics Global Services Ltd</td>\n",
       "      <td>Bangalore/Bengaluru</td>\n",
       "      <td>The hiring is for a single Data Scientist (7-8...</td>\n",
       "    </tr>\n",
       "    <tr>\n",
       "      <th>5</th>\n",
       "      <td>DATA SCIENTIST</td>\n",
       "      <td>McAfee Software (India) Pvt. Ltd</td>\n",
       "      <td>Bangalore/Bengaluru</td>\n",
       "      <td>--</td>\n",
       "    </tr>\n",
       "    <tr>\n",
       "      <th>6</th>\n",
       "      <td>Data Engineers , Data Scientist and SAP</td>\n",
       "      <td>Teamware Solutions</td>\n",
       "      <td>Bangalore/Bengaluru</td>\n",
       "      <td>Dynamic recruiting professional with 7 - 10 ye...</td>\n",
       "    </tr>\n",
       "    <tr>\n",
       "      <th>7</th>\n",
       "      <td>Python - Data Scientist</td>\n",
       "      <td>Mindtree Limited</td>\n",
       "      <td>Bangalore/Bengaluru</td>\n",
       "      <td>3-5 years of hands-on experience in in data sc...</td>\n",
       "    </tr>\n",
       "    <tr>\n",
       "      <th>8</th>\n",
       "      <td>Software Developer - Data Scientist / NLP / Ma...</td>\n",
       "      <td>Cunesoft India Private Limited</td>\n",
       "      <td>Bangalore/Bengaluru</td>\n",
       "      <td>Develop and improve the existing data mining a...</td>\n",
       "    </tr>\n",
       "    <tr>\n",
       "      <th>9</th>\n",
       "      <td>Data scientist</td>\n",
       "      <td>Uber</td>\n",
       "      <td>Bangalore/Bengaluru</td>\n",
       "      <td>--</td>\n",
       "    </tr>\n",
       "    <tr>\n",
       "      <th>10</th>\n",
       "      <td>Senior Associate - Data Scientist</td>\n",
       "      <td>Novotree Minds Consulting Pvt Limited</td>\n",
       "      <td>Bangalore/Bengaluru</td>\n",
       "      <td>--</td>\n",
       "    </tr>\n",
       "    <tr>\n",
       "      <th>11</th>\n",
       "      <td>Senior Data Scientist</td>\n",
       "      <td>IBM India Pvt. Limited</td>\n",
       "      <td>Bangalore/Bengaluru</td>\n",
       "      <td>--</td>\n",
       "    </tr>\n",
       "    <tr>\n",
       "      <th>12</th>\n",
       "      <td>Sr Data Scientist</td>\n",
       "      <td>IBM India Pvt. Limited</td>\n",
       "      <td>Bangalore/Bengaluru</td>\n",
       "      <td>--</td>\n",
       "    </tr>\n",
       "    <tr>\n",
       "      <th>13</th>\n",
       "      <td>Senior Data Scientist</td>\n",
       "      <td>Publicis Groupe</td>\n",
       "      <td>Bangalore/Bengaluru</td>\n",
       "      <td>Work with stakeholders throughout the organiza...</td>\n",
       "    </tr>\n",
       "    <tr>\n",
       "      <th>14</th>\n",
       "      <td>Senior Data Scientist</td>\n",
       "      <td>Bidgely Technologies Private Limited</td>\n",
       "      <td>Bangalore/Bengaluru</td>\n",
       "      <td>Research and develop advanced statistical and ...</td>\n",
       "    </tr>\n",
       "    <tr>\n",
       "      <th>15</th>\n",
       "      <td>Senior Data Scientist</td>\n",
       "      <td>Goals 101 Data Solutions Pvt. Ltd.</td>\n",
       "      <td>New Delhi, Bangalore/Bengaluru, Delhi / NCR</td>\n",
       "      <td>Work as part of a product team in defining, pr...</td>\n",
       "    </tr>\n",
       "    <tr>\n",
       "      <th>16</th>\n",
       "      <td>Data Scientist - Permanent Role</td>\n",
       "      <td>Onward Technologies Limited</td>\n",
       "      <td>Hyderabad/Secunderabad, Chennai, Bangalore/Ben...</td>\n",
       "      <td>--</td>\n",
       "    </tr>\n",
       "    <tr>\n",
       "      <th>17</th>\n",
       "      <td>Senior Data Scientist</td>\n",
       "      <td>RANDSTAD INDIA PVT LTD</td>\n",
       "      <td>Bangalore/Bengaluru</td>\n",
       "      <td>Our Analytics Services group has an open, full...</td>\n",
       "    </tr>\n",
       "    <tr>\n",
       "      <th>18</th>\n",
       "      <td>Senior Data Scientist</td>\n",
       "      <td>Red Hat India Pvt Ltd</td>\n",
       "      <td>Bangalore/Bengaluru</td>\n",
       "      <td>Data mining, and statistical techniques and al...</td>\n",
       "    </tr>\n",
       "    <tr>\n",
       "      <th>19</th>\n",
       "      <td>Sr. Data Scientist / Tech Lead - Data Science</td>\n",
       "      <td>Confidential</td>\n",
       "      <td>Bangalore/Bengaluru</td>\n",
       "      <td>--</td>\n",
       "    </tr>\n",
       "  </tbody>\n",
       "</table>\n",
       "</div>"
      ],
      "text/plain": [
       "                                                title  \\\n",
       "0                               Senior Data Scientist   \n",
       "1                                 Lead Data Scientist   \n",
       "2                  Data Scientist: Advanced Analytics   \n",
       "3                               Senior Data Scientist   \n",
       "4                               Senior Data Scientist   \n",
       "5                                      DATA SCIENTIST   \n",
       "6             Data Engineers , Data Scientist and SAP   \n",
       "7                             Python - Data Scientist   \n",
       "8   Software Developer - Data Scientist / NLP / Ma...   \n",
       "9                                      Data scientist   \n",
       "10                  Senior Associate - Data Scientist   \n",
       "11                              Senior Data Scientist   \n",
       "12                                  Sr Data Scientist   \n",
       "13                              Senior Data Scientist   \n",
       "14                              Senior Data Scientist   \n",
       "15                              Senior Data Scientist   \n",
       "16                    Data Scientist - Permanent Role   \n",
       "17                              Senior Data Scientist   \n",
       "18                              Senior Data Scientist   \n",
       "19      Sr. Data Scientist / Tech Lead - Data Science   \n",
       "\n",
       "                                       company  \\\n",
       "0                        Philips India Limited   \n",
       "1   ALTEN CALSOFT LABS (INDIA) PRIVATE LIMITED   \n",
       "2                       IBM India Pvt. Limited   \n",
       "3                SYMBIOSIS International W.L.L   \n",
       "4               Datamatics Global Services Ltd   \n",
       "5             McAfee Software (India) Pvt. Ltd   \n",
       "6                           Teamware Solutions   \n",
       "7                             Mindtree Limited   \n",
       "8               Cunesoft India Private Limited   \n",
       "9                                         Uber   \n",
       "10       Novotree Minds Consulting Pvt Limited   \n",
       "11                      IBM India Pvt. Limited   \n",
       "12                      IBM India Pvt. Limited   \n",
       "13                             Publicis Groupe   \n",
       "14        Bidgely Technologies Private Limited   \n",
       "15          Goals 101 Data Solutions Pvt. Ltd.   \n",
       "16                 Onward Technologies Limited   \n",
       "17                      RANDSTAD INDIA PVT LTD   \n",
       "18                       Red Hat India Pvt Ltd   \n",
       "19                                Confidential   \n",
       "\n",
       "                                             location  \\\n",
       "0                                 Bangalore/Bengaluru   \n",
       "1                   Bangalore/Bengaluru(Dairy Circle)   \n",
       "2                                 Bangalore/Bengaluru   \n",
       "3                                 Bangalore/Bengaluru   \n",
       "4                                 Bangalore/Bengaluru   \n",
       "5                                 Bangalore/Bengaluru   \n",
       "6                                 Bangalore/Bengaluru   \n",
       "7                                 Bangalore/Bengaluru   \n",
       "8                                 Bangalore/Bengaluru   \n",
       "9                                 Bangalore/Bengaluru   \n",
       "10                                Bangalore/Bengaluru   \n",
       "11                                Bangalore/Bengaluru   \n",
       "12                                Bangalore/Bengaluru   \n",
       "13                                Bangalore/Bengaluru   \n",
       "14                                Bangalore/Bengaluru   \n",
       "15        New Delhi, Bangalore/Bengaluru, Delhi / NCR   \n",
       "16  Hyderabad/Secunderabad, Chennai, Bangalore/Ben...   \n",
       "17                                Bangalore/Bengaluru   \n",
       "18                                Bangalore/Bengaluru   \n",
       "19                                Bangalore/Bengaluru   \n",
       "\n",
       "                                          description  \n",
       "0   Ensure strategic direction for data science ca...  \n",
       "1   Participate in customer workshops to understan...  \n",
       "2                                                  --  \n",
       "3   Should be having thorough knowledge in R, Pyth...  \n",
       "4   The hiring is for a single Data Scientist (7-8...  \n",
       "5                                                  --  \n",
       "6   Dynamic recruiting professional with 7 - 10 ye...  \n",
       "7   3-5 years of hands-on experience in in data sc...  \n",
       "8   Develop and improve the existing data mining a...  \n",
       "9                                                  --  \n",
       "10                                                 --  \n",
       "11                                                 --  \n",
       "12                                                 --  \n",
       "13  Work with stakeholders throughout the organiza...  \n",
       "14  Research and develop advanced statistical and ...  \n",
       "15  Work as part of a product team in defining, pr...  \n",
       "16                                                 --  \n",
       "17  Our Analytics Services group has an open, full...  \n",
       "18  Data mining, and statistical techniques and al...  \n",
       "19                                                 --  "
      ]
     },
     "execution_count": 40,
     "metadata": {},
     "output_type": "execute_result"
    }
   ],
   "source": [
    "jobs"
   ]
  },
  {
   "cell_type": "code",
   "execution_count": 41,
   "metadata": {},
   "outputs": [
    {
     "data": {
      "text/html": [
       "<div>\n",
       "<style scoped>\n",
       "    .dataframe tbody tr th:only-of-type {\n",
       "        vertical-align: middle;\n",
       "    }\n",
       "\n",
       "    .dataframe tbody tr th {\n",
       "        vertical-align: top;\n",
       "    }\n",
       "\n",
       "    .dataframe thead th {\n",
       "        text-align: right;\n",
       "    }\n",
       "</style>\n",
       "<table border=\"1\" class=\"dataframe\">\n",
       "  <thead>\n",
       "    <tr style=\"text-align: right;\">\n",
       "      <th></th>\n",
       "      <th>title</th>\n",
       "      <th>company</th>\n",
       "      <th>location</th>\n",
       "      <th>description</th>\n",
       "    </tr>\n",
       "  </thead>\n",
       "  <tbody>\n",
       "    <tr>\n",
       "      <th>0</th>\n",
       "      <td>Senior Data Scientist</td>\n",
       "      <td>Philips India Limited</td>\n",
       "      <td>Bangalore/Bengaluru</td>\n",
       "      <td>Ensure strategic direction for data science ca...</td>\n",
       "    </tr>\n",
       "    <tr>\n",
       "      <th>1</th>\n",
       "      <td>Lead Data Scientist</td>\n",
       "      <td>ALTEN CALSOFT LABS (INDIA) PRIVATE LIMITED</td>\n",
       "      <td>Bangalore/Bengaluru(Dairy Circle)</td>\n",
       "      <td>Participate in customer workshops to understan...</td>\n",
       "    </tr>\n",
       "    <tr>\n",
       "      <th>2</th>\n",
       "      <td>Data Scientist: Advanced Analytics</td>\n",
       "      <td>IBM India Pvt. Limited</td>\n",
       "      <td>Bangalore/Bengaluru</td>\n",
       "      <td>--</td>\n",
       "    </tr>\n",
       "    <tr>\n",
       "      <th>3</th>\n",
       "      <td>Senior Data Scientist</td>\n",
       "      <td>SYMBIOSIS International W.L.L</td>\n",
       "      <td>Bangalore/Bengaluru</td>\n",
       "      <td>Should be having thorough knowledge in R, Pyth...</td>\n",
       "    </tr>\n",
       "    <tr>\n",
       "      <th>4</th>\n",
       "      <td>Senior Data Scientist</td>\n",
       "      <td>Datamatics Global Services Ltd</td>\n",
       "      <td>Bangalore/Bengaluru</td>\n",
       "      <td>The hiring is for a single Data Scientist (7-8...</td>\n",
       "    </tr>\n",
       "    <tr>\n",
       "      <th>5</th>\n",
       "      <td>DATA SCIENTIST</td>\n",
       "      <td>McAfee Software (India) Pvt. Ltd</td>\n",
       "      <td>Bangalore/Bengaluru</td>\n",
       "      <td>--</td>\n",
       "    </tr>\n",
       "    <tr>\n",
       "      <th>6</th>\n",
       "      <td>Data Engineers , Data Scientist and SAP</td>\n",
       "      <td>Teamware Solutions</td>\n",
       "      <td>Bangalore/Bengaluru</td>\n",
       "      <td>Dynamic recruiting professional with 7 - 10 ye...</td>\n",
       "    </tr>\n",
       "    <tr>\n",
       "      <th>7</th>\n",
       "      <td>Python - Data Scientist</td>\n",
       "      <td>Mindtree Limited</td>\n",
       "      <td>Bangalore/Bengaluru</td>\n",
       "      <td>3-5 years of hands-on experience in in data sc...</td>\n",
       "    </tr>\n",
       "    <tr>\n",
       "      <th>8</th>\n",
       "      <td>Software Developer - Data Scientist / NLP / Ma...</td>\n",
       "      <td>Cunesoft India Private Limited</td>\n",
       "      <td>Bangalore/Bengaluru</td>\n",
       "      <td>Develop and improve the existing data mining a...</td>\n",
       "    </tr>\n",
       "    <tr>\n",
       "      <th>9</th>\n",
       "      <td>Data scientist</td>\n",
       "      <td>Uber</td>\n",
       "      <td>Bangalore/Bengaluru</td>\n",
       "      <td>--</td>\n",
       "    </tr>\n",
       "  </tbody>\n",
       "</table>\n",
       "</div>"
      ],
      "text/plain": [
       "                                               title  \\\n",
       "0                              Senior Data Scientist   \n",
       "1                                Lead Data Scientist   \n",
       "2                 Data Scientist: Advanced Analytics   \n",
       "3                              Senior Data Scientist   \n",
       "4                              Senior Data Scientist   \n",
       "5                                     DATA SCIENTIST   \n",
       "6            Data Engineers , Data Scientist and SAP   \n",
       "7                            Python - Data Scientist   \n",
       "8  Software Developer - Data Scientist / NLP / Ma...   \n",
       "9                                     Data scientist   \n",
       "\n",
       "                                      company  \\\n",
       "0                       Philips India Limited   \n",
       "1  ALTEN CALSOFT LABS (INDIA) PRIVATE LIMITED   \n",
       "2                      IBM India Pvt. Limited   \n",
       "3               SYMBIOSIS International W.L.L   \n",
       "4              Datamatics Global Services Ltd   \n",
       "5            McAfee Software (India) Pvt. Ltd   \n",
       "6                          Teamware Solutions   \n",
       "7                            Mindtree Limited   \n",
       "8              Cunesoft India Private Limited   \n",
       "9                                        Uber   \n",
       "\n",
       "                            location  \\\n",
       "0                Bangalore/Bengaluru   \n",
       "1  Bangalore/Bengaluru(Dairy Circle)   \n",
       "2                Bangalore/Bengaluru   \n",
       "3                Bangalore/Bengaluru   \n",
       "4                Bangalore/Bengaluru   \n",
       "5                Bangalore/Bengaluru   \n",
       "6                Bangalore/Bengaluru   \n",
       "7                Bangalore/Bengaluru   \n",
       "8                Bangalore/Bengaluru   \n",
       "9                Bangalore/Bengaluru   \n",
       "\n",
       "                                         description  \n",
       "0  Ensure strategic direction for data science ca...  \n",
       "1  Participate in customer workshops to understan...  \n",
       "2                                                 --  \n",
       "3  Should be having thorough knowledge in R, Pyth...  \n",
       "4  The hiring is for a single Data Scientist (7-8...  \n",
       "5                                                 --  \n",
       "6  Dynamic recruiting professional with 7 - 10 ye...  \n",
       "7  3-5 years of hands-on experience in in data sc...  \n",
       "8  Develop and improve the existing data mining a...  \n",
       "9                                                 --  "
      ]
     },
     "execution_count": 41,
     "metadata": {},
     "output_type": "execute_result"
    }
   ],
   "source": [
    "a=jobs\n",
    "b=a[:10]\n",
    "b"
   ]
  },
  {
   "cell_type": "markdown",
   "metadata": {},
   "source": [
    "# Answer for question 3"
   ]
  },
  {
   "cell_type": "code",
   "execution_count": 55,
   "metadata": {},
   "outputs": [],
   "source": [
    "\n",
    "url = 'https://www.naukri.com/'\n",
    "driver.get(url)"
   ]
  },
  {
   "cell_type": "code",
   "execution_count": 56,
   "metadata": {},
   "outputs": [
    {
     "data": {
      "text/plain": [
       "<selenium.webdriver.remote.webelement.WebElement (session=\"0259e7284c6db8bd5c67d118a884ddb4\", element=\"34acc8f3-dd3d-44db-bff4-6eefeb6ff9b1\")>"
      ]
     },
     "execution_count": 56,
     "metadata": {},
     "output_type": "execute_result"
    }
   ],
   "source": [
    "search_job = driver.find_element_by_id('qsb-keyword-sugg')\n",
    "search_job"
   ]
  },
  {
   "cell_type": "code",
   "execution_count": 57,
   "metadata": {},
   "outputs": [],
   "source": [
    "search_job.send_keys(\"Data scientist\")"
   ]
  },
  {
   "cell_type": "code",
   "execution_count": 58,
   "metadata": {},
   "outputs": [],
   "source": [
    "search_btn = driver.find_element_by_class_name('btn')\n",
    "search_btn.click()"
   ]
  },
  {
   "cell_type": "code",
   "execution_count": 59,
   "metadata": {},
   "outputs": [
    {
     "ename": "NoSuchElementException",
     "evalue": "Message: no such element: Unable to locate element: {\"method\":\"xpath\",\"selector\":\"/html/body/div[1]/div[3]/div[2]/section[1]/div[2]/div[1]/div[2]/div[3]/label/i\"}\n  (Session info: MicrosoftEdge=92.0.902.62)\n",
     "output_type": "error",
     "traceback": [
      "\u001b[1;31m---------------------------------------------------------------------------\u001b[0m",
      "\u001b[1;31mNoSuchElementException\u001b[0m                    Traceback (most recent call last)",
      "\u001b[1;32m<ipython-input-59-d2c1afcc8a24>\u001b[0m in \u001b[0;36m<module>\u001b[1;34m\u001b[0m\n\u001b[1;32m----> 1\u001b[1;33m \u001b[0mlocation_filter\u001b[0m\u001b[1;33m=\u001b[0m\u001b[0mdriver\u001b[0m\u001b[1;33m.\u001b[0m\u001b[0mfind_element_by_xpath\u001b[0m\u001b[1;33m(\u001b[0m\u001b[1;34m'/html/body/div[1]/div[3]/div[2]/section[1]/div[2]/div[1]/div[2]/div[3]/label/i'\u001b[0m\u001b[1;33m)\u001b[0m\u001b[1;33m\u001b[0m\u001b[1;33m\u001b[0m\u001b[0m\n\u001b[0m\u001b[0;32m      2\u001b[0m \u001b[0mlocation_filter\u001b[0m\u001b[1;33m.\u001b[0m\u001b[0mclick\u001b[0m\u001b[1;33m(\u001b[0m\u001b[1;33m)\u001b[0m\u001b[1;33m\u001b[0m\u001b[1;33m\u001b[0m\u001b[0m\n",
      "\u001b[1;32m~\\anaconda3\\lib\\site-packages\\selenium\\webdriver\\remote\\webdriver.py\u001b[0m in \u001b[0;36mfind_element_by_xpath\u001b[1;34m(self, xpath)\u001b[0m\n\u001b[0;32m    392\u001b[0m             \u001b[0melement\u001b[0m \u001b[1;33m=\u001b[0m \u001b[0mdriver\u001b[0m\u001b[1;33m.\u001b[0m\u001b[0mfind_element_by_xpath\u001b[0m\u001b[1;33m(\u001b[0m\u001b[1;34m'//div/td[1]'\u001b[0m\u001b[1;33m)\u001b[0m\u001b[1;33m\u001b[0m\u001b[1;33m\u001b[0m\u001b[0m\n\u001b[0;32m    393\u001b[0m         \"\"\"\n\u001b[1;32m--> 394\u001b[1;33m         \u001b[1;32mreturn\u001b[0m \u001b[0mself\u001b[0m\u001b[1;33m.\u001b[0m\u001b[0mfind_element\u001b[0m\u001b[1;33m(\u001b[0m\u001b[0mby\u001b[0m\u001b[1;33m=\u001b[0m\u001b[0mBy\u001b[0m\u001b[1;33m.\u001b[0m\u001b[0mXPATH\u001b[0m\u001b[1;33m,\u001b[0m \u001b[0mvalue\u001b[0m\u001b[1;33m=\u001b[0m\u001b[0mxpath\u001b[0m\u001b[1;33m)\u001b[0m\u001b[1;33m\u001b[0m\u001b[1;33m\u001b[0m\u001b[0m\n\u001b[0m\u001b[0;32m    395\u001b[0m \u001b[1;33m\u001b[0m\u001b[0m\n\u001b[0;32m    396\u001b[0m     \u001b[1;32mdef\u001b[0m \u001b[0mfind_elements_by_xpath\u001b[0m\u001b[1;33m(\u001b[0m\u001b[0mself\u001b[0m\u001b[1;33m,\u001b[0m \u001b[0mxpath\u001b[0m\u001b[1;33m)\u001b[0m\u001b[1;33m:\u001b[0m\u001b[1;33m\u001b[0m\u001b[1;33m\u001b[0m\u001b[0m\n",
      "\u001b[1;32m~\\anaconda3\\lib\\site-packages\\selenium\\webdriver\\remote\\webdriver.py\u001b[0m in \u001b[0;36mfind_element\u001b[1;34m(self, by, value)\u001b[0m\n\u001b[0;32m    974\u001b[0m                 \u001b[0mby\u001b[0m \u001b[1;33m=\u001b[0m \u001b[0mBy\u001b[0m\u001b[1;33m.\u001b[0m\u001b[0mCSS_SELECTOR\u001b[0m\u001b[1;33m\u001b[0m\u001b[1;33m\u001b[0m\u001b[0m\n\u001b[0;32m    975\u001b[0m                 \u001b[0mvalue\u001b[0m \u001b[1;33m=\u001b[0m \u001b[1;34m'[name=\"%s\"]'\u001b[0m \u001b[1;33m%\u001b[0m \u001b[0mvalue\u001b[0m\u001b[1;33m\u001b[0m\u001b[1;33m\u001b[0m\u001b[0m\n\u001b[1;32m--> 976\u001b[1;33m         return self.execute(Command.FIND_ELEMENT, {\n\u001b[0m\u001b[0;32m    977\u001b[0m             \u001b[1;34m'using'\u001b[0m\u001b[1;33m:\u001b[0m \u001b[0mby\u001b[0m\u001b[1;33m,\u001b[0m\u001b[1;33m\u001b[0m\u001b[1;33m\u001b[0m\u001b[0m\n\u001b[0;32m    978\u001b[0m             'value': value})['value']\n",
      "\u001b[1;32m~\\anaconda3\\lib\\site-packages\\selenium\\webdriver\\remote\\webdriver.py\u001b[0m in \u001b[0;36mexecute\u001b[1;34m(self, driver_command, params)\u001b[0m\n\u001b[0;32m    319\u001b[0m         \u001b[0mresponse\u001b[0m \u001b[1;33m=\u001b[0m \u001b[0mself\u001b[0m\u001b[1;33m.\u001b[0m\u001b[0mcommand_executor\u001b[0m\u001b[1;33m.\u001b[0m\u001b[0mexecute\u001b[0m\u001b[1;33m(\u001b[0m\u001b[0mdriver_command\u001b[0m\u001b[1;33m,\u001b[0m \u001b[0mparams\u001b[0m\u001b[1;33m)\u001b[0m\u001b[1;33m\u001b[0m\u001b[1;33m\u001b[0m\u001b[0m\n\u001b[0;32m    320\u001b[0m         \u001b[1;32mif\u001b[0m \u001b[0mresponse\u001b[0m\u001b[1;33m:\u001b[0m\u001b[1;33m\u001b[0m\u001b[1;33m\u001b[0m\u001b[0m\n\u001b[1;32m--> 321\u001b[1;33m             \u001b[0mself\u001b[0m\u001b[1;33m.\u001b[0m\u001b[0merror_handler\u001b[0m\u001b[1;33m.\u001b[0m\u001b[0mcheck_response\u001b[0m\u001b[1;33m(\u001b[0m\u001b[0mresponse\u001b[0m\u001b[1;33m)\u001b[0m\u001b[1;33m\u001b[0m\u001b[1;33m\u001b[0m\u001b[0m\n\u001b[0m\u001b[0;32m    322\u001b[0m             response['value'] = self._unwrap_value(\n\u001b[0;32m    323\u001b[0m                 response.get('value', None))\n",
      "\u001b[1;32m~\\anaconda3\\lib\\site-packages\\selenium\\webdriver\\remote\\errorhandler.py\u001b[0m in \u001b[0;36mcheck_response\u001b[1;34m(self, response)\u001b[0m\n\u001b[0;32m    240\u001b[0m                 \u001b[0malert_text\u001b[0m \u001b[1;33m=\u001b[0m \u001b[0mvalue\u001b[0m\u001b[1;33m[\u001b[0m\u001b[1;34m'alert'\u001b[0m\u001b[1;33m]\u001b[0m\u001b[1;33m.\u001b[0m\u001b[0mget\u001b[0m\u001b[1;33m(\u001b[0m\u001b[1;34m'text'\u001b[0m\u001b[1;33m)\u001b[0m\u001b[1;33m\u001b[0m\u001b[1;33m\u001b[0m\u001b[0m\n\u001b[0;32m    241\u001b[0m             \u001b[1;32mraise\u001b[0m \u001b[0mexception_class\u001b[0m\u001b[1;33m(\u001b[0m\u001b[0mmessage\u001b[0m\u001b[1;33m,\u001b[0m \u001b[0mscreen\u001b[0m\u001b[1;33m,\u001b[0m \u001b[0mstacktrace\u001b[0m\u001b[1;33m,\u001b[0m \u001b[0malert_text\u001b[0m\u001b[1;33m)\u001b[0m\u001b[1;33m\u001b[0m\u001b[1;33m\u001b[0m\u001b[0m\n\u001b[1;32m--> 242\u001b[1;33m         \u001b[1;32mraise\u001b[0m \u001b[0mexception_class\u001b[0m\u001b[1;33m(\u001b[0m\u001b[0mmessage\u001b[0m\u001b[1;33m,\u001b[0m \u001b[0mscreen\u001b[0m\u001b[1;33m,\u001b[0m \u001b[0mstacktrace\u001b[0m\u001b[1;33m)\u001b[0m\u001b[1;33m\u001b[0m\u001b[1;33m\u001b[0m\u001b[0m\n\u001b[0m\u001b[0;32m    243\u001b[0m \u001b[1;33m\u001b[0m\u001b[0m\n\u001b[0;32m    244\u001b[0m     \u001b[1;32mdef\u001b[0m \u001b[0m_value_or_default\u001b[0m\u001b[1;33m(\u001b[0m\u001b[0mself\u001b[0m\u001b[1;33m,\u001b[0m \u001b[0mobj\u001b[0m\u001b[1;33m,\u001b[0m \u001b[0mkey\u001b[0m\u001b[1;33m,\u001b[0m \u001b[0mdefault\u001b[0m\u001b[1;33m)\u001b[0m\u001b[1;33m:\u001b[0m\u001b[1;33m\u001b[0m\u001b[1;33m\u001b[0m\u001b[0m\n",
      "\u001b[1;31mNoSuchElementException\u001b[0m: Message: no such element: Unable to locate element: {\"method\":\"xpath\",\"selector\":\"/html/body/div[1]/div[3]/div[2]/section[1]/div[2]/div[1]/div[2]/div[3]/label/i\"}\n  (Session info: MicrosoftEdge=92.0.902.62)\n"
     ]
    }
   ],
   "source": [
    "location_filter=driver.find_element_by_xpath('/html/body/div[1]/div[3]/div[2]/section[1]/div[2]/div[1]/div[2]/div[3]/label/i') \n",
    "location_filter.click()"
   ]
  },
  {
   "cell_type": "code",
   "execution_count": 60,
   "metadata": {},
   "outputs": [],
   "source": [
    "salary_filter=driver.find_element_by_xpath('/html/body/div[1]/div[3]/div[2]/section[1]/div[2]/div[4]/div[2]/div[2]/label/i') \n",
    "salary_filter.click()"
   ]
  },
  {
   "cell_type": "code",
   "execution_count": 61,
   "metadata": {},
   "outputs": [
    {
     "data": {
      "text/plain": [
       "[<selenium.webdriver.remote.webelement.WebElement (session=\"0259e7284c6db8bd5c67d118a884ddb4\", element=\"adc417a1-f7ea-41b5-89ad-639d9a9035f9\")>,\n",
       " <selenium.webdriver.remote.webelement.WebElement (session=\"0259e7284c6db8bd5c67d118a884ddb4\", element=\"faac5a2b-23b0-4f4f-8d26-3f0689cc9f67\")>,\n",
       " <selenium.webdriver.remote.webelement.WebElement (session=\"0259e7284c6db8bd5c67d118a884ddb4\", element=\"86185b25-3246-4919-9852-9658566d8918\")>,\n",
       " <selenium.webdriver.remote.webelement.WebElement (session=\"0259e7284c6db8bd5c67d118a884ddb4\", element=\"bdd56298-5b45-4ed0-8cce-431481a28f3c\")>,\n",
       " <selenium.webdriver.remote.webelement.WebElement (session=\"0259e7284c6db8bd5c67d118a884ddb4\", element=\"5f636313-e852-4dc1-bfdd-30d3ce4cf0ee\")>,\n",
       " <selenium.webdriver.remote.webelement.WebElement (session=\"0259e7284c6db8bd5c67d118a884ddb4\", element=\"b75fc613-6e89-49bd-b6bb-bd4c86abb6e8\")>,\n",
       " <selenium.webdriver.remote.webelement.WebElement (session=\"0259e7284c6db8bd5c67d118a884ddb4\", element=\"9f186c77-8258-4dae-a8af-8e78d8f953d0\")>,\n",
       " <selenium.webdriver.remote.webelement.WebElement (session=\"0259e7284c6db8bd5c67d118a884ddb4\", element=\"f4482911-780e-47c3-99b1-b701a7352a6d\")>,\n",
       " <selenium.webdriver.remote.webelement.WebElement (session=\"0259e7284c6db8bd5c67d118a884ddb4\", element=\"97a29fdc-0987-4ec2-8695-640abf8f0b9b\")>,\n",
       " <selenium.webdriver.remote.webelement.WebElement (session=\"0259e7284c6db8bd5c67d118a884ddb4\", element=\"1f941989-b1fe-454a-b7a9-c416acf2c088\")>,\n",
       " <selenium.webdriver.remote.webelement.WebElement (session=\"0259e7284c6db8bd5c67d118a884ddb4\", element=\"4ce98caf-d12f-4b61-ac7a-968fc3f0545d\")>,\n",
       " <selenium.webdriver.remote.webelement.WebElement (session=\"0259e7284c6db8bd5c67d118a884ddb4\", element=\"13826681-2ba9-4107-a6cd-58e23423ca0c\")>,\n",
       " <selenium.webdriver.remote.webelement.WebElement (session=\"0259e7284c6db8bd5c67d118a884ddb4\", element=\"ee07a404-149b-4f1d-bd86-57a6328a4a1c\")>,\n",
       " <selenium.webdriver.remote.webelement.WebElement (session=\"0259e7284c6db8bd5c67d118a884ddb4\", element=\"ac6773d6-fc5a-4404-a05f-8b30d0fcf62f\")>,\n",
       " <selenium.webdriver.remote.webelement.WebElement (session=\"0259e7284c6db8bd5c67d118a884ddb4\", element=\"d218c5d5-a09e-4c94-b103-be4a2a135f94\")>,\n",
       " <selenium.webdriver.remote.webelement.WebElement (session=\"0259e7284c6db8bd5c67d118a884ddb4\", element=\"caf9b61b-aadf-4fb2-896b-bbaba3b1193b\")>,\n",
       " <selenium.webdriver.remote.webelement.WebElement (session=\"0259e7284c6db8bd5c67d118a884ddb4\", element=\"69eee085-b001-4bf9-aa6e-ed83e68b21cd\")>,\n",
       " <selenium.webdriver.remote.webelement.WebElement (session=\"0259e7284c6db8bd5c67d118a884ddb4\", element=\"ec35909c-1d98-4ba5-b939-5cad2b26c51d\")>,\n",
       " <selenium.webdriver.remote.webelement.WebElement (session=\"0259e7284c6db8bd5c67d118a884ddb4\", element=\"2d443652-a2a9-4643-a058-66b79535a015\")>,\n",
       " <selenium.webdriver.remote.webelement.WebElement (session=\"0259e7284c6db8bd5c67d118a884ddb4\", element=\"620627f8-f26c-474d-ad5d-d1e16366d3ae\")>]"
      ]
     },
     "execution_count": 61,
     "metadata": {},
     "output_type": "execute_result"
    }
   ],
   "source": [
    "#extracting all the tags having job titles\n",
    "titles_tags=driver.find_elements_by_xpath(\"//a[@class='title fw500 ellipsis']\") #element's' gives us all the elements\n",
    "titles_tags"
   ]
  },
  {
   "cell_type": "code",
   "execution_count": 62,
   "metadata": {},
   "outputs": [
    {
     "data": {
      "text/plain": [
       "['Data Engineers , Data Scientist and SAP',\n",
       " 'Data Scientist - Permanent Role',\n",
       " 'Senior Data Scientist',\n",
       " 'Senior Data & Applied Scientist',\n",
       " 'Immediate Openings For DATA Scientist with 6 To 7 yrs of Experience',\n",
       " 'Hiring Data Scientist',\n",
       " 'Data Scientist',\n",
       " 'Trainee Data Scientists',\n",
       " 'Data Engineer/Data Scientist',\n",
       " 'Senior Data Scientist',\n",
       " 'Data Scientist / Sr. Data Scientist',\n",
       " 'Only Fresher / Data Scientist / Data Analyst / Analytics - MNC Jobs',\n",
       " 'Data & Applied Scientist',\n",
       " 'Hiring Data Scientist Develope || IDS Infotech LTD || (Permanent WFH)',\n",
       " 'Hiring Data Scientist Develope || IDS Infotech LTD || (Permanent WFH)',\n",
       " 'Data Scientist',\n",
       " 'Data Scientist',\n",
       " 'Data Scientist',\n",
       " 'Data Scientist',\n",
       " 'Data Scientist']"
      ]
     },
     "execution_count": 62,
     "metadata": {},
     "output_type": "execute_result"
    }
   ],
   "source": [
    "job_titles=[]\n",
    "for i in titles_tags:\n",
    "    job_titles.append(i.text.replace('\\n',''))\n",
    "job_titles"
   ]
  },
  {
   "cell_type": "code",
   "execution_count": 63,
   "metadata": {},
   "outputs": [
    {
     "data": {
      "text/plain": [
       "[<selenium.webdriver.remote.webelement.WebElement (session=\"0259e7284c6db8bd5c67d118a884ddb4\", element=\"b21245fc-83d0-4d38-8505-e8e619be86cf\")>,\n",
       " <selenium.webdriver.remote.webelement.WebElement (session=\"0259e7284c6db8bd5c67d118a884ddb4\", element=\"480b9893-2bf1-47a5-82ea-c1837a7bf654\")>,\n",
       " <selenium.webdriver.remote.webelement.WebElement (session=\"0259e7284c6db8bd5c67d118a884ddb4\", element=\"70668d50-930d-4ff8-8aa1-71a8f7174a9e\")>,\n",
       " <selenium.webdriver.remote.webelement.WebElement (session=\"0259e7284c6db8bd5c67d118a884ddb4\", element=\"56f104da-4d64-4e8a-a395-f665aea05674\")>,\n",
       " <selenium.webdriver.remote.webelement.WebElement (session=\"0259e7284c6db8bd5c67d118a884ddb4\", element=\"2b4f70ea-0761-48b9-8e87-719cdacf7918\")>,\n",
       " <selenium.webdriver.remote.webelement.WebElement (session=\"0259e7284c6db8bd5c67d118a884ddb4\", element=\"8e4b6092-471a-457a-8efe-7a56d0bf07ea\")>,\n",
       " <selenium.webdriver.remote.webelement.WebElement (session=\"0259e7284c6db8bd5c67d118a884ddb4\", element=\"770f8bec-85e4-4df9-97c7-484366cc3f80\")>,\n",
       " <selenium.webdriver.remote.webelement.WebElement (session=\"0259e7284c6db8bd5c67d118a884ddb4\", element=\"4b49903c-8579-44c5-b083-a0db12dcc1a0\")>,\n",
       " <selenium.webdriver.remote.webelement.WebElement (session=\"0259e7284c6db8bd5c67d118a884ddb4\", element=\"dd6a7d10-17ab-4274-886e-7afe5afcd1e8\")>,\n",
       " <selenium.webdriver.remote.webelement.WebElement (session=\"0259e7284c6db8bd5c67d118a884ddb4\", element=\"ff1ef5a2-876b-4875-84f8-55124de15047\")>,\n",
       " <selenium.webdriver.remote.webelement.WebElement (session=\"0259e7284c6db8bd5c67d118a884ddb4\", element=\"d895387c-7a3b-47f7-970f-ff751bf5eb7e\")>,\n",
       " <selenium.webdriver.remote.webelement.WebElement (session=\"0259e7284c6db8bd5c67d118a884ddb4\", element=\"7bd5eb9b-109b-426e-bcd6-577089ef68ca\")>,\n",
       " <selenium.webdriver.remote.webelement.WebElement (session=\"0259e7284c6db8bd5c67d118a884ddb4\", element=\"06b11888-8581-4998-967b-a17bc28505d5\")>,\n",
       " <selenium.webdriver.remote.webelement.WebElement (session=\"0259e7284c6db8bd5c67d118a884ddb4\", element=\"1cbe6533-321c-44b4-bb20-82e402dd5261\")>,\n",
       " <selenium.webdriver.remote.webelement.WebElement (session=\"0259e7284c6db8bd5c67d118a884ddb4\", element=\"6679461b-960b-4d26-b30b-0dc4a1165304\")>,\n",
       " <selenium.webdriver.remote.webelement.WebElement (session=\"0259e7284c6db8bd5c67d118a884ddb4\", element=\"1cf3538e-8a9c-4e83-a548-6c98e20ebebc\")>,\n",
       " <selenium.webdriver.remote.webelement.WebElement (session=\"0259e7284c6db8bd5c67d118a884ddb4\", element=\"809ed4d6-f46d-498b-b658-e4aabb77f9c7\")>,\n",
       " <selenium.webdriver.remote.webelement.WebElement (session=\"0259e7284c6db8bd5c67d118a884ddb4\", element=\"897b1828-6044-4751-8cd6-a93611ad4a94\")>,\n",
       " <selenium.webdriver.remote.webelement.WebElement (session=\"0259e7284c6db8bd5c67d118a884ddb4\", element=\"a985e8d3-49ca-4239-8948-8e0f169f7302\")>,\n",
       " <selenium.webdriver.remote.webelement.WebElement (session=\"0259e7284c6db8bd5c67d118a884ddb4\", element=\"5abc3f44-9c96-4535-8e83-b430bb0a8130\")>]"
      ]
     },
     "execution_count": 63,
     "metadata": {},
     "output_type": "execute_result"
    }
   ],
   "source": [
    "#extracting all the company names\n",
    "companies_tags=driver.find_elements_by_xpath(\"//a[@class='subTitle ellipsis fleft']\")\n",
    "companies_tags"
   ]
  },
  {
   "cell_type": "code",
   "execution_count": 64,
   "metadata": {},
   "outputs": [
    {
     "data": {
      "text/plain": [
       "['Teamware Solutions',\n",
       " 'Onward Technologies Limited',\n",
       " 'RANDSTAD INDIA PVT LTD',\n",
       " 'Microsoft Corporation',\n",
       " 'Entune IT Consulting Private Limited',\n",
       " 'IHX private limited',\n",
       " 'Geoconnectin of tiger technology',\n",
       " 'EinNel Technologies',\n",
       " 'SEKAI',\n",
       " 'inVentiv International Pharma Services Pvt. Ltd.',\n",
       " 'WEGARNER SOLUTIONS PRIVATE LIMITED',\n",
       " 'GABA Consultancy services',\n",
       " 'Microsoft Corporation',\n",
       " 'IDS Infotech Ltd.',\n",
       " 'IDS Infotech Ltd.',\n",
       " 'Kwalee India Pvt Ltd.',\n",
       " 'jupiter',\n",
       " 'United Phosphorus Limited',\n",
       " 'Circulant Software Pvt Ltd',\n",
       " 'CBRE South Asia Pvt Ltd']"
      ]
     },
     "execution_count": 64,
     "metadata": {},
     "output_type": "execute_result"
    }
   ],
   "source": [
    "company_names=[]\n",
    "for i in companies_tags:\n",
    "    company_names.append(i.text)\n",
    "company_names"
   ]
  },
  {
   "cell_type": "code",
   "execution_count": 65,
   "metadata": {},
   "outputs": [
    {
     "data": {
      "text/plain": [
       "[<selenium.webdriver.remote.webelement.WebElement (session=\"0259e7284c6db8bd5c67d118a884ddb4\", element=\"719827b9-d105-4d1b-a3b6-8a65a7af381c\")>,\n",
       " <selenium.webdriver.remote.webelement.WebElement (session=\"0259e7284c6db8bd5c67d118a884ddb4\", element=\"a7e465b3-fae7-424e-804d-233f2440dd33\")>,\n",
       " <selenium.webdriver.remote.webelement.WebElement (session=\"0259e7284c6db8bd5c67d118a884ddb4\", element=\"956ad073-9e04-400d-845e-dbd98cea08cd\")>,\n",
       " <selenium.webdriver.remote.webelement.WebElement (session=\"0259e7284c6db8bd5c67d118a884ddb4\", element=\"4861a8fc-7a69-482a-b6a9-3e555c2a98fa\")>,\n",
       " <selenium.webdriver.remote.webelement.WebElement (session=\"0259e7284c6db8bd5c67d118a884ddb4\", element=\"f346bb89-8cf8-4ffe-9f5a-9984139b05aa\")>,\n",
       " <selenium.webdriver.remote.webelement.WebElement (session=\"0259e7284c6db8bd5c67d118a884ddb4\", element=\"3d62ae09-de64-4d5e-a585-e8a64a4a3c87\")>,\n",
       " <selenium.webdriver.remote.webelement.WebElement (session=\"0259e7284c6db8bd5c67d118a884ddb4\", element=\"968c9fda-6aa2-4573-868f-e11c03e4ecc8\")>,\n",
       " <selenium.webdriver.remote.webelement.WebElement (session=\"0259e7284c6db8bd5c67d118a884ddb4\", element=\"535964d2-bec6-41a2-87d1-eb83b307fc7e\")>,\n",
       " <selenium.webdriver.remote.webelement.WebElement (session=\"0259e7284c6db8bd5c67d118a884ddb4\", element=\"0566e3b7-eb7d-41c6-9e03-f06346a390d4\")>,\n",
       " <selenium.webdriver.remote.webelement.WebElement (session=\"0259e7284c6db8bd5c67d118a884ddb4\", element=\"435f3b97-44da-469d-96e4-2013c9eff8e4\")>,\n",
       " <selenium.webdriver.remote.webelement.WebElement (session=\"0259e7284c6db8bd5c67d118a884ddb4\", element=\"23aa0226-9cd9-4493-9cda-e313a22a5fdd\")>,\n",
       " <selenium.webdriver.remote.webelement.WebElement (session=\"0259e7284c6db8bd5c67d118a884ddb4\", element=\"aee1579c-6c31-40c6-ac2d-fe1934a5fe10\")>,\n",
       " <selenium.webdriver.remote.webelement.WebElement (session=\"0259e7284c6db8bd5c67d118a884ddb4\", element=\"57a40e33-4193-4d3d-b9b4-dd8da0a90f74\")>,\n",
       " <selenium.webdriver.remote.webelement.WebElement (session=\"0259e7284c6db8bd5c67d118a884ddb4\", element=\"aa462047-1042-4fbe-9038-0eb719f019b8\")>,\n",
       " <selenium.webdriver.remote.webelement.WebElement (session=\"0259e7284c6db8bd5c67d118a884ddb4\", element=\"8ff99b61-6867-4190-8a25-9d86287d522e\")>,\n",
       " <selenium.webdriver.remote.webelement.WebElement (session=\"0259e7284c6db8bd5c67d118a884ddb4\", element=\"09ed62b7-d4e6-4d7c-b03a-3319c12358eb\")>,\n",
       " <selenium.webdriver.remote.webelement.WebElement (session=\"0259e7284c6db8bd5c67d118a884ddb4\", element=\"1b293b9d-cfe5-42e0-9fc0-ddb3319e788d\")>,\n",
       " <selenium.webdriver.remote.webelement.WebElement (session=\"0259e7284c6db8bd5c67d118a884ddb4\", element=\"2e31651b-75c1-4eb6-81ff-f7c2c5b0bab2\")>,\n",
       " <selenium.webdriver.remote.webelement.WebElement (session=\"0259e7284c6db8bd5c67d118a884ddb4\", element=\"531981b4-9771-4474-b135-86efafecb32c\")>,\n",
       " <selenium.webdriver.remote.webelement.WebElement (session=\"0259e7284c6db8bd5c67d118a884ddb4\", element=\"37eefbfe-9b98-434d-9185-379a7e367629\")>]"
      ]
     },
     "execution_count": 65,
     "metadata": {},
     "output_type": "execute_result"
    }
   ],
   "source": [
    "#extracting years of experience\n",
    "experience_tags=driver.find_elements_by_xpath(\"//li[@class='fleft grey-text br2 placeHolderLi experience']//span\") #span is used at the end to extract only the years\n",
    "experience_tags"
   ]
  },
  {
   "cell_type": "code",
   "execution_count": 66,
   "metadata": {},
   "outputs": [
    {
     "data": {
      "text/plain": [
       "['7-10 Yrs',\n",
       " '6-11 Yrs',\n",
       " '4-9 Yrs',\n",
       " '3-5 Yrs',\n",
       " '5-8 Yrs',\n",
       " '4-6 Yrs',\n",
       " '0-3 Yrs',\n",
       " '0-1 Yrs',\n",
       " '2-4 Yrs',\n",
       " '3-6 Yrs',\n",
       " '0-5 Yrs',\n",
       " '0-0 Yrs',\n",
       " '3-7 Yrs',\n",
       " '5-10 Yrs',\n",
       " '5-10 Yrs',\n",
       " '2-7 Yrs',\n",
       " '2-5 Yrs',\n",
       " '3-5 Yrs',\n",
       " '2-7 Yrs',\n",
       " '2-4 Yrs']"
      ]
     },
     "execution_count": 66,
     "metadata": {},
     "output_type": "execute_result"
    }
   ],
   "source": [
    "experience_list=[]\n",
    "for i in experience_tags:\n",
    "    experience_list.append(i.text)\n",
    "experience_list"
   ]
  },
  {
   "cell_type": "code",
   "execution_count": 67,
   "metadata": {},
   "outputs": [
    {
     "data": {
      "text/plain": [
       "[<selenium.webdriver.remote.webelement.WebElement (session=\"0259e7284c6db8bd5c67d118a884ddb4\", element=\"06e1b069-e618-4091-a820-f549b15cc15e\")>,\n",
       " <selenium.webdriver.remote.webelement.WebElement (session=\"0259e7284c6db8bd5c67d118a884ddb4\", element=\"04ab4aa0-88ea-4516-93a1-ffae0e1ab5c5\")>,\n",
       " <selenium.webdriver.remote.webelement.WebElement (session=\"0259e7284c6db8bd5c67d118a884ddb4\", element=\"0bbd61c6-47ca-4fbd-949e-8f4637106d03\")>,\n",
       " <selenium.webdriver.remote.webelement.WebElement (session=\"0259e7284c6db8bd5c67d118a884ddb4\", element=\"5021d972-ca20-492d-a985-47468fb29e37\")>,\n",
       " <selenium.webdriver.remote.webelement.WebElement (session=\"0259e7284c6db8bd5c67d118a884ddb4\", element=\"73921188-026b-4d4b-bc5f-d2dba190ed82\")>,\n",
       " <selenium.webdriver.remote.webelement.WebElement (session=\"0259e7284c6db8bd5c67d118a884ddb4\", element=\"955c30ef-58f2-4cc9-ab5d-1239ac4f6623\")>,\n",
       " <selenium.webdriver.remote.webelement.WebElement (session=\"0259e7284c6db8bd5c67d118a884ddb4\", element=\"3a98a244-33bb-4188-8a76-0c3b8a29a39d\")>,\n",
       " <selenium.webdriver.remote.webelement.WebElement (session=\"0259e7284c6db8bd5c67d118a884ddb4\", element=\"32c609ae-5b11-45bd-871e-424d3f608cd5\")>,\n",
       " <selenium.webdriver.remote.webelement.WebElement (session=\"0259e7284c6db8bd5c67d118a884ddb4\", element=\"48a9f98d-1645-4bb6-93ec-b8c8c689d5b5\")>,\n",
       " <selenium.webdriver.remote.webelement.WebElement (session=\"0259e7284c6db8bd5c67d118a884ddb4\", element=\"8b8283b7-29d1-49ae-888f-7207af2c4452\")>,\n",
       " <selenium.webdriver.remote.webelement.WebElement (session=\"0259e7284c6db8bd5c67d118a884ddb4\", element=\"6e847cbb-8cba-4ce6-8d30-87e1f515c8af\")>,\n",
       " <selenium.webdriver.remote.webelement.WebElement (session=\"0259e7284c6db8bd5c67d118a884ddb4\", element=\"f6d1a968-566e-4edf-8bc2-9aed46b49e05\")>,\n",
       " <selenium.webdriver.remote.webelement.WebElement (session=\"0259e7284c6db8bd5c67d118a884ddb4\", element=\"6e0647b7-c4b3-4e69-85d6-8cda30f27950\")>,\n",
       " <selenium.webdriver.remote.webelement.WebElement (session=\"0259e7284c6db8bd5c67d118a884ddb4\", element=\"3ca47ae9-7bac-474a-a9db-77922a723909\")>,\n",
       " <selenium.webdriver.remote.webelement.WebElement (session=\"0259e7284c6db8bd5c67d118a884ddb4\", element=\"387d7aa8-a180-44a7-9ecb-7fbb8cece5eb\")>,\n",
       " <selenium.webdriver.remote.webelement.WebElement (session=\"0259e7284c6db8bd5c67d118a884ddb4\", element=\"bb6d952e-c6dd-452a-b745-cb15ed594dc3\")>,\n",
       " <selenium.webdriver.remote.webelement.WebElement (session=\"0259e7284c6db8bd5c67d118a884ddb4\", element=\"c261efb2-90c1-4572-b6bd-b11d41c50853\")>,\n",
       " <selenium.webdriver.remote.webelement.WebElement (session=\"0259e7284c6db8bd5c67d118a884ddb4\", element=\"eeda3d0d-74e5-4fbf-9652-b63fec4cde63\")>,\n",
       " <selenium.webdriver.remote.webelement.WebElement (session=\"0259e7284c6db8bd5c67d118a884ddb4\", element=\"abb404c4-1945-4cf6-b4a7-d4f13b23adae\")>,\n",
       " <selenium.webdriver.remote.webelement.WebElement (session=\"0259e7284c6db8bd5c67d118a884ddb4\", element=\"c9c9911c-f053-4699-beed-e37e54d1c526\")>]"
      ]
     },
     "execution_count": 67,
     "metadata": {},
     "output_type": "execute_result"
    }
   ],
   "source": [
    "#extracting locations\n",
    "location_tags=driver.find_elements_by_xpath(\"//li[@class='fleft grey-text br2 placeHolderLi location']//span[1]\") #span is used at the end to extract only the 1st index which is location\n",
    "location_tags"
   ]
  },
  {
   "cell_type": "code",
   "execution_count": 68,
   "metadata": {},
   "outputs": [
    {
     "data": {
      "text/plain": [
       "['Bangalore/Bengaluru',\n",
       " 'Hyderabad/Secunderabad, Chennai, Bangalore/Bengaluru',\n",
       " 'Bangalore/Bengaluru',\n",
       " 'Bangalore/Bengaluru',\n",
       " 'Kolkata, Hyderabad/Secunderabad, Pune, Ahmedabad, Chennai, Bangalore/Bengaluru, Delhi / NCR, Mumbai (All Areas)',\n",
       " 'Bangalore/Bengaluru(5th block Koramangala)',\n",
       " 'Bangalore/Bengaluru, Mumbai (All Areas)',\n",
       " 'Chennai',\n",
       " 'Remote',\n",
       " 'Hyderabad/Secunderabad, Gurgaon/Gurugram, Bangalore/Bengaluru',\n",
       " 'Noida, Pune, Mumbai (All Areas)',\n",
       " 'Noida, Gurgaon/Gurugram, Delhi / NCR',\n",
       " 'Bangalore/Bengaluru',\n",
       " 'Chandigarh, Hyderabad/Secunderabad, Chennai, Bangalore/Bengaluru, Delhi / NCR',\n",
       " 'Chandigarh, Hyderabad/Secunderabad, Chennai, Bangalore/Bengaluru, Delhi / NCR',\n",
       " 'Bangalore/Bengaluru',\n",
       " 'Bangalore/Bengaluru',\n",
       " 'Jhagadia',\n",
       " 'Remote',\n",
       " 'Gurgaon/Gurugram']"
      ]
     },
     "execution_count": 68,
     "metadata": {},
     "output_type": "execute_result"
    }
   ],
   "source": [
    "locations_names=[]\n",
    "for i in location_tags:\n",
    "    locations_names.append(i.text)\n",
    "locations_names"
   ]
  },
  {
   "cell_type": "code",
   "execution_count": 69,
   "metadata": {},
   "outputs": [
    {
     "name": "stdout",
     "output_type": "stream",
     "text": [
      "20 20 20 20\n"
     ]
    }
   ],
   "source": [
    "print(len(job_titles),len(company_names),len(experience_list),len(locations_names))"
   ]
  },
  {
   "cell_type": "code",
   "execution_count": 70,
   "metadata": {},
   "outputs": [],
   "source": [
    "import pandas as pd\n",
    "jobs=pd.DataFrame({})\n",
    "jobs['title']=job_titles\n",
    "jobs['company']=company_names\n",
    "jobs['experience']=experience_list\n",
    "jobs['location']=locations_names"
   ]
  },
  {
   "cell_type": "code",
   "execution_count": 71,
   "metadata": {},
   "outputs": [
    {
     "data": {
      "text/html": [
       "<div>\n",
       "<style scoped>\n",
       "    .dataframe tbody tr th:only-of-type {\n",
       "        vertical-align: middle;\n",
       "    }\n",
       "\n",
       "    .dataframe tbody tr th {\n",
       "        vertical-align: top;\n",
       "    }\n",
       "\n",
       "    .dataframe thead th {\n",
       "        text-align: right;\n",
       "    }\n",
       "</style>\n",
       "<table border=\"1\" class=\"dataframe\">\n",
       "  <thead>\n",
       "    <tr style=\"text-align: right;\">\n",
       "      <th></th>\n",
       "      <th>title</th>\n",
       "      <th>company</th>\n",
       "      <th>experience</th>\n",
       "      <th>location</th>\n",
       "    </tr>\n",
       "  </thead>\n",
       "  <tbody>\n",
       "    <tr>\n",
       "      <th>0</th>\n",
       "      <td>Data Engineers , Data Scientist and SAP</td>\n",
       "      <td>Teamware Solutions</td>\n",
       "      <td>7-10 Yrs</td>\n",
       "      <td>Bangalore/Bengaluru</td>\n",
       "    </tr>\n",
       "    <tr>\n",
       "      <th>1</th>\n",
       "      <td>Data Scientist - Permanent Role</td>\n",
       "      <td>Onward Technologies Limited</td>\n",
       "      <td>6-11 Yrs</td>\n",
       "      <td>Hyderabad/Secunderabad, Chennai, Bangalore/Ben...</td>\n",
       "    </tr>\n",
       "    <tr>\n",
       "      <th>2</th>\n",
       "      <td>Senior Data Scientist</td>\n",
       "      <td>RANDSTAD INDIA PVT LTD</td>\n",
       "      <td>4-9 Yrs</td>\n",
       "      <td>Bangalore/Bengaluru</td>\n",
       "    </tr>\n",
       "    <tr>\n",
       "      <th>3</th>\n",
       "      <td>Senior Data &amp; Applied Scientist</td>\n",
       "      <td>Microsoft Corporation</td>\n",
       "      <td>3-5 Yrs</td>\n",
       "      <td>Bangalore/Bengaluru</td>\n",
       "    </tr>\n",
       "    <tr>\n",
       "      <th>4</th>\n",
       "      <td>Immediate Openings For DATA Scientist with 6 T...</td>\n",
       "      <td>Entune IT Consulting Private Limited</td>\n",
       "      <td>5-8 Yrs</td>\n",
       "      <td>Kolkata, Hyderabad/Secunderabad, Pune, Ahmedab...</td>\n",
       "    </tr>\n",
       "    <tr>\n",
       "      <th>5</th>\n",
       "      <td>Hiring Data Scientist</td>\n",
       "      <td>IHX private limited</td>\n",
       "      <td>4-6 Yrs</td>\n",
       "      <td>Bangalore/Bengaluru(5th block Koramangala)</td>\n",
       "    </tr>\n",
       "    <tr>\n",
       "      <th>6</th>\n",
       "      <td>Data Scientist</td>\n",
       "      <td>Geoconnectin of tiger technology</td>\n",
       "      <td>0-3 Yrs</td>\n",
       "      <td>Bangalore/Bengaluru, Mumbai (All Areas)</td>\n",
       "    </tr>\n",
       "    <tr>\n",
       "      <th>7</th>\n",
       "      <td>Trainee Data Scientists</td>\n",
       "      <td>EinNel Technologies</td>\n",
       "      <td>0-1 Yrs</td>\n",
       "      <td>Chennai</td>\n",
       "    </tr>\n",
       "    <tr>\n",
       "      <th>8</th>\n",
       "      <td>Data Engineer/Data Scientist</td>\n",
       "      <td>SEKAI</td>\n",
       "      <td>2-4 Yrs</td>\n",
       "      <td>Remote</td>\n",
       "    </tr>\n",
       "    <tr>\n",
       "      <th>9</th>\n",
       "      <td>Senior Data Scientist</td>\n",
       "      <td>inVentiv International Pharma Services Pvt. Ltd.</td>\n",
       "      <td>3-6 Yrs</td>\n",
       "      <td>Hyderabad/Secunderabad, Gurgaon/Gurugram, Bang...</td>\n",
       "    </tr>\n",
       "    <tr>\n",
       "      <th>10</th>\n",
       "      <td>Data Scientist / Sr. Data Scientist</td>\n",
       "      <td>WEGARNER SOLUTIONS PRIVATE LIMITED</td>\n",
       "      <td>0-5 Yrs</td>\n",
       "      <td>Noida, Pune, Mumbai (All Areas)</td>\n",
       "    </tr>\n",
       "    <tr>\n",
       "      <th>11</th>\n",
       "      <td>Only Fresher / Data Scientist / Data Analyst /...</td>\n",
       "      <td>GABA Consultancy services</td>\n",
       "      <td>0-0 Yrs</td>\n",
       "      <td>Noida, Gurgaon/Gurugram, Delhi / NCR</td>\n",
       "    </tr>\n",
       "    <tr>\n",
       "      <th>12</th>\n",
       "      <td>Data &amp; Applied Scientist</td>\n",
       "      <td>Microsoft Corporation</td>\n",
       "      <td>3-7 Yrs</td>\n",
       "      <td>Bangalore/Bengaluru</td>\n",
       "    </tr>\n",
       "    <tr>\n",
       "      <th>13</th>\n",
       "      <td>Hiring Data Scientist Develope || IDS Infotech...</td>\n",
       "      <td>IDS Infotech Ltd.</td>\n",
       "      <td>5-10 Yrs</td>\n",
       "      <td>Chandigarh, Hyderabad/Secunderabad, Chennai, B...</td>\n",
       "    </tr>\n",
       "    <tr>\n",
       "      <th>14</th>\n",
       "      <td>Hiring Data Scientist Develope || IDS Infotech...</td>\n",
       "      <td>IDS Infotech Ltd.</td>\n",
       "      <td>5-10 Yrs</td>\n",
       "      <td>Chandigarh, Hyderabad/Secunderabad, Chennai, B...</td>\n",
       "    </tr>\n",
       "    <tr>\n",
       "      <th>15</th>\n",
       "      <td>Data Scientist</td>\n",
       "      <td>Kwalee India Pvt Ltd.</td>\n",
       "      <td>2-7 Yrs</td>\n",
       "      <td>Bangalore/Bengaluru</td>\n",
       "    </tr>\n",
       "    <tr>\n",
       "      <th>16</th>\n",
       "      <td>Data Scientist</td>\n",
       "      <td>jupiter</td>\n",
       "      <td>2-5 Yrs</td>\n",
       "      <td>Bangalore/Bengaluru</td>\n",
       "    </tr>\n",
       "    <tr>\n",
       "      <th>17</th>\n",
       "      <td>Data Scientist</td>\n",
       "      <td>United Phosphorus Limited</td>\n",
       "      <td>3-5 Yrs</td>\n",
       "      <td>Jhagadia</td>\n",
       "    </tr>\n",
       "    <tr>\n",
       "      <th>18</th>\n",
       "      <td>Data Scientist</td>\n",
       "      <td>Circulant Software Pvt Ltd</td>\n",
       "      <td>2-7 Yrs</td>\n",
       "      <td>Remote</td>\n",
       "    </tr>\n",
       "    <tr>\n",
       "      <th>19</th>\n",
       "      <td>Data Scientist</td>\n",
       "      <td>CBRE South Asia Pvt Ltd</td>\n",
       "      <td>2-4 Yrs</td>\n",
       "      <td>Gurgaon/Gurugram</td>\n",
       "    </tr>\n",
       "  </tbody>\n",
       "</table>\n",
       "</div>"
      ],
      "text/plain": [
       "                                                title  \\\n",
       "0             Data Engineers , Data Scientist and SAP   \n",
       "1                     Data Scientist - Permanent Role   \n",
       "2                               Senior Data Scientist   \n",
       "3                     Senior Data & Applied Scientist   \n",
       "4   Immediate Openings For DATA Scientist with 6 T...   \n",
       "5                               Hiring Data Scientist   \n",
       "6                                      Data Scientist   \n",
       "7                             Trainee Data Scientists   \n",
       "8                        Data Engineer/Data Scientist   \n",
       "9                               Senior Data Scientist   \n",
       "10                Data Scientist / Sr. Data Scientist   \n",
       "11  Only Fresher / Data Scientist / Data Analyst /...   \n",
       "12                           Data & Applied Scientist   \n",
       "13  Hiring Data Scientist Develope || IDS Infotech...   \n",
       "14  Hiring Data Scientist Develope || IDS Infotech...   \n",
       "15                                     Data Scientist   \n",
       "16                                     Data Scientist   \n",
       "17                                     Data Scientist   \n",
       "18                                     Data Scientist   \n",
       "19                                     Data Scientist   \n",
       "\n",
       "                                             company experience  \\\n",
       "0                                 Teamware Solutions   7-10 Yrs   \n",
       "1                        Onward Technologies Limited   6-11 Yrs   \n",
       "2                             RANDSTAD INDIA PVT LTD    4-9 Yrs   \n",
       "3                              Microsoft Corporation    3-5 Yrs   \n",
       "4               Entune IT Consulting Private Limited    5-8 Yrs   \n",
       "5                                IHX private limited    4-6 Yrs   \n",
       "6                   Geoconnectin of tiger technology    0-3 Yrs   \n",
       "7                                EinNel Technologies    0-1 Yrs   \n",
       "8                                              SEKAI    2-4 Yrs   \n",
       "9   inVentiv International Pharma Services Pvt. Ltd.    3-6 Yrs   \n",
       "10                WEGARNER SOLUTIONS PRIVATE LIMITED    0-5 Yrs   \n",
       "11                         GABA Consultancy services    0-0 Yrs   \n",
       "12                             Microsoft Corporation    3-7 Yrs   \n",
       "13                                 IDS Infotech Ltd.   5-10 Yrs   \n",
       "14                                 IDS Infotech Ltd.   5-10 Yrs   \n",
       "15                             Kwalee India Pvt Ltd.    2-7 Yrs   \n",
       "16                                           jupiter    2-5 Yrs   \n",
       "17                         United Phosphorus Limited    3-5 Yrs   \n",
       "18                        Circulant Software Pvt Ltd    2-7 Yrs   \n",
       "19                           CBRE South Asia Pvt Ltd    2-4 Yrs   \n",
       "\n",
       "                                             location  \n",
       "0                                 Bangalore/Bengaluru  \n",
       "1   Hyderabad/Secunderabad, Chennai, Bangalore/Ben...  \n",
       "2                                 Bangalore/Bengaluru  \n",
       "3                                 Bangalore/Bengaluru  \n",
       "4   Kolkata, Hyderabad/Secunderabad, Pune, Ahmedab...  \n",
       "5          Bangalore/Bengaluru(5th block Koramangala)  \n",
       "6             Bangalore/Bengaluru, Mumbai (All Areas)  \n",
       "7                                             Chennai  \n",
       "8                                              Remote  \n",
       "9   Hyderabad/Secunderabad, Gurgaon/Gurugram, Bang...  \n",
       "10                    Noida, Pune, Mumbai (All Areas)  \n",
       "11               Noida, Gurgaon/Gurugram, Delhi / NCR  \n",
       "12                                Bangalore/Bengaluru  \n",
       "13  Chandigarh, Hyderabad/Secunderabad, Chennai, B...  \n",
       "14  Chandigarh, Hyderabad/Secunderabad, Chennai, B...  \n",
       "15                                Bangalore/Bengaluru  \n",
       "16                                Bangalore/Bengaluru  \n",
       "17                                           Jhagadia  \n",
       "18                                             Remote  \n",
       "19                                   Gurgaon/Gurugram  "
      ]
     },
     "execution_count": 71,
     "metadata": {},
     "output_type": "execute_result"
    }
   ],
   "source": [
    "jobs"
   ]
  },
  {
   "cell_type": "code",
   "execution_count": 72,
   "metadata": {},
   "outputs": [
    {
     "data": {
      "text/html": [
       "<div>\n",
       "<style scoped>\n",
       "    .dataframe tbody tr th:only-of-type {\n",
       "        vertical-align: middle;\n",
       "    }\n",
       "\n",
       "    .dataframe tbody tr th {\n",
       "        vertical-align: top;\n",
       "    }\n",
       "\n",
       "    .dataframe thead th {\n",
       "        text-align: right;\n",
       "    }\n",
       "</style>\n",
       "<table border=\"1\" class=\"dataframe\">\n",
       "  <thead>\n",
       "    <tr style=\"text-align: right;\">\n",
       "      <th></th>\n",
       "      <th>title</th>\n",
       "      <th>company</th>\n",
       "      <th>experience</th>\n",
       "      <th>location</th>\n",
       "    </tr>\n",
       "  </thead>\n",
       "  <tbody>\n",
       "    <tr>\n",
       "      <th>0</th>\n",
       "      <td>Data Engineers , Data Scientist and SAP</td>\n",
       "      <td>Teamware Solutions</td>\n",
       "      <td>7-10 Yrs</td>\n",
       "      <td>Bangalore/Bengaluru</td>\n",
       "    </tr>\n",
       "    <tr>\n",
       "      <th>1</th>\n",
       "      <td>Data Scientist - Permanent Role</td>\n",
       "      <td>Onward Technologies Limited</td>\n",
       "      <td>6-11 Yrs</td>\n",
       "      <td>Hyderabad/Secunderabad, Chennai, Bangalore/Ben...</td>\n",
       "    </tr>\n",
       "    <tr>\n",
       "      <th>2</th>\n",
       "      <td>Senior Data Scientist</td>\n",
       "      <td>RANDSTAD INDIA PVT LTD</td>\n",
       "      <td>4-9 Yrs</td>\n",
       "      <td>Bangalore/Bengaluru</td>\n",
       "    </tr>\n",
       "    <tr>\n",
       "      <th>3</th>\n",
       "      <td>Senior Data &amp; Applied Scientist</td>\n",
       "      <td>Microsoft Corporation</td>\n",
       "      <td>3-5 Yrs</td>\n",
       "      <td>Bangalore/Bengaluru</td>\n",
       "    </tr>\n",
       "    <tr>\n",
       "      <th>4</th>\n",
       "      <td>Immediate Openings For DATA Scientist with 6 T...</td>\n",
       "      <td>Entune IT Consulting Private Limited</td>\n",
       "      <td>5-8 Yrs</td>\n",
       "      <td>Kolkata, Hyderabad/Secunderabad, Pune, Ahmedab...</td>\n",
       "    </tr>\n",
       "    <tr>\n",
       "      <th>5</th>\n",
       "      <td>Hiring Data Scientist</td>\n",
       "      <td>IHX private limited</td>\n",
       "      <td>4-6 Yrs</td>\n",
       "      <td>Bangalore/Bengaluru(5th block Koramangala)</td>\n",
       "    </tr>\n",
       "    <tr>\n",
       "      <th>6</th>\n",
       "      <td>Data Scientist</td>\n",
       "      <td>Geoconnectin of tiger technology</td>\n",
       "      <td>0-3 Yrs</td>\n",
       "      <td>Bangalore/Bengaluru, Mumbai (All Areas)</td>\n",
       "    </tr>\n",
       "    <tr>\n",
       "      <th>7</th>\n",
       "      <td>Trainee Data Scientists</td>\n",
       "      <td>EinNel Technologies</td>\n",
       "      <td>0-1 Yrs</td>\n",
       "      <td>Chennai</td>\n",
       "    </tr>\n",
       "    <tr>\n",
       "      <th>8</th>\n",
       "      <td>Data Engineer/Data Scientist</td>\n",
       "      <td>SEKAI</td>\n",
       "      <td>2-4 Yrs</td>\n",
       "      <td>Remote</td>\n",
       "    </tr>\n",
       "    <tr>\n",
       "      <th>9</th>\n",
       "      <td>Senior Data Scientist</td>\n",
       "      <td>inVentiv International Pharma Services Pvt. Ltd.</td>\n",
       "      <td>3-6 Yrs</td>\n",
       "      <td>Hyderabad/Secunderabad, Gurgaon/Gurugram, Bang...</td>\n",
       "    </tr>\n",
       "  </tbody>\n",
       "</table>\n",
       "</div>"
      ],
      "text/plain": [
       "                                               title  \\\n",
       "0            Data Engineers , Data Scientist and SAP   \n",
       "1                    Data Scientist - Permanent Role   \n",
       "2                              Senior Data Scientist   \n",
       "3                    Senior Data & Applied Scientist   \n",
       "4  Immediate Openings For DATA Scientist with 6 T...   \n",
       "5                              Hiring Data Scientist   \n",
       "6                                     Data Scientist   \n",
       "7                            Trainee Data Scientists   \n",
       "8                       Data Engineer/Data Scientist   \n",
       "9                              Senior Data Scientist   \n",
       "\n",
       "                                            company experience  \\\n",
       "0                                Teamware Solutions   7-10 Yrs   \n",
       "1                       Onward Technologies Limited   6-11 Yrs   \n",
       "2                            RANDSTAD INDIA PVT LTD    4-9 Yrs   \n",
       "3                             Microsoft Corporation    3-5 Yrs   \n",
       "4              Entune IT Consulting Private Limited    5-8 Yrs   \n",
       "5                               IHX private limited    4-6 Yrs   \n",
       "6                  Geoconnectin of tiger technology    0-3 Yrs   \n",
       "7                               EinNel Technologies    0-1 Yrs   \n",
       "8                                             SEKAI    2-4 Yrs   \n",
       "9  inVentiv International Pharma Services Pvt. Ltd.    3-6 Yrs   \n",
       "\n",
       "                                            location  \n",
       "0                                Bangalore/Bengaluru  \n",
       "1  Hyderabad/Secunderabad, Chennai, Bangalore/Ben...  \n",
       "2                                Bangalore/Bengaluru  \n",
       "3                                Bangalore/Bengaluru  \n",
       "4  Kolkata, Hyderabad/Secunderabad, Pune, Ahmedab...  \n",
       "5         Bangalore/Bengaluru(5th block Koramangala)  \n",
       "6            Bangalore/Bengaluru, Mumbai (All Areas)  \n",
       "7                                            Chennai  \n",
       "8                                             Remote  \n",
       "9  Hyderabad/Secunderabad, Gurgaon/Gurugram, Bang...  "
      ]
     },
     "execution_count": 72,
     "metadata": {},
     "output_type": "execute_result"
    }
   ],
   "source": [
    "a=jobs\n",
    "b=a[:10]\n",
    "b\n"
   ]
  },
  {
   "cell_type": "markdown",
   "metadata": {},
   "source": [
    "# Answer for question 5"
   ]
  },
  {
   "cell_type": "code",
   "execution_count": 73,
   "metadata": {},
   "outputs": [],
   "source": [
    "url = ' https://www.glassdoor.co.in/Salaries/index.htm'\n",
    "driver.get(url)"
   ]
  },
  {
   "cell_type": "code",
   "execution_count": 74,
   "metadata": {},
   "outputs": [],
   "source": [
    "#finding element by xpath\n",
    "search_job = driver.find_element_by_xpath('/html/body/div[3]/div/div[1]/div[1]/div/div/form/input[5]')\n",
    "search_job.send_keys(\"Data scientist\")"
   ]
  },
  {
   "cell_type": "code",
   "execution_count": 75,
   "metadata": {},
   "outputs": [
    {
     "ename": "ElementNotInteractableException",
     "evalue": "Message: element not interactable\n  (Session info: MicrosoftEdge=92.0.902.62)\n",
     "output_type": "error",
     "traceback": [
      "\u001b[1;31m---------------------------------------------------------------------------\u001b[0m",
      "\u001b[1;31mElementNotInteractableException\u001b[0m           Traceback (most recent call last)",
      "\u001b[1;32m<ipython-input-75-f58663ea20c0>\u001b[0m in \u001b[0;36m<module>\u001b[1;34m\u001b[0m\n\u001b[0;32m      1\u001b[0m \u001b[1;31m#finding element by xpath\u001b[0m\u001b[1;33m\u001b[0m\u001b[1;33m\u001b[0m\u001b[1;33m\u001b[0m\u001b[0m\n\u001b[0;32m      2\u001b[0m \u001b[0msearch_loc\u001b[0m \u001b[1;33m=\u001b[0m \u001b[0mdriver\u001b[0m\u001b[1;33m.\u001b[0m\u001b[0mfind_element_by_xpath\u001b[0m\u001b[1;33m(\u001b[0m\u001b[1;34m'/html/body/div[3]/div/div[1]/div[1]/div/div/form/input[6]'\u001b[0m\u001b[1;33m)\u001b[0m\u001b[1;33m\u001b[0m\u001b[1;33m\u001b[0m\u001b[0m\n\u001b[1;32m----> 3\u001b[1;33m \u001b[0msearch_loc\u001b[0m\u001b[1;33m.\u001b[0m\u001b[0msend_keys\u001b[0m\u001b[1;33m(\u001b[0m\u001b[1;34m\"Noida\"\u001b[0m\u001b[1;33m)\u001b[0m\u001b[1;33m\u001b[0m\u001b[1;33m\u001b[0m\u001b[0m\n\u001b[0m",
      "\u001b[1;32m~\\anaconda3\\lib\\site-packages\\selenium\\webdriver\\remote\\webelement.py\u001b[0m in \u001b[0;36msend_keys\u001b[1;34m(self, *value)\u001b[0m\n\u001b[0;32m    475\u001b[0m                 \u001b[0mvalue\u001b[0m \u001b[1;33m=\u001b[0m \u001b[0mself\u001b[0m\u001b[1;33m.\u001b[0m\u001b[0m_upload\u001b[0m\u001b[1;33m(\u001b[0m\u001b[0mlocal_file\u001b[0m\u001b[1;33m)\u001b[0m\u001b[1;33m\u001b[0m\u001b[1;33m\u001b[0m\u001b[0m\n\u001b[0;32m    476\u001b[0m \u001b[1;33m\u001b[0m\u001b[0m\n\u001b[1;32m--> 477\u001b[1;33m         self._execute(Command.SEND_KEYS_TO_ELEMENT,\n\u001b[0m\u001b[0;32m    478\u001b[0m                       {'text': \"\".join(keys_to_typing(value)),\n\u001b[0;32m    479\u001b[0m                        'value': keys_to_typing(value)})\n",
      "\u001b[1;32m~\\anaconda3\\lib\\site-packages\\selenium\\webdriver\\remote\\webelement.py\u001b[0m in \u001b[0;36m_execute\u001b[1;34m(self, command, params)\u001b[0m\n\u001b[0;32m    631\u001b[0m             \u001b[0mparams\u001b[0m \u001b[1;33m=\u001b[0m \u001b[1;33m{\u001b[0m\u001b[1;33m}\u001b[0m\u001b[1;33m\u001b[0m\u001b[1;33m\u001b[0m\u001b[0m\n\u001b[0;32m    632\u001b[0m         \u001b[0mparams\u001b[0m\u001b[1;33m[\u001b[0m\u001b[1;34m'id'\u001b[0m\u001b[1;33m]\u001b[0m \u001b[1;33m=\u001b[0m \u001b[0mself\u001b[0m\u001b[1;33m.\u001b[0m\u001b[0m_id\u001b[0m\u001b[1;33m\u001b[0m\u001b[1;33m\u001b[0m\u001b[0m\n\u001b[1;32m--> 633\u001b[1;33m         \u001b[1;32mreturn\u001b[0m \u001b[0mself\u001b[0m\u001b[1;33m.\u001b[0m\u001b[0m_parent\u001b[0m\u001b[1;33m.\u001b[0m\u001b[0mexecute\u001b[0m\u001b[1;33m(\u001b[0m\u001b[0mcommand\u001b[0m\u001b[1;33m,\u001b[0m \u001b[0mparams\u001b[0m\u001b[1;33m)\u001b[0m\u001b[1;33m\u001b[0m\u001b[1;33m\u001b[0m\u001b[0m\n\u001b[0m\u001b[0;32m    634\u001b[0m \u001b[1;33m\u001b[0m\u001b[0m\n\u001b[0;32m    635\u001b[0m     \u001b[1;32mdef\u001b[0m \u001b[0mfind_element\u001b[0m\u001b[1;33m(\u001b[0m\u001b[0mself\u001b[0m\u001b[1;33m,\u001b[0m \u001b[0mby\u001b[0m\u001b[1;33m=\u001b[0m\u001b[0mBy\u001b[0m\u001b[1;33m.\u001b[0m\u001b[0mID\u001b[0m\u001b[1;33m,\u001b[0m \u001b[0mvalue\u001b[0m\u001b[1;33m=\u001b[0m\u001b[1;32mNone\u001b[0m\u001b[1;33m)\u001b[0m\u001b[1;33m:\u001b[0m\u001b[1;33m\u001b[0m\u001b[1;33m\u001b[0m\u001b[0m\n",
      "\u001b[1;32m~\\anaconda3\\lib\\site-packages\\selenium\\webdriver\\remote\\webdriver.py\u001b[0m in \u001b[0;36mexecute\u001b[1;34m(self, driver_command, params)\u001b[0m\n\u001b[0;32m    319\u001b[0m         \u001b[0mresponse\u001b[0m \u001b[1;33m=\u001b[0m \u001b[0mself\u001b[0m\u001b[1;33m.\u001b[0m\u001b[0mcommand_executor\u001b[0m\u001b[1;33m.\u001b[0m\u001b[0mexecute\u001b[0m\u001b[1;33m(\u001b[0m\u001b[0mdriver_command\u001b[0m\u001b[1;33m,\u001b[0m \u001b[0mparams\u001b[0m\u001b[1;33m)\u001b[0m\u001b[1;33m\u001b[0m\u001b[1;33m\u001b[0m\u001b[0m\n\u001b[0;32m    320\u001b[0m         \u001b[1;32mif\u001b[0m \u001b[0mresponse\u001b[0m\u001b[1;33m:\u001b[0m\u001b[1;33m\u001b[0m\u001b[1;33m\u001b[0m\u001b[0m\n\u001b[1;32m--> 321\u001b[1;33m             \u001b[0mself\u001b[0m\u001b[1;33m.\u001b[0m\u001b[0merror_handler\u001b[0m\u001b[1;33m.\u001b[0m\u001b[0mcheck_response\u001b[0m\u001b[1;33m(\u001b[0m\u001b[0mresponse\u001b[0m\u001b[1;33m)\u001b[0m\u001b[1;33m\u001b[0m\u001b[1;33m\u001b[0m\u001b[0m\n\u001b[0m\u001b[0;32m    322\u001b[0m             response['value'] = self._unwrap_value(\n\u001b[0;32m    323\u001b[0m                 response.get('value', None))\n",
      "\u001b[1;32m~\\anaconda3\\lib\\site-packages\\selenium\\webdriver\\remote\\errorhandler.py\u001b[0m in \u001b[0;36mcheck_response\u001b[1;34m(self, response)\u001b[0m\n\u001b[0;32m    240\u001b[0m                 \u001b[0malert_text\u001b[0m \u001b[1;33m=\u001b[0m \u001b[0mvalue\u001b[0m\u001b[1;33m[\u001b[0m\u001b[1;34m'alert'\u001b[0m\u001b[1;33m]\u001b[0m\u001b[1;33m.\u001b[0m\u001b[0mget\u001b[0m\u001b[1;33m(\u001b[0m\u001b[1;34m'text'\u001b[0m\u001b[1;33m)\u001b[0m\u001b[1;33m\u001b[0m\u001b[1;33m\u001b[0m\u001b[0m\n\u001b[0;32m    241\u001b[0m             \u001b[1;32mraise\u001b[0m \u001b[0mexception_class\u001b[0m\u001b[1;33m(\u001b[0m\u001b[0mmessage\u001b[0m\u001b[1;33m,\u001b[0m \u001b[0mscreen\u001b[0m\u001b[1;33m,\u001b[0m \u001b[0mstacktrace\u001b[0m\u001b[1;33m,\u001b[0m \u001b[0malert_text\u001b[0m\u001b[1;33m)\u001b[0m\u001b[1;33m\u001b[0m\u001b[1;33m\u001b[0m\u001b[0m\n\u001b[1;32m--> 242\u001b[1;33m         \u001b[1;32mraise\u001b[0m \u001b[0mexception_class\u001b[0m\u001b[1;33m(\u001b[0m\u001b[0mmessage\u001b[0m\u001b[1;33m,\u001b[0m \u001b[0mscreen\u001b[0m\u001b[1;33m,\u001b[0m \u001b[0mstacktrace\u001b[0m\u001b[1;33m)\u001b[0m\u001b[1;33m\u001b[0m\u001b[1;33m\u001b[0m\u001b[0m\n\u001b[0m\u001b[0;32m    243\u001b[0m \u001b[1;33m\u001b[0m\u001b[0m\n\u001b[0;32m    244\u001b[0m     \u001b[1;32mdef\u001b[0m \u001b[0m_value_or_default\u001b[0m\u001b[1;33m(\u001b[0m\u001b[0mself\u001b[0m\u001b[1;33m,\u001b[0m \u001b[0mobj\u001b[0m\u001b[1;33m,\u001b[0m \u001b[0mkey\u001b[0m\u001b[1;33m,\u001b[0m \u001b[0mdefault\u001b[0m\u001b[1;33m)\u001b[0m\u001b[1;33m:\u001b[0m\u001b[1;33m\u001b[0m\u001b[1;33m\u001b[0m\u001b[0m\n",
      "\u001b[1;31mElementNotInteractableException\u001b[0m: Message: element not interactable\n  (Session info: MicrosoftEdge=92.0.902.62)\n"
     ]
    }
   ],
   "source": [
    "#finding element by xpath\n",
    "search_loc = driver.find_element_by_xpath('/html/body/div[3]/div/div[1]/div[1]/div/div/form/input[6]')\n",
    "search_loc.send_keys(\"Noida\")"
   ]
  },
  {
   "cell_type": "code",
   "execution_count": 76,
   "metadata": {},
   "outputs": [],
   "source": [
    "search_btn = driver.find_element_by_class_name('gd-btn-mkt')\n",
    "search_btn.click()"
   ]
  },
  {
   "cell_type": "code",
   "execution_count": 77,
   "metadata": {},
   "outputs": [
    {
     "data": {
      "text/plain": [
       "[<selenium.webdriver.remote.webelement.WebElement (session=\"0259e7284c6db8bd5c67d118a884ddb4\", element=\"9188184c-8718-4c29-bda3-2155c456f79d\")>,\n",
       " <selenium.webdriver.remote.webelement.WebElement (session=\"0259e7284c6db8bd5c67d118a884ddb4\", element=\"f7f7a406-c785-49be-8919-971708df98c5\")>,\n",
       " <selenium.webdriver.remote.webelement.WebElement (session=\"0259e7284c6db8bd5c67d118a884ddb4\", element=\"8e839b97-b16f-428a-a72d-707cc45f8a2c\")>,\n",
       " <selenium.webdriver.remote.webelement.WebElement (session=\"0259e7284c6db8bd5c67d118a884ddb4\", element=\"a7d0c2e2-b152-4729-86f3-bc8d9ce4908d\")>,\n",
       " <selenium.webdriver.remote.webelement.WebElement (session=\"0259e7284c6db8bd5c67d118a884ddb4\", element=\"c9b5dd97-9c22-4567-84f0-2ca7540a8bf5\")>,\n",
       " <selenium.webdriver.remote.webelement.WebElement (session=\"0259e7284c6db8bd5c67d118a884ddb4\", element=\"6c0da8d3-fe9f-4018-b018-3c9a36ea2358\")>,\n",
       " <selenium.webdriver.remote.webelement.WebElement (session=\"0259e7284c6db8bd5c67d118a884ddb4\", element=\"5e791773-5a05-44b5-ad56-f51a64d0c07f\")>,\n",
       " <selenium.webdriver.remote.webelement.WebElement (session=\"0259e7284c6db8bd5c67d118a884ddb4\", element=\"4020777c-a1e7-4727-8fa0-c6748a220567\")>,\n",
       " <selenium.webdriver.remote.webelement.WebElement (session=\"0259e7284c6db8bd5c67d118a884ddb4\", element=\"2472fd14-0320-4b3c-88a9-8e57074e2934\")>,\n",
       " <selenium.webdriver.remote.webelement.WebElement (session=\"0259e7284c6db8bd5c67d118a884ddb4\", element=\"6f40a0fa-4a57-467f-9754-fa4665b8de8b\")>,\n",
       " <selenium.webdriver.remote.webelement.WebElement (session=\"0259e7284c6db8bd5c67d118a884ddb4\", element=\"0ce0550b-af7b-41e6-afea-3f8106715d8f\")>,\n",
       " <selenium.webdriver.remote.webelement.WebElement (session=\"0259e7284c6db8bd5c67d118a884ddb4\", element=\"fc5fe0d2-6dbb-4019-bd0c-0b86c1fc814e\")>,\n",
       " <selenium.webdriver.remote.webelement.WebElement (session=\"0259e7284c6db8bd5c67d118a884ddb4\", element=\"46d9e24d-7513-46cc-ba2c-37241bceb5ed\")>,\n",
       " <selenium.webdriver.remote.webelement.WebElement (session=\"0259e7284c6db8bd5c67d118a884ddb4\", element=\"2fa035ad-3c54-469d-8067-e02f1f6bfa2f\")>,\n",
       " <selenium.webdriver.remote.webelement.WebElement (session=\"0259e7284c6db8bd5c67d118a884ddb4\", element=\"24321ef7-7859-476b-87a5-6e102f453f8d\")>,\n",
       " <selenium.webdriver.remote.webelement.WebElement (session=\"0259e7284c6db8bd5c67d118a884ddb4\", element=\"c24c25bb-2905-47b4-bd86-392862916937\")>,\n",
       " <selenium.webdriver.remote.webelement.WebElement (session=\"0259e7284c6db8bd5c67d118a884ddb4\", element=\"2d28f047-afc7-4d1d-bbee-747a6ff140d6\")>,\n",
       " <selenium.webdriver.remote.webelement.WebElement (session=\"0259e7284c6db8bd5c67d118a884ddb4\", element=\"fe31b188-1e05-49c1-9a2e-98135a508f53\")>,\n",
       " <selenium.webdriver.remote.webelement.WebElement (session=\"0259e7284c6db8bd5c67d118a884ddb4\", element=\"951d9ca7-3279-4d98-a13a-1a57025561ac\")>,\n",
       " <selenium.webdriver.remote.webelement.WebElement (session=\"0259e7284c6db8bd5c67d118a884ddb4\", element=\"130905c2-f2a6-4ba7-9519-f86aba587ea8\")>]"
      ]
     },
     "execution_count": 77,
     "metadata": {},
     "output_type": "execute_result"
    }
   ],
   "source": [
    "#extracting all the tags having job titles\n",
    "titles_tags=driver.find_elements_by_xpath(\"//a[@class='css-f3vw95 e1aj7ssy3']\") #element's' gives us all the elements\n",
    "titles_tags"
   ]
  },
  {
   "cell_type": "code",
   "execution_count": 78,
   "metadata": {},
   "outputs": [
    {
     "data": {
      "text/plain": [
       "['Mu Sigma',\n",
       " 'IBM',\n",
       " 'Tata Consultancy Services',\n",
       " 'Impact Analytics',\n",
       " 'Accenture',\n",
       " 'Infosys',\n",
       " 'Capgemini',\n",
       " 'Cognizant Technology Solutions',\n",
       " 'Anheuser-Busch InBev',\n",
       " 'Embibe',\n",
       " 'Fractal',\n",
       " 'Ericsson-Worldwide',\n",
       " 'MiQ',\n",
       " 'Amazon',\n",
       " 'Flutura',\n",
       " 'Wipro',\n",
       " 'HP Inc.',\n",
       " 'Fuzzy Logix',\n",
       " 'Flipkart',\n",
       " 'Genpact']"
      ]
     },
     "execution_count": 78,
     "metadata": {},
     "output_type": "execute_result"
    }
   ],
   "source": [
    "job_titles=[]\n",
    "for i in titles_tags:\n",
    "    job_titles.append(i.text.replace('\\n',''))\n",
    "job_titles"
   ]
  },
  {
   "cell_type": "code",
   "execution_count": 79,
   "metadata": {},
   "outputs": [
    {
     "data": {
      "text/plain": [
       "[<selenium.webdriver.remote.webelement.WebElement (session=\"0259e7284c6db8bd5c67d118a884ddb4\", element=\"29b0bb8b-6d53-4edd-88f6-8f1601b928b5\")>,\n",
       " <selenium.webdriver.remote.webelement.WebElement (session=\"0259e7284c6db8bd5c67d118a884ddb4\", element=\"1519833d-9105-4666-8c42-73e11954a4e1\")>,\n",
       " <selenium.webdriver.remote.webelement.WebElement (session=\"0259e7284c6db8bd5c67d118a884ddb4\", element=\"7295ff80-55f2-4f26-88a1-ae0718f7153f\")>,\n",
       " <selenium.webdriver.remote.webelement.WebElement (session=\"0259e7284c6db8bd5c67d118a884ddb4\", element=\"2b6133fd-a794-4a43-8a96-5f0c273a85d0\")>,\n",
       " <selenium.webdriver.remote.webelement.WebElement (session=\"0259e7284c6db8bd5c67d118a884ddb4\", element=\"b0611ac1-ee84-4331-b29d-974f5e415731\")>,\n",
       " <selenium.webdriver.remote.webelement.WebElement (session=\"0259e7284c6db8bd5c67d118a884ddb4\", element=\"b274387f-7ba4-4921-99be-f174d2f48236\")>,\n",
       " <selenium.webdriver.remote.webelement.WebElement (session=\"0259e7284c6db8bd5c67d118a884ddb4\", element=\"90b1c649-0329-4621-8311-69eda1dc3dae\")>,\n",
       " <selenium.webdriver.remote.webelement.WebElement (session=\"0259e7284c6db8bd5c67d118a884ddb4\", element=\"effb67c5-9104-4016-8adc-2903ca9c5312\")>,\n",
       " <selenium.webdriver.remote.webelement.WebElement (session=\"0259e7284c6db8bd5c67d118a884ddb4\", element=\"96dd9273-930f-43b5-a50f-a30b60982a52\")>,\n",
       " <selenium.webdriver.remote.webelement.WebElement (session=\"0259e7284c6db8bd5c67d118a884ddb4\", element=\"38d61d87-84dd-409b-96e2-06aef184d2b2\")>,\n",
       " <selenium.webdriver.remote.webelement.WebElement (session=\"0259e7284c6db8bd5c67d118a884ddb4\", element=\"36e74cc3-21f1-4939-ba76-41d027742daa\")>,\n",
       " <selenium.webdriver.remote.webelement.WebElement (session=\"0259e7284c6db8bd5c67d118a884ddb4\", element=\"f1edb293-4dd2-4b73-bdd1-3d02df9697f6\")>,\n",
       " <selenium.webdriver.remote.webelement.WebElement (session=\"0259e7284c6db8bd5c67d118a884ddb4\", element=\"948a7c21-38e4-4b25-b9a8-34a0a18747f1\")>,\n",
       " <selenium.webdriver.remote.webelement.WebElement (session=\"0259e7284c6db8bd5c67d118a884ddb4\", element=\"03cd91b5-d495-439f-a47f-728a348195cd\")>,\n",
       " <selenium.webdriver.remote.webelement.WebElement (session=\"0259e7284c6db8bd5c67d118a884ddb4\", element=\"ee4bfd5e-e5c0-45b7-873c-c98e5697415a\")>,\n",
       " <selenium.webdriver.remote.webelement.WebElement (session=\"0259e7284c6db8bd5c67d118a884ddb4\", element=\"3f1cd5b4-b2e1-4af8-a0db-79955c7193be\")>,\n",
       " <selenium.webdriver.remote.webelement.WebElement (session=\"0259e7284c6db8bd5c67d118a884ddb4\", element=\"0893e64e-4365-444e-8765-5371380ba920\")>,\n",
       " <selenium.webdriver.remote.webelement.WebElement (session=\"0259e7284c6db8bd5c67d118a884ddb4\", element=\"d9f238dd-6884-46cf-af14-0e3b456efa56\")>,\n",
       " <selenium.webdriver.remote.webelement.WebElement (session=\"0259e7284c6db8bd5c67d118a884ddb4\", element=\"2de1db90-2c65-44c4-ba6f-895b2df47b35\")>,\n",
       " <selenium.webdriver.remote.webelement.WebElement (session=\"0259e7284c6db8bd5c67d118a884ddb4\", element=\"b40722f8-0213-4119-b4c5-ffcd15271474\")>]"
      ]
     },
     "execution_count": 79,
     "metadata": {},
     "output_type": "execute_result"
    }
   ],
   "source": [
    "#extracting all the average salary\n",
    "average_salary=driver.find_elements_by_xpath(\"//div[@class='col-12 col-lg-4 px-lg-0 d-flex align-items-baseline']//h3\")\n",
    "average_salary"
   ]
  },
  {
   "cell_type": "code",
   "execution_count": 80,
   "metadata": {},
   "outputs": [
    {
     "data": {
      "text/plain": [
       "['₹6,34,950',\n",
       " '₹11,66,914',\n",
       " '₹8,76,867',\n",
       " '₹6,54,456',\n",
       " '₹9,00,000',\n",
       " '₹9,18,747',\n",
       " '₹9,37,500',\n",
       " '₹9,28,801',\n",
       " '₹16,06,066',\n",
       " '₹13,75,266',\n",
       " '₹14,23,677',\n",
       " '₹11,96,088',\n",
       " '₹16,36,038',\n",
       " '₹12,78,830',\n",
       " '₹7,42,446',\n",
       " '₹7,17,428',\n",
       " '₹14,88,231',\n",
       " '₹15,23,880',\n",
       " '₹25,25,826',\n",
       " '₹10,00,000']"
      ]
     },
     "execution_count": 80,
     "metadata": {},
     "output_type": "execute_result"
    }
   ],
   "source": [
    "average_salaries=[]\n",
    "for i in average_salary:\n",
    "    average_salaries.append(i.text)\n",
    "average_salaries"
   ]
  },
  {
   "cell_type": "code",
   "execution_count": 81,
   "metadata": {},
   "outputs": [
    {
     "data": {
      "text/plain": [
       "[<selenium.webdriver.remote.webelement.WebElement (session=\"0259e7284c6db8bd5c67d118a884ddb4\", element=\"5bf1cac7-1d2f-4213-8fc4-84c9534663dd\")>,\n",
       " <selenium.webdriver.remote.webelement.WebElement (session=\"0259e7284c6db8bd5c67d118a884ddb4\", element=\"19d62962-0038-4ce9-9077-5de0bf3e7feb\")>,\n",
       " <selenium.webdriver.remote.webelement.WebElement (session=\"0259e7284c6db8bd5c67d118a884ddb4\", element=\"a88f53d8-e354-4ce4-aa7d-bc2e60583e95\")>,\n",
       " <selenium.webdriver.remote.webelement.WebElement (session=\"0259e7284c6db8bd5c67d118a884ddb4\", element=\"206bf01f-8c09-4186-9cce-f7fd556666da\")>,\n",
       " <selenium.webdriver.remote.webelement.WebElement (session=\"0259e7284c6db8bd5c67d118a884ddb4\", element=\"4d451e8e-1c66-471c-a794-8d335bbda742\")>,\n",
       " <selenium.webdriver.remote.webelement.WebElement (session=\"0259e7284c6db8bd5c67d118a884ddb4\", element=\"ab3583a4-d5e4-467a-9b55-19d021e6ab67\")>,\n",
       " <selenium.webdriver.remote.webelement.WebElement (session=\"0259e7284c6db8bd5c67d118a884ddb4\", element=\"c4ead849-be3e-4eff-837f-6708091693cc\")>,\n",
       " <selenium.webdriver.remote.webelement.WebElement (session=\"0259e7284c6db8bd5c67d118a884ddb4\", element=\"12087eba-4516-4403-ad84-138e281e15c0\")>,\n",
       " <selenium.webdriver.remote.webelement.WebElement (session=\"0259e7284c6db8bd5c67d118a884ddb4\", element=\"dc58a86b-b1b7-433e-acf7-d1a212cca0e1\")>,\n",
       " <selenium.webdriver.remote.webelement.WebElement (session=\"0259e7284c6db8bd5c67d118a884ddb4\", element=\"0be4cc29-9f5f-437f-a4c9-84564e85e751\")>,\n",
       " <selenium.webdriver.remote.webelement.WebElement (session=\"0259e7284c6db8bd5c67d118a884ddb4\", element=\"5d790850-ac17-47ad-9a10-29e4d704f335\")>,\n",
       " <selenium.webdriver.remote.webelement.WebElement (session=\"0259e7284c6db8bd5c67d118a884ddb4\", element=\"37152d7f-e8c5-4672-8443-4e313fa79042\")>,\n",
       " <selenium.webdriver.remote.webelement.WebElement (session=\"0259e7284c6db8bd5c67d118a884ddb4\", element=\"334706e7-0fc0-42f7-956f-1ea80fe3d619\")>,\n",
       " <selenium.webdriver.remote.webelement.WebElement (session=\"0259e7284c6db8bd5c67d118a884ddb4\", element=\"34a8e5b9-a3c6-4358-b056-a799448488a4\")>,\n",
       " <selenium.webdriver.remote.webelement.WebElement (session=\"0259e7284c6db8bd5c67d118a884ddb4\", element=\"c608f6ee-724a-4905-9a44-5ab0e9cf506f\")>,\n",
       " <selenium.webdriver.remote.webelement.WebElement (session=\"0259e7284c6db8bd5c67d118a884ddb4\", element=\"dbfbc682-b545-49d3-b0d4-f709213b428a\")>,\n",
       " <selenium.webdriver.remote.webelement.WebElement (session=\"0259e7284c6db8bd5c67d118a884ddb4\", element=\"c7723d9c-11dc-412c-819e-be3d9e423f17\")>,\n",
       " <selenium.webdriver.remote.webelement.WebElement (session=\"0259e7284c6db8bd5c67d118a884ddb4\", element=\"8bddba9f-2886-4875-a553-aa311c01d3dc\")>,\n",
       " <selenium.webdriver.remote.webelement.WebElement (session=\"0259e7284c6db8bd5c67d118a884ddb4\", element=\"cbdc2955-f88d-4cf3-af17-31a3134bca2b\")>,\n",
       " <selenium.webdriver.remote.webelement.WebElement (session=\"0259e7284c6db8bd5c67d118a884ddb4\", element=\"91fc5057-d867-43c0-92bd-679cc90140e0\")>,\n",
       " <selenium.webdriver.remote.webelement.WebElement (session=\"0259e7284c6db8bd5c67d118a884ddb4\", element=\"2608990e-bde8-4076-a8af-0930a373483e\")>,\n",
       " <selenium.webdriver.remote.webelement.WebElement (session=\"0259e7284c6db8bd5c67d118a884ddb4\", element=\"b976e397-f73f-41c3-8245-257329046c7f\")>,\n",
       " <selenium.webdriver.remote.webelement.WebElement (session=\"0259e7284c6db8bd5c67d118a884ddb4\", element=\"557ce235-defe-421b-bc82-d2a2b24f6564\")>,\n",
       " <selenium.webdriver.remote.webelement.WebElement (session=\"0259e7284c6db8bd5c67d118a884ddb4\", element=\"84d72ada-ff93-45d9-b185-18792dcb8263\")>,\n",
       " <selenium.webdriver.remote.webelement.WebElement (session=\"0259e7284c6db8bd5c67d118a884ddb4\", element=\"6b2e28f3-967c-4842-bd39-b2c6c08bffee\")>,\n",
       " <selenium.webdriver.remote.webelement.WebElement (session=\"0259e7284c6db8bd5c67d118a884ddb4\", element=\"e7e457e1-96a1-4282-93f0-5ff673f17daa\")>,\n",
       " <selenium.webdriver.remote.webelement.WebElement (session=\"0259e7284c6db8bd5c67d118a884ddb4\", element=\"e1123ed2-d2f7-4e6e-a887-de083b728991\")>,\n",
       " <selenium.webdriver.remote.webelement.WebElement (session=\"0259e7284c6db8bd5c67d118a884ddb4\", element=\"fc0df0ed-5ab1-4356-a2f5-cc9552a72f12\")>,\n",
       " <selenium.webdriver.remote.webelement.WebElement (session=\"0259e7284c6db8bd5c67d118a884ddb4\", element=\"f33f3689-6419-473e-bc51-026bfd0b9b6a\")>,\n",
       " <selenium.webdriver.remote.webelement.WebElement (session=\"0259e7284c6db8bd5c67d118a884ddb4\", element=\"150a7392-92e1-46ac-a1aa-674d1d59991d\")>,\n",
       " <selenium.webdriver.remote.webelement.WebElement (session=\"0259e7284c6db8bd5c67d118a884ddb4\", element=\"7ccddc62-3cb8-492d-8e67-93f4bdb92170\")>,\n",
       " <selenium.webdriver.remote.webelement.WebElement (session=\"0259e7284c6db8bd5c67d118a884ddb4\", element=\"74e5ffe9-3226-4270-bab4-069d066df5cd\")>,\n",
       " <selenium.webdriver.remote.webelement.WebElement (session=\"0259e7284c6db8bd5c67d118a884ddb4\", element=\"8835020c-407d-4b7e-8984-373625d7cf99\")>,\n",
       " <selenium.webdriver.remote.webelement.WebElement (session=\"0259e7284c6db8bd5c67d118a884ddb4\", element=\"04628acd-0991-4432-a5d5-f249442a6643\")>,\n",
       " <selenium.webdriver.remote.webelement.WebElement (session=\"0259e7284c6db8bd5c67d118a884ddb4\", element=\"898dbd49-57db-4e60-9f34-c124a7e37ddb\")>,\n",
       " <selenium.webdriver.remote.webelement.WebElement (session=\"0259e7284c6db8bd5c67d118a884ddb4\", element=\"f6408964-da01-4420-aa61-e6851cf683c0\")>,\n",
       " <selenium.webdriver.remote.webelement.WebElement (session=\"0259e7284c6db8bd5c67d118a884ddb4\", element=\"78cf9515-99b7-440a-9fba-e81c78996df3\")>,\n",
       " <selenium.webdriver.remote.webelement.WebElement (session=\"0259e7284c6db8bd5c67d118a884ddb4\", element=\"5e42a499-8f7d-498d-9278-d6c8a22ff5e9\")>,\n",
       " <selenium.webdriver.remote.webelement.WebElement (session=\"0259e7284c6db8bd5c67d118a884ddb4\", element=\"3297f008-09d8-47dd-93c8-d46c7177f5a4\")>,\n",
       " <selenium.webdriver.remote.webelement.WebElement (session=\"0259e7284c6db8bd5c67d118a884ddb4\", element=\"fc6ad5f4-39b2-4183-8619-b693599c193a\")>]"
      ]
     },
     "execution_count": 81,
     "metadata": {},
     "output_type": "execute_result"
    }
   ],
   "source": [
    "#extracting rating of the company\n",
    "company_rating=driver.find_elements_by_xpath(\"//div[@class='d-flex align-items-center mt-xxsm']//span\")\n",
    "company_rating"
   ]
  },
  {
   "cell_type": "code",
   "execution_count": 82,
   "metadata": {},
   "outputs": [
    {
     "data": {
      "text/plain": [
       "['3.3',\n",
       " '★',\n",
       " '3.9',\n",
       " '★',\n",
       " '3.9',\n",
       " '★',\n",
       " '4',\n",
       " '★',\n",
       " '4.1',\n",
       " '★',\n",
       " '3.4',\n",
       " '★',\n",
       " '3.8',\n",
       " '★',\n",
       " '3.8',\n",
       " '★',\n",
       " '3.7',\n",
       " '★',\n",
       " '4.5',\n",
       " '★',\n",
       " '4',\n",
       " '★',\n",
       " '4',\n",
       " '★',\n",
       " '4',\n",
       " '★',\n",
       " '3.8',\n",
       " '★',\n",
       " '4.6',\n",
       " '★',\n",
       " '3.4',\n",
       " '★',\n",
       " '4.2',\n",
       " '★',\n",
       " '3.6',\n",
       " '★',\n",
       " '4.2',\n",
       " '★',\n",
       " '3.8',\n",
       " '★']"
      ]
     },
     "execution_count": 82,
     "metadata": {},
     "output_type": "execute_result"
    }
   ],
   "source": [
    "company_ratings=[]\n",
    "for i in company_rating:\n",
    "    company_ratings.append(i.text)\n",
    "company_ratings"
   ]
  },
  {
   "cell_type": "code",
   "execution_count": 83,
   "metadata": {},
   "outputs": [
    {
     "data": {
      "text/plain": [
       "['3.3',\n",
       " '3.9',\n",
       " '3.9',\n",
       " '4',\n",
       " '4.1',\n",
       " '3.4',\n",
       " '3.8',\n",
       " '3.8',\n",
       " '3.7',\n",
       " '4.5',\n",
       " '4',\n",
       " '4',\n",
       " '4',\n",
       " '3.8',\n",
       " '4.6',\n",
       " '3.4',\n",
       " '4.2',\n",
       " '3.6',\n",
       " '4.2',\n",
       " '3.8']"
      ]
     },
     "execution_count": 83,
     "metadata": {},
     "output_type": "execute_result"
    }
   ],
   "source": [
    "company_ratingonly = []\n",
    "for i in range(0, len(company_ratings),2):\n",
    "    company_ratingonly.append(company_ratings[i])\n",
    "company_ratingonly"
   ]
  },
  {
   "cell_type": "code",
   "execution_count": 84,
   "metadata": {},
   "outputs": [
    {
     "data": {
      "text/plain": [
       "[<selenium.webdriver.remote.webelement.WebElement (session=\"0259e7284c6db8bd5c67d118a884ddb4\", element=\"ccb3ecf1-d82c-4276-96da-667a290db7f1\")>,\n",
       " <selenium.webdriver.remote.webelement.WebElement (session=\"0259e7284c6db8bd5c67d118a884ddb4\", element=\"4e46cf2b-b322-4deb-96b8-ae442c852045\")>,\n",
       " <selenium.webdriver.remote.webelement.WebElement (session=\"0259e7284c6db8bd5c67d118a884ddb4\", element=\"8d00cc58-f8ae-4e5d-9116-aafb692e5659\")>,\n",
       " <selenium.webdriver.remote.webelement.WebElement (session=\"0259e7284c6db8bd5c67d118a884ddb4\", element=\"d83dd577-cc61-43e6-8bcb-a6ae058820ee\")>,\n",
       " <selenium.webdriver.remote.webelement.WebElement (session=\"0259e7284c6db8bd5c67d118a884ddb4\", element=\"fec7d323-0ce5-4681-b6ae-f547f53670b9\")>,\n",
       " <selenium.webdriver.remote.webelement.WebElement (session=\"0259e7284c6db8bd5c67d118a884ddb4\", element=\"230e532c-e3dd-480c-82c0-21e1f403a90c\")>,\n",
       " <selenium.webdriver.remote.webelement.WebElement (session=\"0259e7284c6db8bd5c67d118a884ddb4\", element=\"9acd2596-5094-4234-b16b-2202dfbebff4\")>,\n",
       " <selenium.webdriver.remote.webelement.WebElement (session=\"0259e7284c6db8bd5c67d118a884ddb4\", element=\"3e94eb48-5e67-4ef8-b377-7f35b4813c99\")>,\n",
       " <selenium.webdriver.remote.webelement.WebElement (session=\"0259e7284c6db8bd5c67d118a884ddb4\", element=\"c1b00102-c921-4f39-b98b-5f592d6c283a\")>,\n",
       " <selenium.webdriver.remote.webelement.WebElement (session=\"0259e7284c6db8bd5c67d118a884ddb4\", element=\"17c54047-6022-4f15-83b4-4c61579a3278\")>,\n",
       " <selenium.webdriver.remote.webelement.WebElement (session=\"0259e7284c6db8bd5c67d118a884ddb4\", element=\"6ddc40b5-804b-46d8-bdcb-77cf1ede6ace\")>,\n",
       " <selenium.webdriver.remote.webelement.WebElement (session=\"0259e7284c6db8bd5c67d118a884ddb4\", element=\"ff9ff5d2-f627-4d66-9cad-7429a835f895\")>,\n",
       " <selenium.webdriver.remote.webelement.WebElement (session=\"0259e7284c6db8bd5c67d118a884ddb4\", element=\"9e7214bb-0340-4e85-a29a-36602fe3872e\")>,\n",
       " <selenium.webdriver.remote.webelement.WebElement (session=\"0259e7284c6db8bd5c67d118a884ddb4\", element=\"72ad6156-ed59-48a8-b463-b868eda309f7\")>,\n",
       " <selenium.webdriver.remote.webelement.WebElement (session=\"0259e7284c6db8bd5c67d118a884ddb4\", element=\"55dac6b3-58f1-4d74-a376-a9fcd24b02ae\")>,\n",
       " <selenium.webdriver.remote.webelement.WebElement (session=\"0259e7284c6db8bd5c67d118a884ddb4\", element=\"007e3237-6805-4b53-a4e9-67fb494fed8c\")>,\n",
       " <selenium.webdriver.remote.webelement.WebElement (session=\"0259e7284c6db8bd5c67d118a884ddb4\", element=\"7fef6fa4-37d3-44b6-932a-a37c0290ac5a\")>,\n",
       " <selenium.webdriver.remote.webelement.WebElement (session=\"0259e7284c6db8bd5c67d118a884ddb4\", element=\"2ab1044a-e507-475d-9212-db40ae077e24\")>,\n",
       " <selenium.webdriver.remote.webelement.WebElement (session=\"0259e7284c6db8bd5c67d118a884ddb4\", element=\"bff51767-f55e-451e-838a-87b9db7ebdef\")>,\n",
       " <selenium.webdriver.remote.webelement.WebElement (session=\"0259e7284c6db8bd5c67d118a884ddb4\", element=\"def6de63-f7bd-4a36-b01f-b73e491b67c9\")>]"
      ]
     },
     "execution_count": 84,
     "metadata": {},
     "output_type": "execute_result"
    }
   ],
   "source": [
    "#extracting salary range\n",
    "salary_range=driver.find_elements_by_xpath(\"//span[@class='d-block d-lg-none m-0 css-1b6bxoo']\") \n",
    "salary_range"
   ]
  },
  {
   "cell_type": "code",
   "execution_count": 85,
   "metadata": {},
   "outputs": [
    {
     "data": {
      "text/plain": [
       "['Range: ₹3L - ₹47L',\n",
       " 'Range: ₹2L - ₹42L',\n",
       " 'Range: ₹2L - ₹16L',\n",
       " 'Range: ₹5L - ₹9L',\n",
       " 'Range: ₹4L - ₹30L',\n",
       " 'Range: ₹4L - ₹32L',\n",
       " 'Range: ₹5L - ₹14L',\n",
       " 'Range: ₹3L - ₹17L',\n",
       " 'Range: ₹12L - ₹19L',\n",
       " 'Range: ₹9L - ₹19L',\n",
       " 'Range: ₹10L - ₹20L',\n",
       " 'Range: ₹3L - ₹35L',\n",
       " 'Range: ₹14L - ₹19L',\n",
       " 'Range: ₹3L - ₹44L',\n",
       " 'Range: ₹3L - ₹15L',\n",
       " 'Range: ₹2L - ₹28L',\n",
       " 'Range: ₹7L - ₹18L',\n",
       " 'Range: ₹9L - ₹22L',\n",
       " 'Range: ₹18L - ₹43L',\n",
       " 'Range: ₹6L - ₹12L']"
      ]
     },
     "execution_count": 85,
     "metadata": {},
     "output_type": "execute_result"
    }
   ],
   "source": [
    "salary_ranges=[]\n",
    "for i in salary_range:\n",
    "    salary_ranges.append(i.text)\n",
    "salary_ranges"
   ]
  },
  {
   "cell_type": "code",
   "execution_count": 86,
   "metadata": {},
   "outputs": [
    {
     "name": "stdout",
     "output_type": "stream",
     "text": [
      "20 20 20 20\n"
     ]
    }
   ],
   "source": [
    "print(len(job_titles),len(average_salaries),len(company_ratingonly),len(salary_ranges))"
   ]
  },
  {
   "cell_type": "code",
   "execution_count": 87,
   "metadata": {},
   "outputs": [],
   "source": [
    "import pandas as pd\n",
    "jobs=pd.DataFrame({})\n",
    "jobs['company_names']=job_titles\n",
    "jobs['Average_salary']=average_salaries\n",
    "jobs['Company rating']=company_ratingonly\n",
    "jobs['Salary range']=salary_ranges"
   ]
  },
  {
   "cell_type": "code",
   "execution_count": 88,
   "metadata": {},
   "outputs": [
    {
     "data": {
      "text/html": [
       "<div>\n",
       "<style scoped>\n",
       "    .dataframe tbody tr th:only-of-type {\n",
       "        vertical-align: middle;\n",
       "    }\n",
       "\n",
       "    .dataframe tbody tr th {\n",
       "        vertical-align: top;\n",
       "    }\n",
       "\n",
       "    .dataframe thead th {\n",
       "        text-align: right;\n",
       "    }\n",
       "</style>\n",
       "<table border=\"1\" class=\"dataframe\">\n",
       "  <thead>\n",
       "    <tr style=\"text-align: right;\">\n",
       "      <th></th>\n",
       "      <th>company_names</th>\n",
       "      <th>Average_salary</th>\n",
       "      <th>Company rating</th>\n",
       "      <th>Salary range</th>\n",
       "    </tr>\n",
       "  </thead>\n",
       "  <tbody>\n",
       "    <tr>\n",
       "      <th>0</th>\n",
       "      <td>Mu Sigma</td>\n",
       "      <td>₹6,34,950</td>\n",
       "      <td>3.3</td>\n",
       "      <td>Range: ₹3L - ₹47L</td>\n",
       "    </tr>\n",
       "    <tr>\n",
       "      <th>1</th>\n",
       "      <td>IBM</td>\n",
       "      <td>₹11,66,914</td>\n",
       "      <td>3.9</td>\n",
       "      <td>Range: ₹2L - ₹42L</td>\n",
       "    </tr>\n",
       "    <tr>\n",
       "      <th>2</th>\n",
       "      <td>Tata Consultancy Services</td>\n",
       "      <td>₹8,76,867</td>\n",
       "      <td>3.9</td>\n",
       "      <td>Range: ₹2L - ₹16L</td>\n",
       "    </tr>\n",
       "    <tr>\n",
       "      <th>3</th>\n",
       "      <td>Impact Analytics</td>\n",
       "      <td>₹6,54,456</td>\n",
       "      <td>4</td>\n",
       "      <td>Range: ₹5L - ₹9L</td>\n",
       "    </tr>\n",
       "    <tr>\n",
       "      <th>4</th>\n",
       "      <td>Accenture</td>\n",
       "      <td>₹9,00,000</td>\n",
       "      <td>4.1</td>\n",
       "      <td>Range: ₹4L - ₹30L</td>\n",
       "    </tr>\n",
       "    <tr>\n",
       "      <th>5</th>\n",
       "      <td>Infosys</td>\n",
       "      <td>₹9,18,747</td>\n",
       "      <td>3.4</td>\n",
       "      <td>Range: ₹4L - ₹32L</td>\n",
       "    </tr>\n",
       "    <tr>\n",
       "      <th>6</th>\n",
       "      <td>Capgemini</td>\n",
       "      <td>₹9,37,500</td>\n",
       "      <td>3.8</td>\n",
       "      <td>Range: ₹5L - ₹14L</td>\n",
       "    </tr>\n",
       "    <tr>\n",
       "      <th>7</th>\n",
       "      <td>Cognizant Technology Solutions</td>\n",
       "      <td>₹9,28,801</td>\n",
       "      <td>3.8</td>\n",
       "      <td>Range: ₹3L - ₹17L</td>\n",
       "    </tr>\n",
       "    <tr>\n",
       "      <th>8</th>\n",
       "      <td>Anheuser-Busch InBev</td>\n",
       "      <td>₹16,06,066</td>\n",
       "      <td>3.7</td>\n",
       "      <td>Range: ₹12L - ₹19L</td>\n",
       "    </tr>\n",
       "    <tr>\n",
       "      <th>9</th>\n",
       "      <td>Embibe</td>\n",
       "      <td>₹13,75,266</td>\n",
       "      <td>4.5</td>\n",
       "      <td>Range: ₹9L - ₹19L</td>\n",
       "    </tr>\n",
       "    <tr>\n",
       "      <th>10</th>\n",
       "      <td>Fractal</td>\n",
       "      <td>₹14,23,677</td>\n",
       "      <td>4</td>\n",
       "      <td>Range: ₹10L - ₹20L</td>\n",
       "    </tr>\n",
       "    <tr>\n",
       "      <th>11</th>\n",
       "      <td>Ericsson-Worldwide</td>\n",
       "      <td>₹11,96,088</td>\n",
       "      <td>4</td>\n",
       "      <td>Range: ₹3L - ₹35L</td>\n",
       "    </tr>\n",
       "    <tr>\n",
       "      <th>12</th>\n",
       "      <td>MiQ</td>\n",
       "      <td>₹16,36,038</td>\n",
       "      <td>4</td>\n",
       "      <td>Range: ₹14L - ₹19L</td>\n",
       "    </tr>\n",
       "    <tr>\n",
       "      <th>13</th>\n",
       "      <td>Amazon</td>\n",
       "      <td>₹12,78,830</td>\n",
       "      <td>3.8</td>\n",
       "      <td>Range: ₹3L - ₹44L</td>\n",
       "    </tr>\n",
       "    <tr>\n",
       "      <th>14</th>\n",
       "      <td>Flutura</td>\n",
       "      <td>₹7,42,446</td>\n",
       "      <td>4.6</td>\n",
       "      <td>Range: ₹3L - ₹15L</td>\n",
       "    </tr>\n",
       "    <tr>\n",
       "      <th>15</th>\n",
       "      <td>Wipro</td>\n",
       "      <td>₹7,17,428</td>\n",
       "      <td>3.4</td>\n",
       "      <td>Range: ₹2L - ₹28L</td>\n",
       "    </tr>\n",
       "    <tr>\n",
       "      <th>16</th>\n",
       "      <td>HP Inc.</td>\n",
       "      <td>₹14,88,231</td>\n",
       "      <td>4.2</td>\n",
       "      <td>Range: ₹7L - ₹18L</td>\n",
       "    </tr>\n",
       "    <tr>\n",
       "      <th>17</th>\n",
       "      <td>Fuzzy Logix</td>\n",
       "      <td>₹15,23,880</td>\n",
       "      <td>3.6</td>\n",
       "      <td>Range: ₹9L - ₹22L</td>\n",
       "    </tr>\n",
       "    <tr>\n",
       "      <th>18</th>\n",
       "      <td>Flipkart</td>\n",
       "      <td>₹25,25,826</td>\n",
       "      <td>4.2</td>\n",
       "      <td>Range: ₹18L - ₹43L</td>\n",
       "    </tr>\n",
       "    <tr>\n",
       "      <th>19</th>\n",
       "      <td>Genpact</td>\n",
       "      <td>₹10,00,000</td>\n",
       "      <td>3.8</td>\n",
       "      <td>Range: ₹6L - ₹12L</td>\n",
       "    </tr>\n",
       "  </tbody>\n",
       "</table>\n",
       "</div>"
      ],
      "text/plain": [
       "                     company_names Average_salary Company rating  \\\n",
       "0                         Mu Sigma      ₹6,34,950            3.3   \n",
       "1                              IBM     ₹11,66,914            3.9   \n",
       "2        Tata Consultancy Services      ₹8,76,867            3.9   \n",
       "3                 Impact Analytics      ₹6,54,456              4   \n",
       "4                        Accenture      ₹9,00,000            4.1   \n",
       "5                          Infosys      ₹9,18,747            3.4   \n",
       "6                        Capgemini      ₹9,37,500            3.8   \n",
       "7   Cognizant Technology Solutions      ₹9,28,801            3.8   \n",
       "8             Anheuser-Busch InBev     ₹16,06,066            3.7   \n",
       "9                           Embibe     ₹13,75,266            4.5   \n",
       "10                         Fractal     ₹14,23,677              4   \n",
       "11              Ericsson-Worldwide     ₹11,96,088              4   \n",
       "12                             MiQ     ₹16,36,038              4   \n",
       "13                          Amazon     ₹12,78,830            3.8   \n",
       "14                         Flutura      ₹7,42,446            4.6   \n",
       "15                           Wipro      ₹7,17,428            3.4   \n",
       "16                         HP Inc.     ₹14,88,231            4.2   \n",
       "17                     Fuzzy Logix     ₹15,23,880            3.6   \n",
       "18                        Flipkart     ₹25,25,826            4.2   \n",
       "19                         Genpact     ₹10,00,000            3.8   \n",
       "\n",
       "          Salary range  \n",
       "0    Range: ₹3L - ₹47L  \n",
       "1    Range: ₹2L - ₹42L  \n",
       "2    Range: ₹2L - ₹16L  \n",
       "3     Range: ₹5L - ₹9L  \n",
       "4    Range: ₹4L - ₹30L  \n",
       "5    Range: ₹4L - ₹32L  \n",
       "6    Range: ₹5L - ₹14L  \n",
       "7    Range: ₹3L - ₹17L  \n",
       "8   Range: ₹12L - ₹19L  \n",
       "9    Range: ₹9L - ₹19L  \n",
       "10  Range: ₹10L - ₹20L  \n",
       "11   Range: ₹3L - ₹35L  \n",
       "12  Range: ₹14L - ₹19L  \n",
       "13   Range: ₹3L - ₹44L  \n",
       "14   Range: ₹3L - ₹15L  \n",
       "15   Range: ₹2L - ₹28L  \n",
       "16   Range: ₹7L - ₹18L  \n",
       "17   Range: ₹9L - ₹22L  \n",
       "18  Range: ₹18L - ₹43L  \n",
       "19   Range: ₹6L - ₹12L  "
      ]
     },
     "execution_count": 88,
     "metadata": {},
     "output_type": "execute_result"
    }
   ],
   "source": [
    "jobs"
   ]
  },
  {
   "cell_type": "code",
   "execution_count": 89,
   "metadata": {},
   "outputs": [
    {
     "data": {
      "text/html": [
       "<div>\n",
       "<style scoped>\n",
       "    .dataframe tbody tr th:only-of-type {\n",
       "        vertical-align: middle;\n",
       "    }\n",
       "\n",
       "    .dataframe tbody tr th {\n",
       "        vertical-align: top;\n",
       "    }\n",
       "\n",
       "    .dataframe thead th {\n",
       "        text-align: right;\n",
       "    }\n",
       "</style>\n",
       "<table border=\"1\" class=\"dataframe\">\n",
       "  <thead>\n",
       "    <tr style=\"text-align: right;\">\n",
       "      <th></th>\n",
       "      <th>company_names</th>\n",
       "      <th>Average_salary</th>\n",
       "      <th>Company rating</th>\n",
       "      <th>Salary range</th>\n",
       "    </tr>\n",
       "  </thead>\n",
       "  <tbody>\n",
       "    <tr>\n",
       "      <th>0</th>\n",
       "      <td>Mu Sigma</td>\n",
       "      <td>₹6,34,950</td>\n",
       "      <td>3.3</td>\n",
       "      <td>Range: ₹3L - ₹47L</td>\n",
       "    </tr>\n",
       "    <tr>\n",
       "      <th>1</th>\n",
       "      <td>IBM</td>\n",
       "      <td>₹11,66,914</td>\n",
       "      <td>3.9</td>\n",
       "      <td>Range: ₹2L - ₹42L</td>\n",
       "    </tr>\n",
       "    <tr>\n",
       "      <th>2</th>\n",
       "      <td>Tata Consultancy Services</td>\n",
       "      <td>₹8,76,867</td>\n",
       "      <td>3.9</td>\n",
       "      <td>Range: ₹2L - ₹16L</td>\n",
       "    </tr>\n",
       "    <tr>\n",
       "      <th>3</th>\n",
       "      <td>Impact Analytics</td>\n",
       "      <td>₹6,54,456</td>\n",
       "      <td>4</td>\n",
       "      <td>Range: ₹5L - ₹9L</td>\n",
       "    </tr>\n",
       "    <tr>\n",
       "      <th>4</th>\n",
       "      <td>Accenture</td>\n",
       "      <td>₹9,00,000</td>\n",
       "      <td>4.1</td>\n",
       "      <td>Range: ₹4L - ₹30L</td>\n",
       "    </tr>\n",
       "    <tr>\n",
       "      <th>5</th>\n",
       "      <td>Infosys</td>\n",
       "      <td>₹9,18,747</td>\n",
       "      <td>3.4</td>\n",
       "      <td>Range: ₹4L - ₹32L</td>\n",
       "    </tr>\n",
       "    <tr>\n",
       "      <th>6</th>\n",
       "      <td>Capgemini</td>\n",
       "      <td>₹9,37,500</td>\n",
       "      <td>3.8</td>\n",
       "      <td>Range: ₹5L - ₹14L</td>\n",
       "    </tr>\n",
       "    <tr>\n",
       "      <th>7</th>\n",
       "      <td>Cognizant Technology Solutions</td>\n",
       "      <td>₹9,28,801</td>\n",
       "      <td>3.8</td>\n",
       "      <td>Range: ₹3L - ₹17L</td>\n",
       "    </tr>\n",
       "    <tr>\n",
       "      <th>8</th>\n",
       "      <td>Anheuser-Busch InBev</td>\n",
       "      <td>₹16,06,066</td>\n",
       "      <td>3.7</td>\n",
       "      <td>Range: ₹12L - ₹19L</td>\n",
       "    </tr>\n",
       "    <tr>\n",
       "      <th>9</th>\n",
       "      <td>Embibe</td>\n",
       "      <td>₹13,75,266</td>\n",
       "      <td>4.5</td>\n",
       "      <td>Range: ₹9L - ₹19L</td>\n",
       "    </tr>\n",
       "  </tbody>\n",
       "</table>\n",
       "</div>"
      ],
      "text/plain": [
       "                    company_names Average_salary Company rating  \\\n",
       "0                        Mu Sigma      ₹6,34,950            3.3   \n",
       "1                             IBM     ₹11,66,914            3.9   \n",
       "2       Tata Consultancy Services      ₹8,76,867            3.9   \n",
       "3                Impact Analytics      ₹6,54,456              4   \n",
       "4                       Accenture      ₹9,00,000            4.1   \n",
       "5                         Infosys      ₹9,18,747            3.4   \n",
       "6                       Capgemini      ₹9,37,500            3.8   \n",
       "7  Cognizant Technology Solutions      ₹9,28,801            3.8   \n",
       "8            Anheuser-Busch InBev     ₹16,06,066            3.7   \n",
       "9                          Embibe     ₹13,75,266            4.5   \n",
       "\n",
       "         Salary range  \n",
       "0   Range: ₹3L - ₹47L  \n",
       "1   Range: ₹2L - ₹42L  \n",
       "2   Range: ₹2L - ₹16L  \n",
       "3    Range: ₹5L - ₹9L  \n",
       "4   Range: ₹4L - ₹30L  \n",
       "5   Range: ₹4L - ₹32L  \n",
       "6   Range: ₹5L - ₹14L  \n",
       "7   Range: ₹3L - ₹17L  \n",
       "8  Range: ₹12L - ₹19L  \n",
       "9   Range: ₹9L - ₹19L  "
      ]
     },
     "execution_count": 89,
     "metadata": {},
     "output_type": "execute_result"
    }
   ],
   "source": [
    "a=jobs\n",
    "b=a[:10]\n",
    "b"
   ]
  },
  {
   "cell_type": "markdown",
   "metadata": {},
   "source": []
  },
  {
   "cell_type": "code",
   "execution_count": null,
   "metadata": {},
   "outputs": [],
   "source": []
  },
  {
   "cell_type": "code",
   "execution_count": null,
   "metadata": {},
   "outputs": [],
   "source": []
  },
  {
   "cell_type": "code",
   "execution_count": null,
   "metadata": {},
   "outputs": [],
   "source": []
  },
  {
   "cell_type": "code",
   "execution_count": null,
   "metadata": {},
   "outputs": [],
   "source": []
  },
  {
   "cell_type": "code",
   "execution_count": null,
   "metadata": {},
   "outputs": [],
   "source": []
  },
  {
   "cell_type": "code",
   "execution_count": null,
   "metadata": {},
   "outputs": [],
   "source": []
  },
  {
   "cell_type": "code",
   "execution_count": null,
   "metadata": {},
   "outputs": [],
   "source": []
  }
 ],
 "metadata": {
  "kernelspec": {
   "display_name": "Python 3",
   "language": "python",
   "name": "python3"
  },
  "language_info": {
   "codemirror_mode": {
    "name": "ipython",
    "version": 3
   },
   "file_extension": ".py",
   "mimetype": "text/x-python",
   "name": "python",
   "nbconvert_exporter": "python",
   "pygments_lexer": "ipython3",
   "version": "3.8.5"
  }
 },
 "nbformat": 4,
 "nbformat_minor": 4
}
